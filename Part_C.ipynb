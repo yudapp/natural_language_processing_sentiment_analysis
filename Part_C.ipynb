{
  "nbformat": 4,
  "nbformat_minor": 0,
  "metadata": {
    "colab": {
      "name": "NLP_Assignment_C.ipynb",
      "version": "0.3.2",
      "provenance": [],
      "collapsed_sections": []
    },
    "kernelspec": {
      "name": "python3",
      "display_name": "Python 3"
    },
    "accelerator": "GPU"
  },
  "cells": [
    {
      "metadata": {
        "id": "CbI7drQr6919",
        "colab_type": "text"
      },
      "cell_type": "markdown",
      "source": [
        "#  Lab 4 -  LSTM for Text Classification"
      ]
    },
    {
      "metadata": {
        "id": "rgPngV82692I",
        "colab_type": "text"
      },
      "cell_type": "markdown",
      "source": [
        "### 1. Getting the Dataset"
      ]
    },
    {
      "metadata": {
        "id": "J1Dp4pnT692P",
        "colab_type": "code",
        "outputId": "0dbfaa4f-8d09-47ab-8ff6-b5a21461c12b",
        "colab": {
          "base_uri": "https://localhost:8080/",
          "height": 35
        }
      },
      "cell_type": "code",
      "source": [
        "import keras\n",
        "import numpy as np"
      ],
      "execution_count": 0,
      "outputs": [
        {
          "output_type": "stream",
          "text": [
            "Using TensorFlow backend.\n"
          ],
          "name": "stderr"
        }
      ]
    },
    {
      "metadata": {
        "id": "pEmdnxuD692x",
        "colab_type": "text"
      },
      "cell_type": "markdown",
      "source": [
        "Load only the top 10000 words in the vocabulary. Reserve index 0 for padding, 1 represents the beginning of the sentence and 2 for unknown words in the vocabulary"
      ]
    },
    {
      "metadata": {
        "id": "cU7y0BAa6922",
        "colab_type": "code",
        "colab": {}
      },
      "cell_type": "code",
      "source": [
        "VOCAB_SIZE = 10000\n",
        "INDEX_FROM = 2\n",
        "imdb = keras.datasets.imdb"
      ],
      "execution_count": 0,
      "outputs": []
    },
    {
      "metadata": {
        "id": "2hCGAl0x693E",
        "colab_type": "code",
        "outputId": "cd61be4b-4916-48cf-9ea3-bc2752207646",
        "colab": {
          "base_uri": "https://localhost:8080/",
          "height": 54
        }
      },
      "cell_type": "code",
      "source": [
        "word_index = imdb.get_word_index()\n",
        "word_index = {k:(v+INDEX_FROM) for k,v in word_index.items()}\n",
        "word_index[\"<PAD>\"] = 0\n",
        "word_index[\"<START>\"] = 1\n",
        "word_index[\"<UNK>\"] = 2 "
      ],
      "execution_count": 0,
      "outputs": [
        {
          "output_type": "stream",
          "text": [
            "Downloading data from https://s3.amazonaws.com/text-datasets/imdb_word_index.json\n",
            "1646592/1641221 [==============================] - 1s 1us/step\n"
          ],
          "name": "stdout"
        }
      ]
    },
    {
      "metadata": {
        "id": "YT6KYIEW693Q",
        "colab_type": "code",
        "outputId": "1f8f1a49-c1d5-48fc-a256-e681c9a553fb",
        "colab": {
          "base_uri": "https://localhost:8080/",
          "height": 54
        }
      },
      "cell_type": "code",
      "source": [
        "(train_data,train_labels),(test_data,test_labels) = imdb.load_data(num_words=VOCAB_SIZE,index_from=INDEX_FROM)"
      ],
      "execution_count": 0,
      "outputs": [
        {
          "output_type": "stream",
          "text": [
            "Downloading data from https://s3.amazonaws.com/text-datasets/imdb.npz\n",
            "17465344/17464789 [==============================] - 2s 0us/step\n"
          ],
          "name": "stdout"
        }
      ]
    },
    {
      "metadata": {
        "id": "o54WBmBm693Z",
        "colab_type": "text"
      },
      "cell_type": "markdown",
      "source": [
        "Sanity check:"
      ]
    },
    {
      "metadata": {
        "id": "zMh1zhN7693d",
        "colab_type": "code",
        "outputId": "71c6f83b-2cca-45eb-fa39-be3e0bf39925",
        "colab": {
          "base_uri": "https://localhost:8080/",
          "height": 92
        }
      },
      "cell_type": "code",
      "source": [
        "# Each instance in the training data is a list of word indices representing the words in the review\n",
        "print('Sample review:', train_data[0])\n",
        "# and each label is 1 if that review is positive, else 0\n",
        "print('\\nSample label:', test_labels[1])\n"
      ],
      "execution_count": 0,
      "outputs": [
        {
          "output_type": "stream",
          "text": [
            "Sample review: [1, 13, 21, 15, 42, 529, 972, 1621, 1384, 64, 457, 4467, 65, 3940, 3, 172, 35, 255, 4, 24, 99, 42, 837, 111, 49, 669, 2, 8, 34, 479, 283, 4, 149, 3, 171, 111, 166, 2, 335, 384, 38, 3, 171, 4535, 1110, 16, 545, 37, 12, 446, 3, 191, 49, 15, 5, 146, 2024, 18, 13, 21, 3, 1919, 4612, 468, 3, 21, 70, 86, 11, 15, 42, 529, 37, 75, 14, 12, 1246, 3, 21, 16, 514, 16, 11, 15, 625, 17, 2, 4, 61, 385, 11, 7, 315, 7, 105, 4, 3, 2222, 5243, 15, 479, 65, 3784, 32, 3, 129, 11, 15, 37, 618, 4, 24, 123, 50, 35, 134, 47, 24, 1414, 32, 5, 21, 11, 214, 27, 76, 51, 4, 13, 406, 15, 81, 2, 7, 3, 106, 116, 5951, 14, 255, 3, 2, 6, 3765, 4, 722, 35, 70, 42, 529, 475, 25, 399, 316, 45, 6, 3, 2, 1028, 12, 103, 87, 3, 380, 14, 296, 97, 31, 2070, 55, 25, 140, 5, 193, 7485, 17, 3, 225, 21, 20, 133, 475, 25, 479, 4, 143, 29, 5534, 17, 50, 35, 27, 223, 91, 24, 103, 3, 225, 64, 15, 37, 1333, 87, 11, 15, 282, 4, 15, 4471, 112, 102, 31, 14, 15, 5344, 18, 177, 31]\n",
            "\n",
            "Sample label: 1\n"
          ],
          "name": "stdout"
        }
      ]
    },
    {
      "metadata": {
        "id": "s1ONQk_s693y",
        "colab_type": "text"
      },
      "cell_type": "markdown",
      "source": [
        "### 2. Readying the Inputs for the LSTM"
      ]
    },
    {
      "metadata": {
        "id": "IkjvxBjZ6934",
        "colab_type": "code",
        "colab": {}
      },
      "cell_type": "code",
      "source": [
        "from keras.preprocessing.sequence import pad_sequences\n",
        "\n",
        "MAXIMUM_LENGTH = 500\n",
        "preprocessed_train_data = pad_sequences(train_data,padding='pre',maxlen=500,value=word_index[\"<PAD>\"])\n",
        "preprocessed_test_data = pad_sequences(test_data,padding='pre',maxlen=500,value=word_index[\"<PAD>\"])"
      ],
      "execution_count": 0,
      "outputs": []
    },
    {
      "metadata": {
        "id": "ifTvWEOW694G",
        "colab_type": "text"
      },
      "cell_type": "markdown",
      "source": [
        "Sanity check:"
      ]
    },
    {
      "metadata": {
        "id": "esU6nIrY694P",
        "colab_type": "code",
        "outputId": "68c0ad97-f3ad-440a-f778-b9987e5915d6",
        "colab": {
          "base_uri": "https://localhost:8080/",
          "height": 54
        }
      },
      "cell_type": "code",
      "source": [
        "print('Length of sample train_data before preprocessing:', len(train_data[0]))\n",
        "print('Length of sample train_data after preprocessing:', len(preprocessed_train_data[0]))"
      ],
      "execution_count": 0,
      "outputs": [
        {
          "output_type": "stream",
          "text": [
            "Length of sample train_data before preprocessing: 218\n",
            "Length of sample train_data after preprocessing: 500\n"
          ],
          "name": "stdout"
        }
      ]
    },
    {
      "metadata": {
        "id": "ruRUwYBg694o",
        "colab_type": "text"
      },
      "cell_type": "markdown",
      "source": [
        "### 3.Building the Model"
      ]
    },
    {
      "metadata": {
        "id": "mO1SwPuR694r",
        "colab_type": "code",
        "outputId": "a62e2baf-a22f-4815-ff9a-5c445e2cb8c2",
        "colab": {
          "base_uri": "https://localhost:8080/",
          "height": 311
        }
      },
      "cell_type": "code",
      "source": [
        "# first layer = randomly initialized embedding layer\n",
        "#second layer LSTM with 100 units and a linear activation\n",
        "#last layer = output layer. sigmoid activation layer used\n",
        "# Compile model: binary_crossentropy, adam optimizer, metrics as accuracy\n",
        "\n",
        "from keras.models import Model\n",
        "from keras.layers import Embedding, LSTM, Dense, Input\n",
        "\n",
        "EMBED_SIZE = 100\n",
        "\n",
        "main_input = Input(shape=(500,), name='input_1')\n",
        "layer1= Embedding(input_dim=10000,output_dim=EMBED_SIZE, name='Embedding_Layer')(main_input)\n",
        "layer2 = LSTM(100, name='LSTM_Layer')(layer1)\n",
        "output = Dense(1, activation = \"sigmoid\", name='Output_Layer')(layer2) #chose sigmoid for binary classification\n",
        "model = Model(inputs=main_input, outputs=output)\n",
        "\n",
        "model.compile(optimizer = \"adam\",loss = \"binary_crossentropy\",metrics = [\"accuracy\"])\n",
        "\n",
        "print(model.summary())"
      ],
      "execution_count": 0,
      "outputs": [
        {
          "output_type": "stream",
          "text": [
            "_________________________________________________________________\n",
            "Layer (type)                 Output Shape              Param #   \n",
            "=================================================================\n",
            "input_1 (InputLayer)         (None, 500)               0         \n",
            "_________________________________________________________________\n",
            "Embedding_Layer (Embedding)  (None, 500, 100)          1000000   \n",
            "_________________________________________________________________\n",
            "LSTM_Layer (LSTM)            (None, 100)               80400     \n",
            "_________________________________________________________________\n",
            "Output_Layer (Dense)         (None, 1)                 101       \n",
            "=================================================================\n",
            "Total params: 1,080,501\n",
            "Trainable params: 1,080,501\n",
            "Non-trainable params: 0\n",
            "_________________________________________________________________\n",
            "None\n"
          ],
          "name": "stdout"
        }
      ]
    },
    {
      "metadata": {
        "id": "RBgF2z_J6944",
        "colab_type": "text"
      },
      "cell_type": "markdown",
      "source": [
        "Visualise the model Structure:"
      ]
    },
    {
      "metadata": {
        "id": "rwcvDzSY6946",
        "colab_type": "code",
        "outputId": "9ce31807-5ada-49ff-843b-120868d4fdb4",
        "colab": {
          "base_uri": "https://localhost:8080/",
          "height": 426
        }
      },
      "cell_type": "code",
      "source": [
        "from keras.utils import plot_model\n",
        "from IPython.display import SVG\n",
        "from keras.utils import vis_utils\n",
        "\n",
        "SVG(vis_utils.model_to_dot(model,show_shapes=True, show_layer_names=True).create(prog='dot',format='svg'))"
      ],
      "execution_count": 0,
      "outputs": [
        {
          "output_type": "execute_result",
          "data": {
            "text/plain": [
              "<IPython.core.display.SVG object>"
            ],
            "image/svg+xml": "<svg height=\"304pt\" viewBox=\"0.00 0.00 383.00 304.00\" width=\"383pt\" xmlns=\"http://www.w3.org/2000/svg\" xmlns:xlink=\"http://www.w3.org/1999/xlink\">\n<g class=\"graph\" id=\"graph0\" transform=\"scale(1 1) rotate(0) translate(4 300)\">\n<title>G</title>\n<polygon fill=\"#ffffff\" points=\"-4,4 -4,-300 379,-300 379,4 -4,4\" stroke=\"transparent\"/>\n<!-- 139773228056528 -->\n<g class=\"node\" id=\"node1\">\n<title>139773228056528</title>\n<polygon fill=\"none\" points=\"48.5,-249.5 48.5,-295.5 326.5,-295.5 326.5,-249.5 48.5,-249.5\" stroke=\"#000000\"/>\n<text fill=\"#000000\" font-family=\"Times,serif\" font-size=\"14.00\" text-anchor=\"middle\" x=\"115\" y=\"-268.8\">input_1: InputLayer</text>\n<polyline fill=\"none\" points=\"181.5,-249.5 181.5,-295.5 \" stroke=\"#000000\"/>\n<text fill=\"#000000\" font-family=\"Times,serif\" font-size=\"14.00\" text-anchor=\"middle\" x=\"210.5\" y=\"-280.3\">input:</text>\n<polyline fill=\"none\" points=\"181.5,-272.5 239.5,-272.5 \" stroke=\"#000000\"/>\n<text fill=\"#000000\" font-family=\"Times,serif\" font-size=\"14.00\" text-anchor=\"middle\" x=\"210.5\" y=\"-257.3\">output:</text>\n<polyline fill=\"none\" points=\"239.5,-249.5 239.5,-295.5 \" stroke=\"#000000\"/>\n<text fill=\"#000000\" font-family=\"Times,serif\" font-size=\"14.00\" text-anchor=\"middle\" x=\"283\" y=\"-280.3\">(None, 500)</text>\n<polyline fill=\"none\" points=\"239.5,-272.5 326.5,-272.5 \" stroke=\"#000000\"/>\n<text fill=\"#000000\" font-family=\"Times,serif\" font-size=\"14.00\" text-anchor=\"middle\" x=\"283\" y=\"-257.3\">(None, 500)</text>\n</g>\n<!-- 139773228056472 -->\n<g class=\"node\" id=\"node2\">\n<title>139773228056472</title>\n<polygon fill=\"none\" points=\"0,-166.5 0,-212.5 375,-212.5 375,-166.5 0,-166.5\" stroke=\"#000000\"/>\n<text fill=\"#000000\" font-family=\"Times,serif\" font-size=\"14.00\" text-anchor=\"middle\" x=\"100\" y=\"-185.8\">Embedding_Layer: Embedding</text>\n<polyline fill=\"none\" points=\"200,-166.5 200,-212.5 \" stroke=\"#000000\"/>\n<text fill=\"#000000\" font-family=\"Times,serif\" font-size=\"14.00\" text-anchor=\"middle\" x=\"229\" y=\"-197.3\">input:</text>\n<polyline fill=\"none\" points=\"200,-189.5 258,-189.5 \" stroke=\"#000000\"/>\n<text fill=\"#000000\" font-family=\"Times,serif\" font-size=\"14.00\" text-anchor=\"middle\" x=\"229\" y=\"-174.3\">output:</text>\n<polyline fill=\"none\" points=\"258,-166.5 258,-212.5 \" stroke=\"#000000\"/>\n<text fill=\"#000000\" font-family=\"Times,serif\" font-size=\"14.00\" text-anchor=\"middle\" x=\"316.5\" y=\"-197.3\">(None, 500)</text>\n<polyline fill=\"none\" points=\"258,-189.5 375,-189.5 \" stroke=\"#000000\"/>\n<text fill=\"#000000\" font-family=\"Times,serif\" font-size=\"14.00\" text-anchor=\"middle\" x=\"316.5\" y=\"-174.3\">(None, 500, 100)</text>\n</g>\n<!-- 139773228056528&#45;&gt;139773228056472 -->\n<g class=\"edge\" id=\"edge1\">\n<title>139773228056528-&gt;139773228056472</title>\n<path d=\"M187.5,-249.3799C187.5,-241.1745 187.5,-231.7679 187.5,-222.8786\" fill=\"none\" stroke=\"#000000\"/>\n<polygon fill=\"#000000\" points=\"191.0001,-222.784 187.5,-212.784 184.0001,-222.784 191.0001,-222.784\" stroke=\"#000000\"/>\n</g>\n<!-- 139773229227648 -->\n<g class=\"node\" id=\"node3\">\n<title>139773229227648</title>\n<polygon fill=\"none\" points=\"28.5,-83.5 28.5,-129.5 346.5,-129.5 346.5,-83.5 28.5,-83.5\" stroke=\"#000000\"/>\n<text fill=\"#000000\" font-family=\"Times,serif\" font-size=\"14.00\" text-anchor=\"middle\" x=\"100\" y=\"-102.8\">LSTM_Layer: LSTM</text>\n<polyline fill=\"none\" points=\"171.5,-83.5 171.5,-129.5 \" stroke=\"#000000\"/>\n<text fill=\"#000000\" font-family=\"Times,serif\" font-size=\"14.00\" text-anchor=\"middle\" x=\"200.5\" y=\"-114.3\">input:</text>\n<polyline fill=\"none\" points=\"171.5,-106.5 229.5,-106.5 \" stroke=\"#000000\"/>\n<text fill=\"#000000\" font-family=\"Times,serif\" font-size=\"14.00\" text-anchor=\"middle\" x=\"200.5\" y=\"-91.3\">output:</text>\n<polyline fill=\"none\" points=\"229.5,-83.5 229.5,-129.5 \" stroke=\"#000000\"/>\n<text fill=\"#000000\" font-family=\"Times,serif\" font-size=\"14.00\" text-anchor=\"middle\" x=\"288\" y=\"-114.3\">(None, 500, 100)</text>\n<polyline fill=\"none\" points=\"229.5,-106.5 346.5,-106.5 \" stroke=\"#000000\"/>\n<text fill=\"#000000\" font-family=\"Times,serif\" font-size=\"14.00\" text-anchor=\"middle\" x=\"288\" y=\"-91.3\">(None, 100)</text>\n</g>\n<!-- 139773228056472&#45;&gt;139773229227648 -->\n<g class=\"edge\" id=\"edge2\">\n<title>139773228056472-&gt;139773229227648</title>\n<path d=\"M187.5,-166.3799C187.5,-158.1745 187.5,-148.7679 187.5,-139.8786\" fill=\"none\" stroke=\"#000000\"/>\n<polygon fill=\"#000000\" points=\"191.0001,-139.784 187.5,-129.784 184.0001,-139.784 191.0001,-139.784\" stroke=\"#000000\"/>\n</g>\n<!-- 139773228110064 -->\n<g class=\"node\" id=\"node4\">\n<title>139773228110064</title>\n<polygon fill=\"none\" points=\"45,-.5 45,-46.5 330,-46.5 330,-.5 45,-.5\" stroke=\"#000000\"/>\n<text fill=\"#000000\" font-family=\"Times,serif\" font-size=\"14.00\" text-anchor=\"middle\" x=\"115\" y=\"-19.8\">Output_Layer: Dense</text>\n<polyline fill=\"none\" points=\"185,-.5 185,-46.5 \" stroke=\"#000000\"/>\n<text fill=\"#000000\" font-family=\"Times,serif\" font-size=\"14.00\" text-anchor=\"middle\" x=\"214\" y=\"-31.3\">input:</text>\n<polyline fill=\"none\" points=\"185,-23.5 243,-23.5 \" stroke=\"#000000\"/>\n<text fill=\"#000000\" font-family=\"Times,serif\" font-size=\"14.00\" text-anchor=\"middle\" x=\"214\" y=\"-8.3\">output:</text>\n<polyline fill=\"none\" points=\"243,-.5 243,-46.5 \" stroke=\"#000000\"/>\n<text fill=\"#000000\" font-family=\"Times,serif\" font-size=\"14.00\" text-anchor=\"middle\" x=\"286.5\" y=\"-31.3\">(None, 100)</text>\n<polyline fill=\"none\" points=\"243,-23.5 330,-23.5 \" stroke=\"#000000\"/>\n<text fill=\"#000000\" font-family=\"Times,serif\" font-size=\"14.00\" text-anchor=\"middle\" x=\"286.5\" y=\"-8.3\">(None, 1)</text>\n</g>\n<!-- 139773229227648&#45;&gt;139773228110064 -->\n<g class=\"edge\" id=\"edge3\">\n<title>139773229227648-&gt;139773228110064</title>\n<path d=\"M187.5,-83.3799C187.5,-75.1745 187.5,-65.7679 187.5,-56.8786\" fill=\"none\" stroke=\"#000000\"/>\n<polygon fill=\"#000000\" points=\"191.0001,-56.784 187.5,-46.784 184.0001,-56.784 191.0001,-56.784\" stroke=\"#000000\"/>\n</g>\n</g>\n</svg>"
          },
          "metadata": {
            "tags": []
          },
          "execution_count": 15
        }
      ]
    },
    {
      "metadata": {
        "id": "DIsdRTDK695K",
        "colab_type": "text"
      },
      "cell_type": "markdown",
      "source": [
        "### 4. Training the Model"
      ]
    },
    {
      "metadata": {
        "id": "jfxQ7lK_695O",
        "colab_type": "text"
      },
      "cell_type": "markdown",
      "source": [
        "Split the training data. 2000 samples for validation and the rest for training."
      ]
    },
    {
      "metadata": {
        "id": "Hb09xs5R695R",
        "colab_type": "code",
        "colab": {}
      },
      "cell_type": "code",
      "source": [
        "X_val = np.array(preprocessed_train_data[:2000])\n",
        "partial_X_train = np.array(preprocessed_train_data[2000:])\n",
        "\n",
        "y_val = np.array(train_labels[:2000])\n",
        "partial_y_train = np.array(train_labels[2000:])\n"
      ],
      "execution_count": 0,
      "outputs": []
    },
    {
      "metadata": {
        "id": "McNR8CdU695c",
        "colab_type": "text"
      },
      "cell_type": "markdown",
      "source": [
        "Train the model for 3 epochs with a batch size of 100"
      ]
    },
    {
      "metadata": {
        "id": "dyRhpkmb695f",
        "colab_type": "code",
        "outputId": "37d7f731-9761-4ac4-df74-501f56e822c8",
        "colab": {
          "base_uri": "https://localhost:8080/",
          "height": 166
        }
      },
      "cell_type": "code",
      "source": [
        "history = model.fit(partial_X_train,\n",
        "                    partial_y_train,\n",
        "                    epochs =3,\n",
        "                    batch_size=100,\n",
        "                    validation_data=(X_val, y_val),\n",
        "                    verbose=1)"
      ],
      "execution_count": 0,
      "outputs": [
        {
          "output_type": "stream",
          "text": [
            "Train on 23000 samples, validate on 2000 samples\n",
            "Epoch 1/3\n",
            "23000/23000 [==============================] - 213s 9ms/step - loss: 0.4466 - acc: 0.7871 - val_loss: 0.4671 - val_acc: 0.7855\n",
            "Epoch 2/3\n",
            "23000/23000 [==============================] - 213s 9ms/step - loss: 0.2750 - acc: 0.8926 - val_loss: 0.2856 - val_acc: 0.8770\n",
            "Epoch 3/3\n",
            "23000/23000 [==============================] - 212s 9ms/step - loss: 0.2346 - acc: 0.9122 - val_loss: 0.3268 - val_acc: 0.8640\n"
          ],
          "name": "stdout"
        }
      ]
    },
    {
      "metadata": {
        "id": "H-5eIJpU695r",
        "colab_type": "text"
      },
      "cell_type": "markdown",
      "source": [
        "Plotting the accuracy graph"
      ]
    },
    {
      "metadata": {
        "id": "RO8KfdIa695t",
        "colab_type": "code",
        "outputId": "21a3dcb0-b8de-469c-a2f3-b41ed8b1b709",
        "colab": {
          "base_uri": "https://localhost:8080/",
          "height": 376
        }
      },
      "cell_type": "code",
      "source": [
        "import matplotlib.pyplot as plt\n",
        "\n",
        "history_dict = history.history\n",
        "\n",
        "acc = history_dict['acc']\n",
        "val_acc = history_dict['val_acc']\n",
        "loss = history_dict['loss']\n",
        "val_loss = history_dict['val_loss']\n",
        "\n",
        "epochs = range(1, len(acc) + 1)\n",
        "\n",
        "plt.plot(epochs, acc, 'bo', label='Training acc')\n",
        "plt.plot(epochs, val_acc, 'b', label='Validation acc')\n",
        "plt.title('Training and validation accuracy')\n",
        "plt.xlabel('Epochs')\n",
        "plt.ylabel('Accuracy')\n",
        "plt.legend()\n",
        "\n",
        "plt.show()"
      ],
      "execution_count": 0,
      "outputs": [
        {
          "output_type": "display_data",
          "data": {
            "image/png": "[encoded data removed]",
            "text/plain": [
              "<Figure size 576x396 with 1 Axes>"
            ]
          },
          "metadata": {
            "tags": []
          }
        }
      ]
    },
    {
      "metadata": {
        "id": "M36GMRxx696H",
        "colab_type": "code",
        "colab": {}
      },
      "cell_type": "code",
      "source": [
        ""
      ],
      "execution_count": 0,
      "outputs": []
    },
    {
      "metadata": {
        "id": "lRqGM5ig696X",
        "colab_type": "text"
      },
      "cell_type": "markdown",
      "source": [
        "### 5. Evaluating the Model on the Test Data"
      ]
    },
    {
      "metadata": {
        "id": "nVjDLbLP696c",
        "colab_type": "text"
      },
      "cell_type": "markdown",
      "source": [
        "Evaluate model on the preprocessed test data"
      ]
    },
    {
      "metadata": {
        "id": "fwytwRTr696g",
        "colab_type": "code",
        "outputId": "733819b5-8d5e-4816-b8e9-5b12fccc3b50",
        "colab": {
          "base_uri": "https://localhost:8080/",
          "height": 35
        }
      },
      "cell_type": "code",
      "source": [
        "results = model.evaluate(preprocessed_test_data, test_labels)"
      ],
      "execution_count": 0,
      "outputs": [
        {
          "output_type": "stream",
          "text": [
            "25000/25000 [==============================] - 289s 12ms/step\n"
          ],
          "name": "stdout"
        }
      ]
    },
    {
      "metadata": {
        "id": "RsFP2h6v696w",
        "colab_type": "text"
      },
      "cell_type": "markdown",
      "source": [
        "Print test loss and accuracy:"
      ]
    },
    {
      "metadata": {
        "id": "phxNUpeE6960",
        "colab_type": "code",
        "outputId": "314caa74-e2bc-4b3b-e0c9-299a8adca72e",
        "colab": {
          "base_uri": "https://localhost:8080/",
          "height": 35
        }
      },
      "cell_type": "code",
      "source": [
        "print('test_loss:', results[0], 'test_accuracy:', results[1])"
      ],
      "execution_count": 0,
      "outputs": [
        {
          "output_type": "stream",
          "text": [
            "test_loss: 0.36441236006736755 test_accuracy: 0.84856\n"
          ],
          "name": "stdout"
        }
      ]
    },
    {
      "metadata": {
        "id": "Z6VmaFBl697I",
        "colab_type": "text"
      },
      "cell_type": "markdown",
      "source": [
        "### 6.Extracting the Word Embeddings"
      ]
    },
    {
      "metadata": {
        "id": "GxNrhBSp697L",
        "colab_type": "code",
        "colab": {
          "base_uri": "https://localhost:8080/",
          "height": 293
        },
        "outputId": "984707ad-01c0-495e-ca4d-1929e4771dd0"
      },
      "cell_type": "code",
      "source": [
        "word_embeddings = model.get_layer('Embedding_Layer').get_weights()[0]\n",
        "print(model.summary())"
      ],
      "execution_count": 29,
      "outputs": [
        {
          "output_type": "stream",
          "text": [
            "_________________________________________________________________\n",
            "Layer (type)                 Output Shape              Param #   \n",
            "=================================================================\n",
            "input_1 (InputLayer)         (None, 500)               0         \n",
            "_________________________________________________________________\n",
            "Embedding_Layer (Embedding)  (None, 500, 100)          1000000   \n",
            "_________________________________________________________________\n",
            "LSTM_Layer (LSTM)            (None, 100)               80400     \n",
            "_________________________________________________________________\n",
            "Output_Layer (Dense)         (None, 1)                 101       \n",
            "=================================================================\n",
            "Total params: 1,080,501\n",
            "Trainable params: 1,080,501\n",
            "Non-trainable params: 0\n",
            "_________________________________________________________________\n"
          ],
          "name": "stdout"
        }
      ]
    },
    {
      "metadata": {
        "id": "Ogm_ebIS697U",
        "colab_type": "text"
      },
      "cell_type": "markdown",
      "source": [
        "Sanity check:"
      ]
    },
    {
      "metadata": {
        "id": "BHyu2Mbh697Z",
        "colab_type": "code",
        "outputId": "7d5efa32-6d21-418e-8cca-7eb2220b027a",
        "colab": {
          "base_uri": "https://localhost:8080/",
          "height": 35
        }
      },
      "cell_type": "code",
      "source": [
        "print('Shape of word_embeddings:', word_embeddings.shape)"
      ],
      "execution_count": 0,
      "outputs": [
        {
          "output_type": "stream",
          "text": [
            "Shape of word_embeddings: (10000, 100)\n"
          ],
          "name": "stdout"
        }
      ]
    },
    {
      "metadata": {
        "id": "1tBvpLw7697n",
        "colab_type": "text"
      },
      "cell_type": "markdown",
      "source": [
        "### 7.Visualizing the Reviews"
      ]
    },
    {
      "metadata": {
        "id": "DRBgyT-z697p",
        "colab_type": "code",
        "colab": {}
      },
      "cell_type": "code",
      "source": [
        "word2idx = imdb.get_word_index()\n",
        "# 9998 since we only used top 1000 words of including ‘<PAD>’, ‘<START>’ and ‘<UNK>’\n",
        "word2idx = {k:(v+INDEX_FROM) for k,v in word2idx.items() if v < 9998} #  CHANGED FROM 10000\n",
        "word2idx[\"<PAD>\"] = 0\n",
        "word2idx[\"<START>\"] = 1\n",
        "word2idx[\"<UNK>\"] = 2"
      ],
      "execution_count": 0,
      "outputs": []
    },
    {
      "metadata": {
        "id": "WQumWDt46979",
        "colab_type": "text"
      },
      "cell_type": "markdown",
      "source": [
        "Create the idx2word map for all the words in the dataset."
      ]
    },
    {
      "metadata": {
        "id": "4hNG2YZi697_",
        "colab_type": "code",
        "colab": {}
      },
      "cell_type": "code",
      "source": [
        "idx2word = dict([[v,k] for k,v in word2idx.items()])"
      ],
      "execution_count": 0,
      "outputs": []
    },
    {
      "metadata": {
        "id": "m3wOxoyp698H",
        "colab_type": "text"
      },
      "cell_type": "markdown",
      "source": [
        "Print a sample review:"
      ]
    },
    {
      "metadata": {
        "id": "2y0TedPX698K",
        "colab_type": "code",
        "outputId": "aa749888-6968-40ea-d949-d6283f2305a6",
        "colab": {
          "base_uri": "https://localhost:8080/",
          "height": 55
        }
      },
      "cell_type": "code",
      "source": [
        "print(' '.join(idx2word[idx] for idx in train_data[0]))"
      ],
      "execution_count": 0,
      "outputs": [
        {
          "output_type": "stream",
          "text": [
            "<START> this film was just brilliant casting location scenery story direction everyone's really suited the part they played and you could just imagine being there robert <UNK> is an amazing actor and now the same being director <UNK> father came from the same scottish island as myself so i loved the fact there was a real connection with this film the witty remarks throughout the film were great it was just brilliant so much that i bought the film as soon as it was released for <UNK> and would recommend it to everyone to watch and the fly fishing was amazing really cried at the end it was so sad and you know what they say if you cry at a film it must have been good and this definitely was also <UNK> to the two little boy's that played the <UNK> of norman and paul they were just brilliant children are often left out of the <UNK> list i think because the stars that play them all grown up are such a big profile for the whole film but these children are amazing and should be praised for what they have done don't you think the whole story was so lovely because it was true and was someone's life after all that was shared with us all\n"
          ],
          "name": "stdout"
        }
      ]
    },
    {
      "metadata": {
        "id": "3l71MWGS698Z",
        "colab_type": "text"
      },
      "cell_type": "markdown",
      "source": [
        "Print the corresponding data:"
      ]
    },
    {
      "metadata": {
        "id": "KzM8bgpf698c",
        "colab_type": "code",
        "outputId": "3bbb2260-cc99-4683-e542-f1dc0c796a87",
        "colab": {
          "base_uri": "https://localhost:8080/",
          "height": 55
        }
      },
      "cell_type": "code",
      "source": [
        "print(train_data[0])"
      ],
      "execution_count": 0,
      "outputs": [
        {
          "output_type": "stream",
          "text": [
            "[1, 13, 21, 15, 42, 529, 972, 1621, 1384, 64, 457, 4467, 65, 3940, 3, 172, 35, 255, 4, 24, 99, 42, 837, 111, 49, 669, 2, 8, 34, 479, 283, 4, 149, 3, 171, 111, 166, 2, 335, 384, 38, 3, 171, 4535, 1110, 16, 545, 37, 12, 446, 3, 191, 49, 15, 5, 146, 2024, 18, 13, 21, 3, 1919, 4612, 468, 3, 21, 70, 86, 11, 15, 42, 529, 37, 75, 14, 12, 1246, 3, 21, 16, 514, 16, 11, 15, 625, 17, 2, 4, 61, 385, 11, 7, 315, 7, 105, 4, 3, 2222, 5243, 15, 479, 65, 3784, 32, 3, 129, 11, 15, 37, 618, 4, 24, 123, 50, 35, 134, 47, 24, 1414, 32, 5, 21, 11, 214, 27, 76, 51, 4, 13, 406, 15, 81, 2, 7, 3, 106, 116, 5951, 14, 255, 3, 2, 6, 3765, 4, 722, 35, 70, 42, 529, 475, 25, 399, 316, 45, 6, 3, 2, 1028, 12, 103, 87, 3, 380, 14, 296, 97, 31, 2070, 55, 25, 140, 5, 193, 7485, 17, 3, 225, 21, 20, 133, 475, 25, 479, 4, 143, 29, 5534, 17, 50, 35, 27, 223, 91, 24, 103, 3, 225, 64, 15, 37, 1333, 87, 11, 15, 282, 4, 15, 4471, 112, 102, 31, 14, 15, 5344, 18, 177, 31]\n"
          ],
          "name": "stdout"
        }
      ]
    },
    {
      "metadata": {
        "id": "jDtwTBEx698v",
        "colab_type": "text"
      },
      "cell_type": "markdown",
      "source": [
        "### 8. Visualize the Word_Embeddings"
      ]
    },
    {
      "metadata": {
        "id": "wIsMBUwL698x",
        "colab_type": "text"
      },
      "cell_type": "markdown",
      "source": [
        "Sanity Check:"
      ]
    },
    {
      "metadata": {
        "id": "3iKsTWWw698y",
        "colab_type": "code",
        "outputId": "0e6a0132-d02e-4998-b052-209a1427192c",
        "colab": {
          "base_uri": "https://localhost:8080/",
          "height": 917
        }
      },
      "cell_type": "code",
      "source": [
        "from pandas import DataFrame\n",
        "print(DataFrame(word_embeddings, index=idx2word.values()).head(10))"
      ],
      "execution_count": 0,
      "outputs": [
        {
          "output_type": "stream",
          "text": [
            "                 0         1         2         3         4         5   \\\n",
            "woods      0.023891 -0.033328  0.056818 -0.017864  0.018733  0.069648   \n",
            "hanging   -0.004242  0.016902  0.105863 -0.005219 -0.027245  0.019277   \n",
            "woody      0.008206 -0.011261  0.052254  0.018639  0.046168 -0.017623   \n",
            "arranged   0.002237  0.021823  0.004986  0.024425 -0.038462  0.045456   \n",
            "bringing   0.012357 -0.044936 -0.049333 -0.025650  0.020918 -0.033120   \n",
            "wooden     0.001727  0.041865 -0.021892 -0.038511 -0.038243 -0.008286   \n",
            "errors    -0.020409  0.025121  0.023217 -0.035841 -0.035708 -0.017172   \n",
            "dialogs   -0.053756 -0.010449  0.048045  0.021831 -0.002319 -0.009103   \n",
            "kids      -0.042141 -0.015900 -0.043051  0.024940  0.046205  0.040478   \n",
            "uplifting  0.015041  0.020739  0.057832 -0.029009 -0.035153  0.039553   \n",
            "\n",
            "                 6         7         8         9     ...           90  \\\n",
            "woods     -0.001314 -0.029372 -0.035982 -0.038499    ...    -0.011297   \n",
            "hanging    0.085241 -0.033429 -0.040140 -0.046959    ...     0.048393   \n",
            "woody      0.034177 -0.041892  0.027437  0.007216    ...    -0.017305   \n",
            "arranged   0.029616  0.013790  0.050380 -0.010319    ...    -0.062757   \n",
            "bringing  -0.026909  0.049965  0.010830  0.021413    ...    -0.013102   \n",
            "wooden    -0.001995  0.037719  0.005500 -0.004152    ...    -0.006076   \n",
            "errors    -0.037866 -0.035816 -0.038979  0.013708    ...     0.046974   \n",
            "dialogs    0.000142 -0.002578  0.041270 -0.049726    ...     0.045122   \n",
            "kids      -0.028473 -0.009924 -0.013703 -0.040323    ...     0.005320   \n",
            "uplifting  0.033228  0.028004  0.033396  0.009033    ...     0.007042   \n",
            "\n",
            "                 91        92        93        94        95        96  \\\n",
            "woods      0.030549 -0.039807 -0.000114 -0.085046  0.055633 -0.116428   \n",
            "hanging   -0.050599  0.015927 -0.055621 -0.135298  0.048361 -0.199573   \n",
            "woody     -0.022637  0.010911 -0.046196 -0.008865  0.003428  0.011811   \n",
            "arranged   0.032179 -0.009422 -0.002068  0.005691 -0.021042  0.011999   \n",
            "bringing  -0.024984 -0.023965  0.025409 -0.024391 -0.005768 -0.000036   \n",
            "wooden     0.024847  0.005438  0.020932  0.017112 -0.026582 -0.042059   \n",
            "errors    -0.046793 -0.035318 -0.007320 -0.020688  0.039401  0.043732   \n",
            "dialogs   -0.039530  0.006840 -0.024764  0.056312 -0.038987  0.030715   \n",
            "kids       0.009357  0.030428 -0.001537 -0.045232 -0.025449  0.004100   \n",
            "uplifting -0.045068  0.004348 -0.025657  0.017753  0.004444 -0.057185   \n",
            "\n",
            "                 97        98        99  \n",
            "woods      0.065049  0.057979  0.023947  \n",
            "hanging    0.040944  0.021610 -0.013690  \n",
            "woody     -0.017650 -0.019160 -0.038742  \n",
            "arranged  -0.022147 -0.040302  0.006918  \n",
            "bringing   0.055164  0.052023 -0.042179  \n",
            "wooden    -0.035047 -0.036664 -0.023399  \n",
            "errors     0.039169 -0.052349  0.028040  \n",
            "dialogs   -0.009097  0.035233 -0.019591  \n",
            "kids      -0.019845 -0.005223 -0.054361  \n",
            "uplifting  0.033731  0.049958  0.052526  \n",
            "\n",
            "[10 rows x 100 columns]\n"
          ],
          "name": "stdout"
        }
      ]
    },
    {
      "metadata": {
        "id": "0_XOn6kW6984",
        "colab_type": "text"
      },
      "cell_type": "markdown",
      "source": [
        "Plot the word embeddings using TSNE"
      ]
    },
    {
      "metadata": {
        "id": "wIntACPo6987",
        "colab_type": "code",
        "outputId": "8e3f0f2e-2466-4fbb-c3bc-d401986b7775",
        "colab": {
          "base_uri": "https://localhost:8080/",
          "height": 503
        }
      },
      "cell_type": "code",
      "source": [
        "from sklearn.manifold import TSNE\n",
        "\n",
        "tsne = TSNE(perplexity=3, n_components=2, init='pca', n_iter=5000, method='exact')\n",
        "np.set_printoptions(suppress=True)\n",
        "\n",
        "# starting from the first word\n",
        "start = 3\n",
        "plot_only = 54\n",
        "T = tsne.fit_transform(word_embeddings[start:plot_only, :])\n",
        "labels = [idx2word[i] for i in range(start, plot_only)]\n",
        "plt.figure(figsize=(14, 8))\n",
        "plt.scatter(T[:, 0], T[:, 1])\n",
        "for label, x, y in zip(labels, T[:, 0], T[:, 1]):\n",
        "    plt.annotate(label, xy=(x+1, y+1), xytext=(0, 0), textcoords='offset points',ha='right',va='bottom')"
      ],
      "execution_count": 0,
      "outputs": [
        {
          "output_type": "display_data",
          "data": {
            "image/png": "[encoded data removed]",
            "text/plain": [
              "<Figure size 1008x576 with 1 Axes>"
            ]
          },
          "metadata": {
            "tags": []
          }
        }
      ]
    },
    {
      "metadata": {
        "id": "0nQzyJzd699D",
        "colab_type": "code",
        "colab": {}
      },
      "cell_type": "code",
      "source": [
        ""
      ],
      "execution_count": 0,
      "outputs": []
    }
  ]
}