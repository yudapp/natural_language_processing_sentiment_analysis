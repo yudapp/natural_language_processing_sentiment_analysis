{
 "cells": [
  {
   "cell_type": "markdown",
   "metadata": {},
   "source": [
    "# Part D: A Real Sentiment Analysis Task: "
   ]
  },
  {
   "cell_type": "markdown",
   "metadata": {},
   "source": [
    "## Build and Evaluate a Basic Classifier for Subtask A in English"
   ]
  },
  {
   "cell_type": "markdown",
   "metadata": {},
   "source": [
    "### 1. Process the Data"
   ]
  },
  {
   "cell_type": "markdown",
   "metadata": {},
   "source": [
    "We provide the path to the folder containing the text files. We read each text file in the folder. We append the tweets one by one in the \"raw_data\" file."
   ]
  },
  {
   "cell_type": "code",
   "execution_count": 189,
   "metadata": {},
   "outputs": [
    {
     "name": "stderr",
     "output_type": "stream",
     "text": [
      "[nltk_data] Downloading package wordnet to\n",
      "[nltk_data]     C:\\Users\\Yudhi\\AppData\\Roaming\\nltk_data...\n",
      "[nltk_data]   Package wordnet is already up-to-date!\n"
     ]
    }
   ],
   "source": [
    "import glob \n",
    "from os.path import isfile\n",
    "import string\n",
    "import nltk\n",
    "nltk.download('wordnet')\n",
    "from nltk.corpus import stopwords\n",
    "from nltk.probability import FreqDist\n",
    "from nltk.stem import WordNetLemmatizer\n",
    "import numpy as np"
   ]
  },
  {
   "cell_type": "code",
   "execution_count": 121,
   "metadata": {},
   "outputs": [],
   "source": [
    "#simple file reader without exception handling\n",
    "def readFile(path):\n",
    "    files=filter(isfile,glob.glob('%s/*'%path))\n",
    "    raw_data =[]\n",
    "    for name in files:\n",
    "        with open(name, 'r', encoding='utf-8') as f:\n",
    "            for line in f:\n",
    "                record = line.strip().split() \n",
    "                raw_data.append(record)\n",
    "    \n",
    "    return raw_data # return the preprocessed data"
   ]
  },
  {
   "cell_type": "code",
   "execution_count": 122,
   "metadata": {},
   "outputs": [],
   "source": [
    "#Read the test and train files from disk and preprocessed them\n",
    "path = r'S:\\IT\\Queen Mary\\NLP\\Assignment 1\\EnglishSubtaskA\\train'\n",
    "raw_train = readFile(path)\n",
    "\n",
    "#for the test set\n",
    "path = r'S:\\IT\\Queen Mary\\NLP\\Assignment 1\\EnglishSubtaskA\\test'\n",
    "raw_test = readFile(path)"
   ]
  },
  {
   "cell_type": "code",
   "execution_count": 205,
   "metadata": {},
   "outputs": [
    {
     "name": "stdout",
     "output_type": "stream",
     "text": [
      "raw data:  ['262936443171778560', 'positive', '@mariakaykay', 'aga', 'tayo', 'tomorrow', 'ah.', ':)', 'Good', 'night\\\\u002c', 'Ces.', 'Love', 'you!', '>:D<']\n"
     ]
    }
   ],
   "source": [
    "print(\"raw data: \", raw_train[6])"
   ]
  },
  {
   "cell_type": "code",
   "execution_count": 165,
   "metadata": {},
   "outputs": [],
   "source": [
    "#function to process the file\n",
    "def processData(raw_data):\n",
    "    wordnet_lemma = WordNetLemmatizer()\n",
    "    stop_list = stopwords.words('english') + list(string.punctuation)\n",
    "    normalized_data = []\n",
    "    labels = []\n",
    "    special = \"\\\\u\" # unicode we want to eliminate but keep the word associated with it\n",
    "    for i in range(len(raw_data)):\n",
    "        result = [] # clears result after each sentence\n",
    "        for w in raw_data[i]:\n",
    "            if special in w:\n",
    "                idx = w.index(special)\n",
    "                word = w[:idx] #take only the first part of the word and ignore 'special'\n",
    "            else:\n",
    "                word = w # otherwise word stays the same\n",
    "            word = word.lower() #change word to lower case\n",
    "\n",
    "            if word not in stop_list and word.isalpha() and len(word) > 1: #filter out punctuations,stop words and digits\n",
    "                word = wordnet_lemma.lemmatize(word, pos=\"v\") #apply lemmatizer and skip label(positive, etc..)\n",
    "                result.append(word) #append each word to a phrase\n",
    "        if len(result) > 3:\n",
    "            normalized_data.append(result[1:]) #append each phrase to the file\n",
    "            lab = ''.join(result[:1])\n",
    "            if lab ==\"positive\":\n",
    "                labels.append(2)\n",
    "            elif lab ==\"negative\":\n",
    "                labels.append(1)\n",
    "            else:\n",
    "                labels.append(0)\n",
    "\n",
    "    return normalized_data,labels"
   ]
  },
  {
   "cell_type": "code",
   "execution_count": 171,
   "metadata": {},
   "outputs": [],
   "source": [
    "#for the training/validation set\n",
    "train_processed,train_labels = processData(raw_train)\n",
    "test_processed,test_labels = processData(raw_test)"
   ]
  },
  {
   "cell_type": "markdown",
   "metadata": {},
   "source": [
    "Sanity check:"
   ]
  },
  {
   "cell_type": "code",
   "execution_count": 172,
   "metadata": {},
   "outputs": [
    {
     "name": "stdout",
     "output_type": "stream",
     "text": [
      "Example train data:  ['aga', 'tayo', 'tomorrow', 'good', 'night', 'love'] 2\n",
      "Example test data:  ['bolton', 'wanderers', 'leeds', 'sit', 'nav', 'free', 'milton', 'manage', 'write', 'much'] 0\n"
     ]
    }
   ],
   "source": [
    "print(\"Example train data: \", train_processed[6], train_labels[6])\n",
    "print(\"Example test data: \", test_processed[6], test_labels[6])"
   ]
  },
  {
   "cell_type": "markdown",
   "metadata": {},
   "source": [
    "### 2. Find the top words"
   ]
  },
  {
   "cell_type": "code",
   "execution_count": 173,
   "metadata": {},
   "outputs": [],
   "source": [
    "#function to put all the words together\n",
    "VOCAB_SIZE = 8000\n",
    "INDEX_FROM = 2\n",
    "#put all the words together\n",
    "def wordsList(normalized_data):\n",
    "    longsen = []\n",
    "    for i in range(len(normalized_data)):\n",
    "        sen = normalized_data[i]\n",
    "        for w in sen:\n",
    "            longsen.append(w) #longsen cotains all the words in a list\n",
    "    return topWordsList(longsen)\n"
   ]
  },
  {
   "cell_type": "code",
   "execution_count": 174,
   "metadata": {},
   "outputs": [],
   "source": [
    "#function to find the top occuring words\n",
    "def topWordsList(longsen):\n",
    "    top_words = []\n",
    "    INDEX_FROM = 2\n",
    "    count = 0\n",
    "    fdist = nltk.FreqDist(longsen)\n",
    "    for word, frequency in fdist.most_common():\n",
    "        #print(u'{};{}'.format(word, frequency))\n",
    "        if count < (VOCAB_SIZE - INDEX_FROM):\n",
    "            count += 1\n",
    "            top_words.append(word)\n",
    "    return top_words"
   ]
  },
  {
   "cell_type": "code",
   "execution_count": 59,
   "metadata": {},
   "outputs": [],
   "source": [
    "vocab_words = wordsList(train_processed+test_processed) # get a list of our vocabulary"
   ]
  },
  {
   "cell_type": "markdown",
   "metadata": {},
   "source": [
    "Fill UNK and START tags in all data"
   ]
  },
  {
   "cell_type": "code",
   "execution_count": 175,
   "metadata": {},
   "outputs": [],
   "source": [
    "#Starting with training data\n",
    "def tagList(my_data,topwords):\n",
    "    tagged_data = []\n",
    "    for i in range(len(my_data)):\n",
    "        out = []\n",
    "        out.append(\"<START>\")\n",
    "        for w in my_data[i]:\n",
    "            if w not in topwords:\n",
    "                w = \"<UNK>\"\n",
    "            else:\n",
    "                w = w\n",
    "            out.append(w) # one sentence\n",
    "        tagged_data.append(out) # the whole file\n",
    "    return tagged_data"
   ]
  },
  {
   "cell_type": "code",
   "execution_count": 176,
   "metadata": {},
   "outputs": [],
   "source": [
    "tagged_train = tagList(train_processed,vocab_words)\n",
    "tagged_test = tagList(test_processed,vocab_words)"
   ]
  },
  {
   "cell_type": "markdown",
   "metadata": {},
   "source": [
    "Sample of tagged data:"
   ]
  },
  {
   "cell_type": "code",
   "execution_count": 206,
   "metadata": {},
   "outputs": [
    {
     "name": "stdout",
     "output_type": "stream",
     "text": [
      "Tagged train data: ['<START>', '<UNK>', '<UNK>', 'tomorrow', 'good', 'night', 'love'] , label:  2\n",
      "Tagged test data: ['<START>', 'bolton', 'wanderers', 'leeds', 'sit', 'nav', 'free', 'milton', 'manage', 'write', 'much'] , label:  0\n"
     ]
    }
   ],
   "source": [
    "print(\"Tagged train data:\",tagged_train[6],\", label: \",train_labels[6])\n",
    "print(\"Tagged test data:\",tagged_test[6], \", label: \", test_labels[6])"
   ]
  },
  {
   "cell_type": "code",
   "execution_count": 207,
   "metadata": {},
   "outputs": [],
   "source": [
    "def wordToIndex(data):\n",
    "    w2idx = {} # empty dictionary\n",
    "    w2idx [\"<PAD>\"] = 0\n",
    "    w2idx [\"<START>\"] = 1\n",
    "    w2idx [\"<UNK>\"] = 2  \n",
    "    counter = 3\n",
    "    for i in range(len(data)):\n",
    "        for w in data[i]:\n",
    "            if w not in w2idx.keys():\n",
    "                w2idx[w] = counter\n",
    "                counter = counter + 1\n",
    "    return w2idx\n"
   ]
  },
  {
   "cell_type": "code",
   "execution_count": 208,
   "metadata": {},
   "outputs": [],
   "source": [
    "word2idx = wordToIndex(tagged_train+tagged_test)"
   ]
  },
  {
   "cell_type": "code",
   "execution_count": 209,
   "metadata": {},
   "outputs": [],
   "source": [
    "#reverse the dictionary for index to word\n",
    "idx2word = dict([[v,k] for k,v in word2idx.items()])"
   ]
  },
  {
   "cell_type": "markdown",
   "metadata": {},
   "source": [
    "Convert sentences as ids"
   ]
  },
  {
   "cell_type": "code",
   "execution_count": 246,
   "metadata": {},
   "outputs": [],
   "source": [
    "#sents as ids\n",
    "def sentID(datFile):\n",
    "    sents_as_ids = []\n",
    "    for i in range(len(datFile)):\n",
    "        converted = [] # empty list for every new line in corpus\n",
    "        for word in datFile[i]:\n",
    "            converted.append(word2idx[word]) #create sentence as a list of ids\n",
    "        sents_as_ids.append(converted)\n",
    "    return sents_as_ids"
   ]
  },
  {
   "cell_type": "markdown",
   "metadata": {},
   "source": [
    "Sanity check:"
   ]
  },
  {
   "cell_type": "code",
   "execution_count": 247,
   "metadata": {},
   "outputs": [
    {
     "name": "stdout",
     "output_type": "stream",
     "text": [
      "Number of unique words:  8001\n",
      "\n",
      "Sample word2idx:  [('<PAD>', 0), ('<START>', 1), ('<UNK>', 2), ('match', 3), ('plus', 4), ('tomorrow', 5), ('busy', 6), ('day', 7), ('awareness', 8), ('areas', 9), ('new', 10), ('england', 11), ('could', 12), ('see', 13), ('first', 14), ('season', 15), ('worst', 16), ('definitely', 17), ('tony', 18), ('man', 19)]\n"
     ]
    }
   ],
   "source": [
    "print('Number of unique words: ', len(word2idx))\n",
    "print('\\nSample word2idx: ', list(word2idx.items())[:20])"
   ]
  },
  {
   "cell_type": "code",
   "execution_count": 248,
   "metadata": {},
   "outputs": [],
   "source": [
    "#convert sentences to ids\n",
    "train_data = sentID(tagged_train)\n",
    "test_data = sentID(tagged_test)"
   ]
  },
  {
   "cell_type": "code",
   "execution_count": 250,
   "metadata": {},
   "outputs": [
    {
     "name": "stdout",
     "output_type": "stream",
     "text": [
      "Train data: ['<START>', '<UNK>', '<UNK>', 'tomorrow', 'good', 'night', 'love']\n",
      "Training data sentences as ids:  [1, 2, 2, 5, 48, 49, 50]\n"
     ]
    }
   ],
   "source": [
    "print(\"Train data:\",tagged_train[6])\n",
    "print(\"Training data sentences as ids: \",train_data[6])"
   ]
  },
  {
   "cell_type": "code",
   "execution_count": 261,
   "metadata": {},
   "outputs": [],
   "source": [
    "#Maximum length of a sentnce\n",
    "allData = train_data + test_data"
   ]
  },
  {
   "cell_type": "markdown",
   "metadata": {},
   "source": [
    "### 2. Prepare the Input"
   ]
  },
  {
   "cell_type": "code",
   "execution_count": 251,
   "metadata": {},
   "outputs": [],
   "source": [
    "from keras.preprocessing.sequence import pad_sequences\n",
    "\n",
    "MAX_LEN = 30\n",
    "X_train_enc = pad_sequences(train_data, padding ='pre',maxlen = MAX_LEN,value =0)\n",
    "X_test_enc = pad_sequences(test_data, padding ='pre',maxlen = MAX_LEN,value =0)"
   ]
  },
  {
   "cell_type": "markdown",
   "metadata": {},
   "source": [
    "View a padded review:"
   ]
  },
  {
   "cell_type": "code",
   "execution_count": 253,
   "metadata": {},
   "outputs": [
    {
     "name": "stdout",
     "output_type": "stream",
     "text": [
      "[ 0  0  0  0  0  0  0  0  0  0  0  0  0  0  0  0  0  0  0  0  0  0  0  1\n",
      "  2  2  5 48 49 50]\n"
     ]
    }
   ],
   "source": [
    "print(X_train_enc[6])\n"
   ]
  },
  {
   "cell_type": "markdown",
   "metadata": {},
   "source": [
    "We have about 19000 samples, we will split the data as follows: 3500 for validation and the rest for training"
   ]
  },
  {
   "cell_type": "code",
   "execution_count": 254,
   "metadata": {},
   "outputs": [],
   "source": [
    "X_val = np.array(X_train_enc[:3500])\n",
    "partial_X_train = np.array(X_train_enc[3500:])\n",
    "\n",
    "y_val = np.array(train_labels[:3500])\n",
    "partial_y_train = np.array(train_labels[3500:])"
   ]
  },
  {
   "cell_type": "markdown",
   "metadata": {},
   "source": [
    "Decode a tweet (index 6 we have been using so far)"
   ]
  },
  {
   "cell_type": "code",
   "execution_count": 255,
   "metadata": {},
   "outputs": [
    {
     "data": {
      "text/plain": [
       "'<PAD> <PAD> <PAD> <PAD> <PAD> <PAD> <PAD> <PAD> <PAD> <PAD> <PAD> <PAD> <PAD> <PAD> <PAD> <PAD> <PAD> <PAD> <PAD> <PAD> <PAD> <PAD> <PAD> <START> <UNK> <UNK> tomorrow good night love'"
      ]
     },
     "execution_count": 255,
     "metadata": {},
     "output_type": "execute_result"
    }
   ],
   "source": [
    "text = X_val[6]\n",
    "' '.join([idx2word.get(i, '?') for i in text])"
   ]
  },
  {
   "cell_type": "markdown",
   "metadata": {},
   "source": [
    "### 3. Build the model"
   ]
  },
  {
   "cell_type": "code",
   "execution_count": 277,
   "metadata": {},
   "outputs": [
    {
     "name": "stdout",
     "output_type": "stream",
     "text": [
      "_________________________________________________________________\n",
      "Layer (type)                 Output Shape              Param #   \n",
      "=================================================================\n",
      "input_1 (InputLayer)         (None, 30)                0         \n",
      "_________________________________________________________________\n",
      "Embedding_Layer (Embedding)  (None, 30, 32)            256032    \n",
      "_________________________________________________________________\n",
      "LSTM_Layer (LSTM)            (None, 30)                7560      \n",
      "_________________________________________________________________\n",
      "Output_Layer (Dense)         (None, 3)                 93        \n",
      "=================================================================\n",
      "Total params: 263,685\n",
      "Trainable params: 263,685\n",
      "Non-trainable params: 0\n",
      "_________________________________________________________________\n",
      "None\n"
     ]
    }
   ],
   "source": [
    "# first layer =  embedding layer\n",
    "#second layer LSTM with max_len units \n",
    "#last layer = output layer.choose softmax classification for multiple classes\n",
    "# Compile model: sparse_categorical_crossentropy, adam optimizer, metrics as accuracy\n",
    "\n",
    "from keras.models import Model\n",
    "from keras.layers import Embedding, LSTM, Dense, Input\n",
    "\n",
    "EMBED_SIZE = 32\n",
    "\n",
    "main_input = Input(shape=(MAX_LEN,), name='input_1')\n",
    "layer1= Embedding(VOCAB_SIZE+1,output_dim=EMBED_SIZE, name='Embedding_Layer')(main_input)\n",
    "layer2 = LSTM(MAX_LEN, name='LSTM_Layer')(layer1)\n",
    "output = Dense(3, activation = \"softmax\", name='Output_Layer')(layer2) \n",
    "model = Model(inputs=main_input, outputs=output)\n",
    "\n",
    "model.compile(optimizer = \"adam\",loss = \"sparse_categorical_crossentropy\",metrics = [\"accuracy\"])\n",
    "\n",
    "print(model.summary())"
   ]
  },
  {
   "cell_type": "markdown",
   "metadata": {},
   "source": [
    "Visualize the model structure"
   ]
  },
  {
   "cell_type": "code",
   "execution_count": 278,
   "metadata": {},
   "outputs": [
    {
     "data": {
      "image/svg+xml": [
       "<svg height=\"304pt\" viewBox=\"0.00 0.00 352.00 304.00\" width=\"352pt\" xmlns=\"http://www.w3.org/2000/svg\" xmlns:xlink=\"http://www.w3.org/1999/xlink\">\n",
       "<g class=\"graph\" id=\"graph0\" transform=\"scale(1 1) rotate(0) translate(4 300)\">\n",
       "<title>G</title>\n",
       "<polygon fill=\"white\" points=\"-4,4 -4,-300 348,-300 348,4 -4,4\" stroke=\"none\"/>\n",
       "<!-- 3164372281160 -->\n",
       "<g class=\"node\" id=\"node1\"><title>3164372281160</title>\n",
       "<polygon fill=\"none\" points=\"42.5,-249.5 42.5,-295.5 301.5,-295.5 301.5,-249.5 42.5,-249.5\" stroke=\"black\"/>\n",
       "<text font-family=\"Times New Roman,serif\" font-size=\"14.00\" text-anchor=\"middle\" x=\"105.5\" y=\"-268.8\">input_1: InputLayer</text>\n",
       "<polyline fill=\"none\" points=\"168.5,-249.5 168.5,-295.5 \" stroke=\"black\"/>\n",
       "<text font-family=\"Times New Roman,serif\" font-size=\"14.00\" text-anchor=\"middle\" x=\"196.5\" y=\"-280.3\">input:</text>\n",
       "<polyline fill=\"none\" points=\"168.5,-272.5 224.5,-272.5 \" stroke=\"black\"/>\n",
       "<text font-family=\"Times New Roman,serif\" font-size=\"14.00\" text-anchor=\"middle\" x=\"196.5\" y=\"-257.3\">output:</text>\n",
       "<polyline fill=\"none\" points=\"224.5,-249.5 224.5,-295.5 \" stroke=\"black\"/>\n",
       "<text font-family=\"Times New Roman,serif\" font-size=\"14.00\" text-anchor=\"middle\" x=\"263\" y=\"-280.3\">(None, 30)</text>\n",
       "<polyline fill=\"none\" points=\"224.5,-272.5 301.5,-272.5 \" stroke=\"black\"/>\n",
       "<text font-family=\"Times New Roman,serif\" font-size=\"14.00\" text-anchor=\"middle\" x=\"263\" y=\"-257.3\">(None, 30)</text>\n",
       "</g>\n",
       "<!-- 3164372302144 -->\n",
       "<g class=\"node\" id=\"node2\"><title>3164372302144</title>\n",
       "<polygon fill=\"none\" points=\"0,-166.5 0,-212.5 344,-212.5 344,-166.5 0,-166.5\" stroke=\"black\"/>\n",
       "<text font-family=\"Times New Roman,serif\" font-size=\"14.00\" text-anchor=\"middle\" x=\"95\" y=\"-185.8\">Embedding_Layer: Embedding</text>\n",
       "<polyline fill=\"none\" points=\"190,-166.5 190,-212.5 \" stroke=\"black\"/>\n",
       "<text font-family=\"Times New Roman,serif\" font-size=\"14.00\" text-anchor=\"middle\" x=\"218\" y=\"-197.3\">input:</text>\n",
       "<polyline fill=\"none\" points=\"190,-189.5 246,-189.5 \" stroke=\"black\"/>\n",
       "<text font-family=\"Times New Roman,serif\" font-size=\"14.00\" text-anchor=\"middle\" x=\"218\" y=\"-174.3\">output:</text>\n",
       "<polyline fill=\"none\" points=\"246,-166.5 246,-212.5 \" stroke=\"black\"/>\n",
       "<text font-family=\"Times New Roman,serif\" font-size=\"14.00\" text-anchor=\"middle\" x=\"295\" y=\"-197.3\">(None, 30)</text>\n",
       "<polyline fill=\"none\" points=\"246,-189.5 344,-189.5 \" stroke=\"black\"/>\n",
       "<text font-family=\"Times New Roman,serif\" font-size=\"14.00\" text-anchor=\"middle\" x=\"295\" y=\"-174.3\">(None, 30, 32)</text>\n",
       "</g>\n",
       "<!-- 3164372281160&#45;&gt;3164372302144 -->\n",
       "<g class=\"edge\" id=\"edge1\"><title>3164372281160-&gt;3164372302144</title>\n",
       "<path d=\"M172,-249.366C172,-241.152 172,-231.658 172,-222.725\" fill=\"none\" stroke=\"black\"/>\n",
       "<polygon fill=\"black\" points=\"175.5,-222.607 172,-212.607 168.5,-222.607 175.5,-222.607\" stroke=\"black\"/>\n",
       "</g>\n",
       "<!-- 3164372303376 -->\n",
       "<g class=\"node\" id=\"node3\"><title>3164372303376</title>\n",
       "<polygon fill=\"none\" points=\"26.5,-83.5 26.5,-129.5 317.5,-129.5 317.5,-83.5 26.5,-83.5\" stroke=\"black\"/>\n",
       "<text font-family=\"Times New Roman,serif\" font-size=\"14.00\" text-anchor=\"middle\" x=\"95\" y=\"-102.8\">LSTM_Layer: LSTM</text>\n",
       "<polyline fill=\"none\" points=\"163.5,-83.5 163.5,-129.5 \" stroke=\"black\"/>\n",
       "<text font-family=\"Times New Roman,serif\" font-size=\"14.00\" text-anchor=\"middle\" x=\"191.5\" y=\"-114.3\">input:</text>\n",
       "<polyline fill=\"none\" points=\"163.5,-106.5 219.5,-106.5 \" stroke=\"black\"/>\n",
       "<text font-family=\"Times New Roman,serif\" font-size=\"14.00\" text-anchor=\"middle\" x=\"191.5\" y=\"-91.3\">output:</text>\n",
       "<polyline fill=\"none\" points=\"219.5,-83.5 219.5,-129.5 \" stroke=\"black\"/>\n",
       "<text font-family=\"Times New Roman,serif\" font-size=\"14.00\" text-anchor=\"middle\" x=\"268.5\" y=\"-114.3\">(None, 30, 32)</text>\n",
       "<polyline fill=\"none\" points=\"219.5,-106.5 317.5,-106.5 \" stroke=\"black\"/>\n",
       "<text font-family=\"Times New Roman,serif\" font-size=\"14.00\" text-anchor=\"middle\" x=\"268.5\" y=\"-91.3\">(None, 30)</text>\n",
       "</g>\n",
       "<!-- 3164372302144&#45;&gt;3164372303376 -->\n",
       "<g class=\"edge\" id=\"edge2\"><title>3164372302144-&gt;3164372303376</title>\n",
       "<path d=\"M172,-166.366C172,-158.152 172,-148.658 172,-139.725\" fill=\"none\" stroke=\"black\"/>\n",
       "<polygon fill=\"black\" points=\"175.5,-139.607 172,-129.607 168.5,-139.607 175.5,-139.607\" stroke=\"black\"/>\n",
       "</g>\n",
       "<!-- 3164372302536 -->\n",
       "<g class=\"node\" id=\"node4\"><title>3164372302536</title>\n",
       "<polygon fill=\"none\" points=\"37.5,-0.5 37.5,-46.5 306.5,-46.5 306.5,-0.5 37.5,-0.5\" stroke=\"black\"/>\n",
       "<text font-family=\"Times New Roman,serif\" font-size=\"14.00\" text-anchor=\"middle\" x=\"105.5\" y=\"-19.8\">Output_Layer: Dense</text>\n",
       "<polyline fill=\"none\" points=\"173.5,-0.5 173.5,-46.5 \" stroke=\"black\"/>\n",
       "<text font-family=\"Times New Roman,serif\" font-size=\"14.00\" text-anchor=\"middle\" x=\"201.5\" y=\"-31.3\">input:</text>\n",
       "<polyline fill=\"none\" points=\"173.5,-23.5 229.5,-23.5 \" stroke=\"black\"/>\n",
       "<text font-family=\"Times New Roman,serif\" font-size=\"14.00\" text-anchor=\"middle\" x=\"201.5\" y=\"-8.3\">output:</text>\n",
       "<polyline fill=\"none\" points=\"229.5,-0.5 229.5,-46.5 \" stroke=\"black\"/>\n",
       "<text font-family=\"Times New Roman,serif\" font-size=\"14.00\" text-anchor=\"middle\" x=\"268\" y=\"-31.3\">(None, 30)</text>\n",
       "<polyline fill=\"none\" points=\"229.5,-23.5 306.5,-23.5 \" stroke=\"black\"/>\n",
       "<text font-family=\"Times New Roman,serif\" font-size=\"14.00\" text-anchor=\"middle\" x=\"268\" y=\"-8.3\">(None, 3)</text>\n",
       "</g>\n",
       "<!-- 3164372303376&#45;&gt;3164372302536 -->\n",
       "<g class=\"edge\" id=\"edge3\"><title>3164372303376-&gt;3164372302536</title>\n",
       "<path d=\"M172,-83.3664C172,-75.1516 172,-65.6579 172,-56.7252\" fill=\"none\" stroke=\"black\"/>\n",
       "<polygon fill=\"black\" points=\"175.5,-56.6068 172,-46.6068 168.5,-56.6069 175.5,-56.6068\" stroke=\"black\"/>\n",
       "</g>\n",
       "</g>\n",
       "</svg>"
      ],
      "text/plain": [
       "<IPython.core.display.SVG object>"
      ]
     },
     "execution_count": 278,
     "metadata": {},
     "output_type": "execute_result"
    }
   ],
   "source": [
    "from keras.utils import plot_model\n",
    "from IPython.display import SVG\n",
    "from keras.utils import vis_utils\n",
    "\n",
    "SVG(vis_utils.model_to_dot(model,show_shapes=True, show_layer_names=True).create(prog='dot',format='svg'))"
   ]
  },
  {
   "cell_type": "markdown",
   "metadata": {},
   "source": [
    "### 4. Training the model"
   ]
  },
  {
   "cell_type": "markdown",
   "metadata": {},
   "source": [
    "Train the model with different batch sizes and epochs"
   ]
  },
  {
   "cell_type": "code",
   "execution_count": 279,
   "metadata": {},
   "outputs": [
    {
     "name": "stdout",
     "output_type": "stream",
     "text": [
      "Train on 16161 samples, validate on 3500 samples\n",
      "Epoch 1/3\n",
      "16161/16161 [==============================] - 22s 1ms/step - loss: 0.9865 - acc: 0.4789 - val_loss: 0.9862 - val_acc: 0.5171\n",
      "Epoch 2/3\n",
      "16161/16161 [==============================] - 19s 1ms/step - loss: 0.7803 - acc: 0.6382 - val_loss: 0.8868 - val_acc: 0.5914\n",
      "Epoch 3/3\n",
      "16161/16161 [==============================] - 18s 1ms/step - loss: 0.6481 - acc: 0.7219 - val_loss: 0.9444 - val_acc: 0.5809\n"
     ]
    }
   ],
   "source": [
    "history = model.fit(partial_X_train,\n",
    "                    partial_y_train,\n",
    "                    epochs =3,\n",
    "                    batch_size=100,\n",
    "                    validation_data=(X_val, y_val),\n",
    "                    verbose=1)"
   ]
  },
  {
   "cell_type": "markdown",
   "metadata": {},
   "source": [
    "Plotting the accuracy"
   ]
  },
  {
   "cell_type": "code",
   "execution_count": 280,
   "metadata": {},
   "outputs": [
    {
     "data": {
      "image/png": "[encoded data removed]",
      "text/plain": [
       "<Figure size 432x288 with 1 Axes>"
      ]
     },
     "metadata": {
      "needs_background": "light"
     },
     "output_type": "display_data"
    }
   ],
   "source": [
    "import matplotlib.pyplot as plt\n",
    "\n",
    "history_dict = history.history\n",
    "\n",
    "acc = history_dict['acc']\n",
    "val_acc = history_dict['val_acc']\n",
    "loss = history_dict['loss']\n",
    "val_loss = history_dict['val_loss']\n",
    "\n",
    "epochs = range(1, len(acc) + 1)\n",
    "\n",
    "plt.plot(epochs, acc, 'bo', label='Training acc')\n",
    "plt.plot(epochs, val_acc, 'b', label='Validation acc')\n",
    "plt.title('Training and validation accuracy')\n",
    "plt.xlabel('Epochs')\n",
    "plt.ylabel('Accuracy')\n",
    "plt.legend()\n",
    "\n",
    "plt.show()"
   ]
  },
  {
   "cell_type": "markdown",
   "metadata": {},
   "source": [
    "### 5. Evaluating the model on the test data"
   ]
  },
  {
   "cell_type": "code",
   "execution_count": 281,
   "metadata": {},
   "outputs": [
    {
     "name": "stdout",
     "output_type": "stream",
     "text": [
      "30146/30146 [==============================] - 28s 938us/step\n"
     ]
    }
   ],
   "source": [
    "results = model.evaluate(X_test_enc, test_labels)"
   ]
  },
  {
   "cell_type": "markdown",
   "metadata": {},
   "source": [
    "Print results"
   ]
  },
  {
   "cell_type": "code",
   "execution_count": 282,
   "metadata": {},
   "outputs": [
    {
     "name": "stdout",
     "output_type": "stream",
     "text": [
      "test_loss: 0.9332514204406662 test_accuracy: 0.5674052942347243\n"
     ]
    }
   ],
   "source": [
    "print('test_loss:', results[0], 'test_accuracy:', results[1])"
   ]
  },
  {
   "cell_type": "markdown",
   "metadata": {},
   "source": [
    "### 6. Extracting the word Embeddings"
   ]
  },
  {
   "cell_type": "code",
   "execution_count": 283,
   "metadata": {},
   "outputs": [],
   "source": [
    "word_embeddings = model.get_layer('Embedding_Layer').get_weights()[0]"
   ]
  },
  {
   "cell_type": "code",
   "execution_count": 284,
   "metadata": {},
   "outputs": [
    {
     "name": "stdout",
     "output_type": "stream",
     "text": [
      "Shape of word_embeddings: (8001, 32)\n"
     ]
    }
   ],
   "source": [
    "print('Shape of word_embeddings:', word_embeddings.shape)"
   ]
  },
  {
   "cell_type": "markdown",
   "metadata": {},
   "source": [
    "### 7. Visualize the Word Embeddings"
   ]
  },
  {
   "cell_type": "markdown",
   "metadata": {},
   "source": [
    "Sanity check:"
   ]
  },
  {
   "cell_type": "code",
   "execution_count": 287,
   "metadata": {},
   "outputs": [
    {
     "name": "stdout",
     "output_type": "stream",
     "text": [
      "                  0         1         2         3         4         5   \\\n",
      "hebdo       0.048374 -0.032764 -0.019848  0.001387 -0.034184  0.007173   \n",
      "blackstar   0.044714 -0.009867 -0.018663  0.009382 -0.000654  0.033668   \n",
      "topdawgent  0.036511 -0.024188  0.014463  0.007105 -0.036918  0.017906   \n",
      "partridge   0.022988 -0.027049 -0.000948  0.036313  0.041829 -0.017726   \n",
      "kejriwal   -0.040137  0.028103  0.047196  0.021744 -0.019397  0.028229   \n",
      "aacta      -0.041879  0.030317 -0.036356  0.021507  0.010336 -0.032978   \n",
      "coles       0.044627 -0.010700  0.012430 -0.011638  0.017108  0.033913   \n",
      "sampdoria  -0.044425 -0.001319  0.033541 -0.035831 -0.022569  0.000566   \n",
      "yemen       0.025752 -0.035771 -0.043068  0.008002  0.012257  0.036921   \n",
      "petrol     -0.033733  0.020183  0.028400  0.038212 -0.048872 -0.040136   \n",
      "\n",
      "                  6         7         8         9   ...        22        23  \\\n",
      "hebdo      -0.036415 -0.034493 -0.021328  0.046167  ...  0.034306 -0.002937   \n",
      "blackstar  -0.046303 -0.021869 -0.030868 -0.039978  ...  0.028774 -0.007133   \n",
      "topdawgent  0.024862  0.016789  0.044259  0.048772  ...  0.040165 -0.029303   \n",
      "partridge   0.017066  0.004196 -0.027769  0.009312  ... -0.029198 -0.048458   \n",
      "kejriwal    0.014798  0.027072  0.037793 -0.028356  ... -0.012397  0.016358   \n",
      "aacta      -0.011697  0.027729  0.026243 -0.039109  ...  0.005892 -0.034051   \n",
      "coles      -0.024188  0.009248 -0.016075 -0.016328  ... -0.038497 -0.031530   \n",
      "sampdoria  -0.031131  0.038417 -0.003812  0.005972  ...  0.000350  0.043516   \n",
      "yemen      -0.036467  0.006980  0.015164 -0.037698  ... -0.018584 -0.038951   \n",
      "petrol      0.007416  0.012763  0.003541  0.044690  ...  0.029763  0.020568   \n",
      "\n",
      "                  24        25        26        27        28        29  \\\n",
      "hebdo       0.024121  0.031615  0.014722  0.037054  0.013761 -0.027750   \n",
      "blackstar   0.029265 -0.047906 -0.007830 -0.010572 -0.005815  0.014852   \n",
      "topdawgent  0.037151  0.026690 -0.048077  0.035986 -0.028024 -0.045356   \n",
      "partridge   0.016338 -0.046687 -0.022784 -0.030906 -0.049451  0.003789   \n",
      "kejriwal   -0.036338  0.008524 -0.024168  0.011293 -0.015460 -0.005540   \n",
      "aacta      -0.043228  0.007141  0.039013 -0.009593  0.009213 -0.027605   \n",
      "coles      -0.015204 -0.039967  0.009490  0.013327 -0.042149  0.003328   \n",
      "sampdoria   0.029464  0.048177  0.024251 -0.036611  0.011312  0.048653   \n",
      "yemen       0.030463  0.033580 -0.035652  0.014233  0.040041 -0.019710   \n",
      "petrol      0.009058 -0.036149 -0.017952 -0.008683  0.049791 -0.043476   \n",
      "\n",
      "                  30        31  \n",
      "hebdo      -0.006161 -0.048387  \n",
      "blackstar  -0.024745  0.004181  \n",
      "topdawgent  0.048233 -0.018306  \n",
      "partridge   0.032252  0.006948  \n",
      "kejriwal   -0.002867  0.032608  \n",
      "aacta      -0.012448 -0.035158  \n",
      "coles      -0.005721 -0.014924  \n",
      "sampdoria   0.022488 -0.002734  \n",
      "yemen      -0.042683 -0.020919  \n",
      "petrol     -0.045378  0.030036  \n",
      "\n",
      "[10 rows x 32 columns]\n"
     ]
    }
   ],
   "source": [
    "from pandas import DataFrame\n",
    "print(DataFrame(word_embeddings, index=idx2word.values()).tail(10))"
   ]
  },
  {
   "cell_type": "markdown",
   "metadata": {},
   "source": [
    "Plot the word embeddings using TSNE"
   ]
  },
  {
   "cell_type": "code",
   "execution_count": 271,
   "metadata": {},
   "outputs": [
    {
     "data": {
      "image/png": "[encoded data removed]",
      "text/plain": [
       "<Figure size 1008x576 with 1 Axes>"
      ]
     },
     "metadata": {
      "needs_background": "light"
     },
     "output_type": "display_data"
    }
   ],
   "source": [
    "from sklearn.manifold import TSNE\n",
    "import numpy as np\n",
    "\n",
    "tsne = TSNE(perplexity=3, n_components=2, init='pca', n_iter=5000, method='exact')\n",
    "np.set_printoptions(suppress=True)\n",
    "\n",
    "# starting from the first word\n",
    "start = 3\n",
    "plot_only = 54\n",
    "T = tsne.fit_transform(word_embeddings[start:plot_only, :])\n",
    "labels = [idx2word[i] for i in range(start, plot_only)]\n",
    "plt.figure(figsize=(14, 8))\n",
    "plt.scatter(T[:, 0], T[:, 1])\n",
    "for label, x, y in zip(labels, T[:, 0], T[:, 1]):\n",
    "    plt.annotate(label, xy=(x+1, y+1), xytext=(0, 0), textcoords='offset points',ha='right',va='bottom')"
   ]
  },
  {
   "cell_type": "code",
   "execution_count": null,
   "metadata": {},
   "outputs": [],
   "source": []
  },
  {
   "cell_type": "code",
   "execution_count": null,
   "metadata": {},
   "outputs": [],
   "source": []
  }
 ],
 "metadata": {
  "kernelspec": {
   "display_name": "Python 3",
   "language": "python",
   "name": "python3"
  },
  "language_info": {
   "codemirror_mode": {
    "name": "ipython",
    "version": 3
   },
   "file_extension": ".py",
   "mimetype": "text/x-python",
   "name": "python",
   "nbconvert_exporter": "python",
   "pygments_lexer": "ipython3",
   "version": "3.6.8"
  }
 },
 "nbformat": 4,
 "nbformat_minor": 2
}
