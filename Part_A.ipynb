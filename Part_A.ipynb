{
  "nbformat": 4,
  "nbformat_minor": 0,
  "metadata": {
    "colab": {
      "name": "NLP_Assignment_A.ipynb",
      "version": "0.3.2",
      "provenance": []
    },
    "kernelspec": {
      "name": "python3",
      "display_name": "Python 3"
    },
    "accelerator": "GPU"
  },
  "cells": [
    {
      "metadata": {
        "id": "W7xATfEVuxat",
        "colab_type": "code",
        "outputId": "278703da-e2c5-4ed8-84ea-5a8b663edced",
        "colab": {
          "base_uri": "https://localhost:8080/",
          "height": 146
        }
      },
      "cell_type": "code",
      "source": [
        "import nltk\n",
        "import numpy as np\n",
        "nltk.download('punkt')\n",
        "nltk.download('gutenberg')\n",
        "nltk.download('stopwords') # download the stopwords\n",
        "from nltk.corpus import gutenberg\n",
        "austen = gutenberg.sents('austen-sense.txt')+ gutenberg.sents('austen-emma.txt')+ gutenberg.sents('austen-persuasion.txt')\n",
        "# sanity check 16498. \n",
        "print(len(austen))"
      ],
      "execution_count": 1,
      "outputs": [
        {
          "output_type": "stream",
          "text": [
            "[nltk_data] Downloading package punkt to /root/nltk_data...\n",
            "[nltk_data]   Unzipping tokenizers/punkt.zip.\n",
            "[nltk_data] Downloading package gutenberg to /root/nltk_data...\n",
            "[nltk_data]   Unzipping corpora/gutenberg.zip.\n",
            "[nltk_data] Downloading package stopwords to /root/nltk_data...\n",
            "[nltk_data]   Unzipping corpora/stopwords.zip.\n",
            "16498\n"
          ],
          "name": "stdout"
        }
      ]
    },
    {
      "metadata": {
        "id": "jFxyVFp5uxbW",
        "colab_type": "code",
        "outputId": "95862c9f-fc0e-4b43-daf2-c519e9317a46",
        "colab": {
          "base_uri": "https://localhost:8080/",
          "height": 35
        }
      },
      "cell_type": "code",
      "source": [
        "austen[0]"
      ],
      "execution_count": 2,
      "outputs": [
        {
          "output_type": "execute_result",
          "data": {
            "text/plain": [
              "['[', 'Sense', 'and', 'Sensibility', 'by', 'Jane', 'Austen', '1811', ']']"
            ]
          },
          "metadata": {
            "tags": []
          },
          "execution_count": 2
        }
      ]
    },
    {
      "metadata": {
        "id": "owefOvPVuxbn",
        "colab_type": "text"
      },
      "cell_type": "markdown",
      "source": [
        "#### 2. Preprocess the Training Corpus"
      ]
    },
    {
      "metadata": {
        "id": "wp0ICfWIuxbt",
        "colab_type": "code",
        "colab": {}
      },
      "cell_type": "code",
      "source": [
        " # Filter out stopwords, empty strings, special characters and digits\n",
        "from nltk.corpus import stopwords\n",
        "from nltk.tokenize import word_tokenize\n",
        "import string\n",
        "\n",
        "stop_list = stopwords.words('english') + list(string.punctuation)\n",
        "normalized_corpus = []\n",
        "\n",
        "for i in range(len(austen)):\n",
        "    result = [] # clears result after each sentence\n",
        "    for w in austen[i]:\n",
        "        w = w.lower()  #change to lower case\n",
        "        w = w.strip()      #remove white spaces\n",
        "        if w not in stop_list and w.isalpha(): #filter out special characters,stop words and not a digit\n",
        "                result.append(w)\n",
        "    if len(result) > 2:  # make sure that each line contains a minimum of 2 words for the normalize corpus e.g X 'chapter'\n",
        "        normalized_corpus.append(result)"
      ],
      "execution_count": 0,
      "outputs": []
    },
    {
      "metadata": {
        "id": "EoZmMsxnuxb6",
        "colab_type": "code",
        "outputId": "b5aa0f23-8f05-4ce3-fc9b-45178d0b1627",
        "colab": {
          "base_uri": "https://localhost:8080/",
          "height": 74
        }
      },
      "cell_type": "code",
      "source": [
        "print(\"Processed line: \",normalized_corpus[10])\n",
        "print(\"Length of processed corpus: \", len(normalized_corpus))"
      ],
      "execution_count": 33,
      "outputs": [
        {
          "output_type": "stream",
          "text": [
            "Processed line:  ['therefore', 'succession', 'norland', 'estate', 'really', 'important', 'sisters', 'fortune', 'independent', 'might', 'arise', 'father', 'inheriting', 'property', 'could', 'small']\n",
            "Length of processed corpus:  13923\n"
          ],
          "name": "stdout"
        }
      ]
    },
    {
      "metadata": {
        "id": "oS76xOO4uxcH",
        "colab_type": "text"
      },
      "cell_type": "markdown",
      "source": [
        "#### 3. Create the Corpus Vocabulary and Preparing the Dataset"
      ]
    },
    {
      "metadata": {
        "id": "mIZA2dfduxcK",
        "colab_type": "code",
        "outputId": "783f7b9f-2566-498f-a2b1-6deabec81abb",
        "colab": {
          "base_uri": "https://localhost:8080/",
          "height": 35
        }
      },
      "cell_type": "code",
      "source": [
        "from keras.preprocessing.text import Tokenizer\n",
        "\n",
        "tok = Tokenizer(num_words = None) \n",
        "tok.fit_on_texts(normalized_corpus)\n",
        "word2idx = tok.word_index\n",
        "idx2word = dict([[v,k] for k,v in word2idx.items()])"
      ],
      "execution_count": 5,
      "outputs": [
        {
          "output_type": "stream",
          "text": [
            "Using TensorFlow backend.\n"
          ],
          "name": "stderr"
        }
      ]
    },
    {
      "metadata": {
        "id": "hxEcbuvEuxcX",
        "colab_type": "code",
        "colab": {}
      },
      "cell_type": "code",
      "source": [
        "#sents as ids\n",
        "sents_as_ids = []\n",
        "for i in range(len(normalized_corpus)):\n",
        "    converted = [] # empty list for every new line in corpus\n",
        "    for word in normalized_corpus[i]:\n",
        "        converted.append(word2idx[word]) #create sentence as a list of ids\n",
        "    sents_as_ids.append(converted)"
      ],
      "execution_count": 0,
      "outputs": []
    },
    {
      "metadata": {
        "id": "ySJW5SH3uxci",
        "colab_type": "text"
      },
      "cell_type": "markdown",
      "source": [
        "Set vocab_size and embed_size"
      ]
    },
    {
      "metadata": {
        "id": "HhiwtsLiuxcm",
        "colab_type": "code",
        "colab": {}
      },
      "cell_type": "code",
      "source": [
        "vocab_size = len(word2idx) + 1 #1 was added for zero padding\n",
        "embed_size = 100 #100D embeddings"
      ],
      "execution_count": 0,
      "outputs": []
    },
    {
      "metadata": {
        "id": "Z4GP1FfQuxdF",
        "colab_type": "text"
      },
      "cell_type": "markdown",
      "source": [
        "Sanity Check:"
      ]
    },
    {
      "metadata": {
        "id": "9EQXkmX4uxdJ",
        "colab_type": "code",
        "outputId": "07026316-ec9a-48fa-f537-fc1de4056fbb",
        "colab": {
          "base_uri": "https://localhost:8080/",
          "height": 35
        }
      },
      "cell_type": "code",
      "source": [
        "print('Number of unique words: ', len(word2idx))"
      ],
      "execution_count": 8,
      "outputs": [
        {
          "output_type": "stream",
          "text": [
            "Number of unique words:  10084\n"
          ],
          "name": "stdout"
        }
      ]
    },
    {
      "metadata": {
        "id": "ytV6p3NzuxdX",
        "colab_type": "code",
        "outputId": "11d626f5-f40c-4658-ce9b-de6245dd8046",
        "colab": {
          "base_uri": "https://localhost:8080/",
          "height": 74
        }
      },
      "cell_type": "code",
      "source": [
        "print('\\nSample word2idx: ', list(word2idx.items())[100:120])"
      ],
      "execution_count": 9,
      "outputs": [
        {
          "output_type": "stream",
          "text": [
            "\n",
            "Sample word2idx:  [('dashwood', 101), ('something', 102), ('feelings', 103), ('found', 104), ('yet', 105), ('perhaps', 106), ('fairfax', 107), ('family', 108), ('till', 109), ('present', 110), ('poor', 111), ('half', 112), ('going', 113), ('look', 114), ('love', 115), ('believe', 116), ('colonel', 117), ('almost', 118), ('jennings', 119), ('heart', 120)]\n"
          ],
          "name": "stdout"
        }
      ]
    },
    {
      "metadata": {
        "id": "ybvQm1Vfuxdg",
        "colab_type": "code",
        "outputId": "d6be65eb-c165-4da1-fc99-fcae964a932c",
        "colab": {
          "base_uri": "https://localhost:8080/",
          "height": 54
        }
      },
      "cell_type": "code",
      "source": [
        "print('\\nSample idx2word: ', list(idx2word.items())[:10])"
      ],
      "execution_count": 10,
      "outputs": [
        {
          "output_type": "stream",
          "text": [
            "\n",
            "Sample idx2word:  [(1, 'could'), (2, 'would'), (3, 'mr'), (4, 'mrs'), (5, 'must'), (6, 'said'), (7, 'one'), (8, 'much'), (9, 'miss'), (10, 'every')]\n"
          ],
          "name": "stdout"
        }
      ]
    },
    {
      "metadata": {
        "id": "hoosYvTIuxdx",
        "colab_type": "code",
        "outputId": "cac8b4aa-3d1e-4bec-8190-7d929d7e0966",
        "colab": {
          "base_uri": "https://localhost:8080/",
          "height": 74
        }
      },
      "cell_type": "code",
      "source": [
        "print('\\nSample normalized corpus: ', normalized_corpus[:3])"
      ],
      "execution_count": 11,
      "outputs": [
        {
          "output_type": "stream",
          "text": [
            "\n",
            "Sample normalized corpus:  [['sense', 'sensibility', 'jane', 'austen'], ['family', 'dashwood', 'long', 'settled', 'sussex'], ['estate', 'large', 'residence', 'norland', 'park', 'centre', 'property', 'many', 'generations', 'lived', 'respectable', 'manner', 'engage', 'general', 'good', 'opinion', 'surrounding', 'acquaintance']]\n"
          ],
          "name": "stdout"
        }
      ]
    },
    {
      "metadata": {
        "id": "rGrwdHzVuxd-",
        "colab_type": "code",
        "outputId": "38bd15aa-ac18-4a9a-94bb-3fbb8fb65d9b",
        "colab": {
          "base_uri": "https://localhost:8080/",
          "height": 74
        }
      },
      "cell_type": "code",
      "source": [
        "print('\\nAbove sentence as a list of ids:' ,sents_as_ids[:3])"
      ],
      "execution_count": 35,
      "outputs": [
        {
          "output_type": "stream",
          "text": [
            "\n",
            "Above sentence as a list of ids: [[305, 1379, 75, 4292], [108, 101, 57, 333, 2586], [1022, 404, 1626, 597, 554, 2784, 1023, 66, 4293, 511, 768, 160, 1164, 199, 15, 190, 3041, 147]]\n"
          ],
          "name": "stdout"
        }
      ]
    },
    {
      "metadata": {
        "id": "FEGS-XlGuxeO",
        "colab_type": "text"
      },
      "cell_type": "markdown",
      "source": [
        "#### 4. Generating Training Instances"
      ]
    },
    {
      "metadata": {
        "id": "tbCtpaUouxeR",
        "colab_type": "code",
        "colab": {}
      },
      "cell_type": "code",
      "source": [
        "from keras.preprocessing.sequence import skipgrams\n",
        "skip_grams = [skipgrams(sent,vocabulary_size = vocab_size, window_size = 5) for sent in sents_as_ids]\n"
      ],
      "execution_count": 0,
      "outputs": []
    },
    {
      "metadata": {
        "id": "Jt2kmGYjuxef",
        "colab_type": "text"
      },
      "cell_type": "markdown",
      "source": [
        "Sanity check:"
      ]
    },
    {
      "metadata": {
        "id": "RJGd1dHFuxeu",
        "colab_type": "code",
        "outputId": "6a8633e7-f677-4946-a488-bb972241cf80",
        "colab": {
          "base_uri": "https://localhost:8080/",
          "height": 458
        }
      },
      "cell_type": "code",
      "source": [
        "pairs,labels = skip_grams[0][0],skip_grams[0][1]\n",
        "for i in range (len(pairs)):\n",
        "    print('({:s}({:d}), {:s}, ({:d})) -> {:d}'.format(\n",
        "            idx2word[pairs[i][0]],pairs[i][0],        #the first word and its index\n",
        "            idx2word[pairs[i][1]],pairs[i][1],        #the second word and its index\n",
        "            labels[i]))                               #the label"
      ],
      "execution_count": 14,
      "outputs": [
        {
          "output_type": "stream",
          "text": [
            "(austen(4292), sensibility, (1379)) -> 1\n",
            "(sense(305), sensibility, (1379)) -> 1\n",
            "(sense(305), blossoms, (5304)) -> 0\n",
            "(sensibility(1379), enlightened, (5766)) -> 0\n",
            "(sensibility(1379), sense, (305)) -> 1\n",
            "(jane(75), austen, (4292)) -> 1\n",
            "(sensibility(1379), vowed, (5599)) -> 0\n",
            "(sensibility(1379), jane, (75)) -> 1\n",
            "(sense(305), jane, (75)) -> 1\n",
            "(jane(75), sensibility, (1379)) -> 1\n",
            "(austen(4292), heyday, (9687)) -> 0\n",
            "(austen(4292), sense, (305)) -> 1\n",
            "(sense(305), decisive, (2983)) -> 0\n",
            "(jane(75), taxed, (7395)) -> 0\n",
            "(sense(305), sufferable, (7675)) -> 0\n",
            "(jane(75), verdure, (8706)) -> 0\n",
            "(austen(4292), jane, (75)) -> 1\n",
            "(sensibility(1379), austen, (4292)) -> 1\n",
            "(sensibility(1379), flocks, (8711)) -> 0\n",
            "(sense(305), austen, (4292)) -> 1\n",
            "(jane(75), smoothly, (7444)) -> 0\n",
            "(jane(75), sense, (305)) -> 1\n",
            "(austen(4292), consents, (8458)) -> 0\n",
            "(austen(4292), freak, (8211)) -> 0\n"
          ],
          "name": "stdout"
        }
      ]
    },
    {
      "metadata": {
        "id": "RgCb9FFLuxfL",
        "colab_type": "text"
      },
      "cell_type": "markdown",
      "source": [
        "#### 5. Building the Skip-Gram Neural Network Architecture"
      ]
    },
    {
      "metadata": {
        "id": "VmdxLvlQuxfN",
        "colab_type": "text"
      },
      "cell_type": "markdown",
      "source": [
        "5.A Initialize and Transform the first input"
      ]
    },
    {
      "metadata": {
        "id": "PEHhKwxOuxfP",
        "colab_type": "code",
        "colab": {}
      },
      "cell_type": "code",
      "source": [
        "from keras.layers import Dot, Input\n",
        "from keras.layers.core import Dense, Reshape\n",
        "from keras.layers.embeddings import Embedding\n",
        "from keras.models import Model\n",
        "from keras.utils import plot_model"
      ],
      "execution_count": 0,
      "outputs": []
    },
    {
      "metadata": {
        "id": "2JSuTLYsuxfb",
        "colab_type": "code",
        "outputId": "51057522-efb9-4984-bc42-9bea603adea1",
        "colab": {
          "base_uri": "https://localhost:8080/",
          "height": 92
        }
      },
      "cell_type": "code",
      "source": [
        "#input is an array of indices\n",
        "target_word = Input((1,), dtype ='int32')\n",
        "\n",
        "#feed the words into the model using the Keras Embedding layer\n",
        "target_embedding = Embedding(vocab_size, embed_size, name='target_embed_layer', \n",
        "                             embeddings_initializer='glorot_uniform', input_length=1)(target_word)\n",
        "\n",
        "#so the input = no_inputs x 1 x embed_size and has to be flattened into (no_inputs x embed_size) tensor\n",
        "target_input=Reshape((embed_size,))(target_embedding)"
      ],
      "execution_count": 16,
      "outputs": [
        {
          "output_type": "stream",
          "text": [
            "WARNING:tensorflow:From /usr/local/lib/python3.6/dist-packages/tensorflow/python/framework/op_def_library.py:263: colocate_with (from tensorflow.python.framework.ops) is deprecated and will be removed in a future version.\n",
            "Instructions for updating:\n",
            "Colocations handled automatically by placer.\n"
          ],
          "name": "stdout"
        }
      ]
    },
    {
      "metadata": {
        "id": "RoxsxTwquxft",
        "colab_type": "text"
      },
      "cell_type": "markdown",
      "source": [
        "5.B Write similar code for the 'context word' input"
      ]
    },
    {
      "metadata": {
        "id": "J2ygRgrtuxfx",
        "colab_type": "code",
        "colab": {}
      },
      "cell_type": "code",
      "source": [
        "#input is an array of indices\n",
        "context_word = Input((1,), dtype ='int32')\n",
        "\n",
        "context_embedding = Embedding(vocab_size, embed_size, name='context_embed_layer', \n",
        "                             embeddings_initializer='glorot_uniform', input_length=1)(context_word)\n",
        "\n",
        "context_input=Reshape((embed_size,))(context_embedding)"
      ],
      "execution_count": 0,
      "outputs": []
    },
    {
      "metadata": {
        "id": "jAXM0D5Ruxf4",
        "colab_type": "text"
      },
      "cell_type": "markdown",
      "source": [
        "5.C Merge the inputs"
      ]
    },
    {
      "metadata": {
        "id": "gJWmgufDuxf5",
        "colab_type": "code",
        "colab": {}
      },
      "cell_type": "code",
      "source": [
        "merged_inputs = Dot(axes=-1,normalize=False)([target_input,context_input])"
      ],
      "execution_count": 0,
      "outputs": []
    },
    {
      "metadata": {
        "id": "M1npsnPLuxgG",
        "colab_type": "text"
      },
      "cell_type": "markdown",
      "source": [
        "5.D Pass the merged inputs into sigmoid activated layer"
      ]
    },
    {
      "metadata": {
        "id": "fvr9YS6-uxgH",
        "colab_type": "code",
        "colab": {}
      },
      "cell_type": "code",
      "source": [
        "#the output is label\n",
        "label = Dense(1, activation='sigmoid', kernel_initializer='glorot_uniform')(merged_inputs)"
      ],
      "execution_count": 0,
      "outputs": []
    },
    {
      "metadata": {
        "id": "8nXZzelMuxgO",
        "colab_type": "text"
      },
      "cell_type": "markdown",
      "source": [
        "5 E. Initialize the model"
      ]
    },
    {
      "metadata": {
        "id": "bQ6MAFa-uxgP",
        "colab_type": "code",
        "colab": {}
      },
      "cell_type": "code",
      "source": [
        "model = Model(inputs=[target_word,context_word], outputs=[label])  # label is the output of step D"
      ],
      "execution_count": 0,
      "outputs": []
    },
    {
      "metadata": {
        "id": "HLh23mtyuxgi",
        "colab_type": "text"
      },
      "cell_type": "markdown",
      "source": [
        "5 F. Compile the model using the model.compile command"
      ]
    },
    {
      "metadata": {
        "id": "5dDutEMRuxgl",
        "colab_type": "code",
        "colab": {}
      },
      "cell_type": "code",
      "source": [
        "# use Loss = 'mean_squared_error', optimizer = 'rmsprop'\n",
        "model.compile(optimizer='rmsprop', loss='mean_squared_error')"
      ],
      "execution_count": 0,
      "outputs": []
    },
    {
      "metadata": {
        "id": "zOpFcjBvuxg2",
        "colab_type": "code",
        "outputId": "5233bcd8-ba90-4b87-9f1b-acac504c3eca",
        "colab": {
          "base_uri": "https://localhost:8080/",
          "height": 458
        }
      },
      "cell_type": "code",
      "source": [
        "#Sanity check\n",
        "model.summary()"
      ],
      "execution_count": 22,
      "outputs": [
        {
          "output_type": "stream",
          "text": [
            "__________________________________________________________________________________________________\n",
            "Layer (type)                    Output Shape         Param #     Connected to                     \n",
            "==================================================================================================\n",
            "input_1 (InputLayer)            (None, 1)            0                                            \n",
            "__________________________________________________________________________________________________\n",
            "input_2 (InputLayer)            (None, 1)            0                                            \n",
            "__________________________________________________________________________________________________\n",
            "target_embed_layer (Embedding)  (None, 1, 100)       1008500     input_1[0][0]                    \n",
            "__________________________________________________________________________________________________\n",
            "context_embed_layer (Embedding) (None, 1, 100)       1008500     input_2[0][0]                    \n",
            "__________________________________________________________________________________________________\n",
            "reshape_1 (Reshape)             (None, 100)          0           target_embed_layer[0][0]         \n",
            "__________________________________________________________________________________________________\n",
            "reshape_2 (Reshape)             (None, 100)          0           context_embed_layer[0][0]        \n",
            "__________________________________________________________________________________________________\n",
            "dot_1 (Dot)                     (None, 1)            0           reshape_1[0][0]                  \n",
            "                                                                 reshape_2[0][0]                  \n",
            "__________________________________________________________________________________________________\n",
            "dense_1 (Dense)                 (None, 1)            2           dot_1[0][0]                      \n",
            "==================================================================================================\n",
            "Total params: 2,017,002\n",
            "Trainable params: 2,017,002\n",
            "Non-trainable params: 0\n",
            "__________________________________________________________________________________________________\n"
          ],
          "name": "stdout"
        }
      ]
    },
    {
      "metadata": {
        "id": "tewSGtCiuxhC",
        "colab_type": "code",
        "outputId": "d42dbd09-deea-4458-b708-64af966c349b",
        "colab": {
          "base_uri": "https://localhost:8080/",
          "height": 537
        }
      },
      "cell_type": "code",
      "source": [
        "from IPython.display import SVG\n",
        "from keras.utils import vis_utils\n",
        "SVG(vis_utils.model_to_dot(model,show_shapes=True,show_layer_names=True).create(prog='dot',format='svg'))"
      ],
      "execution_count": 23,
      "outputs": [
        {
          "output_type": "execute_result",
          "data": {
            "text/plain": [
              "<IPython.core.display.SVG object>"
            ],
            "image/svg+xml": "<svg height=\"387pt\" viewBox=\"0.00 0.00 765.50 387.00\" width=\"766pt\" xmlns=\"http://www.w3.org/2000/svg\" xmlns:xlink=\"http://www.w3.org/1999/xlink\">\n<g class=\"graph\" id=\"graph0\" transform=\"scale(1 1) rotate(0) translate(4 383)\">\n<title>G</title>\n<polygon fill=\"#ffffff\" points=\"-4,4 -4,-383 761.5,-383 761.5,4 -4,4\" stroke=\"transparent\"/>\n<!-- 139891155378528 -->\n<g class=\"node\" id=\"node1\">\n<title>139891155378528</title>\n<polygon fill=\"none\" points=\"50.5,-332.5 50.5,-378.5 313.5,-378.5 313.5,-332.5 50.5,-332.5\" stroke=\"#000000\"/>\n<text fill=\"#000000\" font-family=\"Times,serif\" font-size=\"14.00\" text-anchor=\"middle\" x=\"117\" y=\"-351.8\">input_1: InputLayer</text>\n<polyline fill=\"none\" points=\"183.5,-332.5 183.5,-378.5 \" stroke=\"#000000\"/>\n<text fill=\"#000000\" font-family=\"Times,serif\" font-size=\"14.00\" text-anchor=\"middle\" x=\"212.5\" y=\"-363.3\">input:</text>\n<polyline fill=\"none\" points=\"183.5,-355.5 241.5,-355.5 \" stroke=\"#000000\"/>\n<text fill=\"#000000\" font-family=\"Times,serif\" font-size=\"14.00\" text-anchor=\"middle\" x=\"212.5\" y=\"-340.3\">output:</text>\n<polyline fill=\"none\" points=\"241.5,-332.5 241.5,-378.5 \" stroke=\"#000000\"/>\n<text fill=\"#000000\" font-family=\"Times,serif\" font-size=\"14.00\" text-anchor=\"middle\" x=\"277.5\" y=\"-363.3\">(None, 1)</text>\n<polyline fill=\"none\" points=\"241.5,-355.5 313.5,-355.5 \" stroke=\"#000000\"/>\n<text fill=\"#000000\" font-family=\"Times,serif\" font-size=\"14.00\" text-anchor=\"middle\" x=\"277.5\" y=\"-340.3\">(None, 1)</text>\n</g>\n<!-- 139892523617528 -->\n<g class=\"node\" id=\"node3\">\n<title>139892523617528</title>\n<polygon fill=\"none\" points=\"0,-249.5 0,-295.5 364,-295.5 364,-249.5 0,-249.5\" stroke=\"#000000\"/>\n<text fill=\"#000000\" font-family=\"Times,serif\" font-size=\"14.00\" text-anchor=\"middle\" x=\"102\" y=\"-268.8\">target_embed_layer: Embedding</text>\n<polyline fill=\"none\" points=\"204,-249.5 204,-295.5 \" stroke=\"#000000\"/>\n<text fill=\"#000000\" font-family=\"Times,serif\" font-size=\"14.00\" text-anchor=\"middle\" x=\"233\" y=\"-280.3\">input:</text>\n<polyline fill=\"none\" points=\"204,-272.5 262,-272.5 \" stroke=\"#000000\"/>\n<text fill=\"#000000\" font-family=\"Times,serif\" font-size=\"14.00\" text-anchor=\"middle\" x=\"233\" y=\"-257.3\">output:</text>\n<polyline fill=\"none\" points=\"262,-249.5 262,-295.5 \" stroke=\"#000000\"/>\n<text fill=\"#000000\" font-family=\"Times,serif\" font-size=\"14.00\" text-anchor=\"middle\" x=\"313\" y=\"-280.3\">(None, 1)</text>\n<polyline fill=\"none\" points=\"262,-272.5 364,-272.5 \" stroke=\"#000000\"/>\n<text fill=\"#000000\" font-family=\"Times,serif\" font-size=\"14.00\" text-anchor=\"middle\" x=\"313\" y=\"-257.3\">(None, 1, 100)</text>\n</g>\n<!-- 139891155378528&#45;&gt;139892523617528 -->\n<g class=\"edge\" id=\"edge1\">\n<title>139891155378528-&gt;139892523617528</title>\n<path d=\"M182,-332.3799C182,-324.1745 182,-314.7679 182,-305.8786\" fill=\"none\" stroke=\"#000000\"/>\n<polygon fill=\"#000000\" points=\"185.5001,-305.784 182,-295.784 178.5001,-305.784 185.5001,-305.784\" stroke=\"#000000\"/>\n</g>\n<!-- 139892535558720 -->\n<g class=\"node\" id=\"node2\">\n<title>139892535558720</title>\n<polygon fill=\"none\" points=\"438.5,-332.5 438.5,-378.5 701.5,-378.5 701.5,-332.5 438.5,-332.5\" stroke=\"#000000\"/>\n<text fill=\"#000000\" font-family=\"Times,serif\" font-size=\"14.00\" text-anchor=\"middle\" x=\"505\" y=\"-351.8\">input_2: InputLayer</text>\n<polyline fill=\"none\" points=\"571.5,-332.5 571.5,-378.5 \" stroke=\"#000000\"/>\n<text fill=\"#000000\" font-family=\"Times,serif\" font-size=\"14.00\" text-anchor=\"middle\" x=\"600.5\" y=\"-363.3\">input:</text>\n<polyline fill=\"none\" points=\"571.5,-355.5 629.5,-355.5 \" stroke=\"#000000\"/>\n<text fill=\"#000000\" font-family=\"Times,serif\" font-size=\"14.00\" text-anchor=\"middle\" x=\"600.5\" y=\"-340.3\">output:</text>\n<polyline fill=\"none\" points=\"629.5,-332.5 629.5,-378.5 \" stroke=\"#000000\"/>\n<text fill=\"#000000\" font-family=\"Times,serif\" font-size=\"14.00\" text-anchor=\"middle\" x=\"665.5\" y=\"-363.3\">(None, 1)</text>\n<polyline fill=\"none\" points=\"629.5,-355.5 701.5,-355.5 \" stroke=\"#000000\"/>\n<text fill=\"#000000\" font-family=\"Times,serif\" font-size=\"14.00\" text-anchor=\"middle\" x=\"665.5\" y=\"-340.3\">(None, 1)</text>\n</g>\n<!-- 139891398835952 -->\n<g class=\"node\" id=\"node4\">\n<title>139891398835952</title>\n<polygon fill=\"none\" points=\"382.5,-249.5 382.5,-295.5 757.5,-295.5 757.5,-249.5 382.5,-249.5\" stroke=\"#000000\"/>\n<text fill=\"#000000\" font-family=\"Times,serif\" font-size=\"14.00\" text-anchor=\"middle\" x=\"490\" y=\"-268.8\">context_embed_layer: Embedding</text>\n<polyline fill=\"none\" points=\"597.5,-249.5 597.5,-295.5 \" stroke=\"#000000\"/>\n<text fill=\"#000000\" font-family=\"Times,serif\" font-size=\"14.00\" text-anchor=\"middle\" x=\"626.5\" y=\"-280.3\">input:</text>\n<polyline fill=\"none\" points=\"597.5,-272.5 655.5,-272.5 \" stroke=\"#000000\"/>\n<text fill=\"#000000\" font-family=\"Times,serif\" font-size=\"14.00\" text-anchor=\"middle\" x=\"626.5\" y=\"-257.3\">output:</text>\n<polyline fill=\"none\" points=\"655.5,-249.5 655.5,-295.5 \" stroke=\"#000000\"/>\n<text fill=\"#000000\" font-family=\"Times,serif\" font-size=\"14.00\" text-anchor=\"middle\" x=\"706.5\" y=\"-280.3\">(None, 1)</text>\n<polyline fill=\"none\" points=\"655.5,-272.5 757.5,-272.5 \" stroke=\"#000000\"/>\n<text fill=\"#000000\" font-family=\"Times,serif\" font-size=\"14.00\" text-anchor=\"middle\" x=\"706.5\" y=\"-257.3\">(None, 1, 100)</text>\n</g>\n<!-- 139892535558720&#45;&gt;139891398835952 -->\n<g class=\"edge\" id=\"edge2\">\n<title>139892535558720-&gt;139891398835952</title>\n<path d=\"M570,-332.3799C570,-324.1745 570,-314.7679 570,-305.8786\" fill=\"none\" stroke=\"#000000\"/>\n<polygon fill=\"#000000\" points=\"573.5001,-305.784 570,-295.784 566.5001,-305.784 573.5001,-305.784\" stroke=\"#000000\"/>\n</g>\n<!-- 139892523617080 -->\n<g class=\"node\" id=\"node5\">\n<title>139892523617080</title>\n<polygon fill=\"none\" points=\"77,-166.5 77,-212.5 367,-212.5 367,-166.5 77,-166.5\" stroke=\"#000000\"/>\n<text fill=\"#000000\" font-family=\"Times,serif\" font-size=\"14.00\" text-anchor=\"middle\" x=\"142\" y=\"-185.8\">reshape_1: Reshape</text>\n<polyline fill=\"none\" points=\"207,-166.5 207,-212.5 \" stroke=\"#000000\"/>\n<text fill=\"#000000\" font-family=\"Times,serif\" font-size=\"14.00\" text-anchor=\"middle\" x=\"236\" y=\"-197.3\">input:</text>\n<polyline fill=\"none\" points=\"207,-189.5 265,-189.5 \" stroke=\"#000000\"/>\n<text fill=\"#000000\" font-family=\"Times,serif\" font-size=\"14.00\" text-anchor=\"middle\" x=\"236\" y=\"-174.3\">output:</text>\n<polyline fill=\"none\" points=\"265,-166.5 265,-212.5 \" stroke=\"#000000\"/>\n<text fill=\"#000000\" font-family=\"Times,serif\" font-size=\"14.00\" text-anchor=\"middle\" x=\"316\" y=\"-197.3\">(None, 1, 100)</text>\n<polyline fill=\"none\" points=\"265,-189.5 367,-189.5 \" stroke=\"#000000\"/>\n<text fill=\"#000000\" font-family=\"Times,serif\" font-size=\"14.00\" text-anchor=\"middle\" x=\"316\" y=\"-174.3\">(None, 100)</text>\n</g>\n<!-- 139892523617528&#45;&gt;139892523617080 -->\n<g class=\"edge\" id=\"edge3\">\n<title>139892523617528-&gt;139892523617080</title>\n<path d=\"M193.1422,-249.3799C197.2256,-240.907 201.9262,-231.1531 206.3322,-222.0107\" fill=\"none\" stroke=\"#000000\"/>\n<polygon fill=\"#000000\" points=\"209.5903,-223.312 210.7788,-212.784 203.2844,-220.2729 209.5903,-223.312\" stroke=\"#000000\"/>\n</g>\n<!-- 139892535561296 -->\n<g class=\"node\" id=\"node6\">\n<title>139892535561296</title>\n<polygon fill=\"none\" points=\"405,-166.5 405,-212.5 695,-212.5 695,-166.5 405,-166.5\" stroke=\"#000000\"/>\n<text fill=\"#000000\" font-family=\"Times,serif\" font-size=\"14.00\" text-anchor=\"middle\" x=\"470\" y=\"-185.8\">reshape_2: Reshape</text>\n<polyline fill=\"none\" points=\"535,-166.5 535,-212.5 \" stroke=\"#000000\"/>\n<text fill=\"#000000\" font-family=\"Times,serif\" font-size=\"14.00\" text-anchor=\"middle\" x=\"564\" y=\"-197.3\">input:</text>\n<polyline fill=\"none\" points=\"535,-189.5 593,-189.5 \" stroke=\"#000000\"/>\n<text fill=\"#000000\" font-family=\"Times,serif\" font-size=\"14.00\" text-anchor=\"middle\" x=\"564\" y=\"-174.3\">output:</text>\n<polyline fill=\"none\" points=\"593,-166.5 593,-212.5 \" stroke=\"#000000\"/>\n<text fill=\"#000000\" font-family=\"Times,serif\" font-size=\"14.00\" text-anchor=\"middle\" x=\"644\" y=\"-197.3\">(None, 1, 100)</text>\n<polyline fill=\"none\" points=\"593,-189.5 695,-189.5 \" stroke=\"#000000\"/>\n<text fill=\"#000000\" font-family=\"Times,serif\" font-size=\"14.00\" text-anchor=\"middle\" x=\"644\" y=\"-174.3\">(None, 100)</text>\n</g>\n<!-- 139891398835952&#45;&gt;139892535561296 -->\n<g class=\"edge\" id=\"edge4\">\n<title>139891398835952-&gt;139892535561296</title>\n<path d=\"M564.4289,-249.3799C562.4302,-241.0854 560.1357,-231.5633 557.9732,-222.5889\" fill=\"none\" stroke=\"#000000\"/>\n<polygon fill=\"#000000\" points=\"561.3559,-221.6858 555.6106,-212.784 554.5507,-223.3257 561.3559,-221.6858\" stroke=\"#000000\"/>\n</g>\n<!-- 139891398854136 -->\n<g class=\"node\" id=\"node7\">\n<title>139891398854136</title>\n<polygon fill=\"none\" points=\"220,-83.5 220,-129.5 532,-129.5 532,-83.5 220,-83.5\" stroke=\"#000000\"/>\n<text fill=\"#000000\" font-family=\"Times,serif\" font-size=\"14.00\" text-anchor=\"middle\" x=\"260\" y=\"-102.8\">dot_1: Dot</text>\n<polyline fill=\"none\" points=\"300,-83.5 300,-129.5 \" stroke=\"#000000\"/>\n<text fill=\"#000000\" font-family=\"Times,serif\" font-size=\"14.00\" text-anchor=\"middle\" x=\"329\" y=\"-114.3\">input:</text>\n<polyline fill=\"none\" points=\"300,-106.5 358,-106.5 \" stroke=\"#000000\"/>\n<text fill=\"#000000\" font-family=\"Times,serif\" font-size=\"14.00\" text-anchor=\"middle\" x=\"329\" y=\"-91.3\">output:</text>\n<polyline fill=\"none\" points=\"358,-83.5 358,-129.5 \" stroke=\"#000000\"/>\n<text fill=\"#000000\" font-family=\"Times,serif\" font-size=\"14.00\" text-anchor=\"middle\" x=\"445\" y=\"-114.3\">[(None, 100), (None, 100)]</text>\n<polyline fill=\"none\" points=\"358,-106.5 532,-106.5 \" stroke=\"#000000\"/>\n<text fill=\"#000000\" font-family=\"Times,serif\" font-size=\"14.00\" text-anchor=\"middle\" x=\"445\" y=\"-91.3\">(None, 1)</text>\n</g>\n<!-- 139892523617080&#45;&gt;139891398854136 -->\n<g class=\"edge\" id=\"edge5\">\n<title>139892523617080-&gt;139891398854136</title>\n<path d=\"M264.8976,-166.3799C283.2602,-156.4832 304.8653,-144.8388 324.1178,-134.4625\" fill=\"none\" stroke=\"#000000\"/>\n<polygon fill=\"#000000\" points=\"325.9233,-137.4654 333.0656,-129.6399 322.6022,-131.3034 325.9233,-137.4654\" stroke=\"#000000\"/>\n</g>\n<!-- 139892535561296&#45;&gt;139891398854136 -->\n<g class=\"edge\" id=\"edge6\">\n<title>139892535561296-&gt;139891398854136</title>\n<path d=\"M501.5313,-166.3799C480.5023,-156.3488 455.7095,-144.5224 433.7358,-134.0406\" fill=\"none\" stroke=\"#000000\"/>\n<polygon fill=\"#000000\" points=\"435.0429,-130.7864 424.5103,-129.6399 432.0291,-137.1044 435.0429,-130.7864\" stroke=\"#000000\"/>\n</g>\n<!-- 139891398854416 -->\n<g class=\"node\" id=\"node8\">\n<title>139891398854416</title>\n<polygon fill=\"none\" points=\"257.5,-.5 257.5,-46.5 494.5,-46.5 494.5,-.5 257.5,-.5\" stroke=\"#000000\"/>\n<text fill=\"#000000\" font-family=\"Times,serif\" font-size=\"14.00\" text-anchor=\"middle\" x=\"311\" y=\"-19.8\">dense_1: Dense</text>\n<polyline fill=\"none\" points=\"364.5,-.5 364.5,-46.5 \" stroke=\"#000000\"/>\n<text fill=\"#000000\" font-family=\"Times,serif\" font-size=\"14.00\" text-anchor=\"middle\" x=\"393.5\" y=\"-31.3\">input:</text>\n<polyline fill=\"none\" points=\"364.5,-23.5 422.5,-23.5 \" stroke=\"#000000\"/>\n<text fill=\"#000000\" font-family=\"Times,serif\" font-size=\"14.00\" text-anchor=\"middle\" x=\"393.5\" y=\"-8.3\">output:</text>\n<polyline fill=\"none\" points=\"422.5,-.5 422.5,-46.5 \" stroke=\"#000000\"/>\n<text fill=\"#000000\" font-family=\"Times,serif\" font-size=\"14.00\" text-anchor=\"middle\" x=\"458.5\" y=\"-31.3\">(None, 1)</text>\n<polyline fill=\"none\" points=\"422.5,-23.5 494.5,-23.5 \" stroke=\"#000000\"/>\n<text fill=\"#000000\" font-family=\"Times,serif\" font-size=\"14.00\" text-anchor=\"middle\" x=\"458.5\" y=\"-8.3\">(None, 1)</text>\n</g>\n<!-- 139891398854136&#45;&gt;139891398854416 -->\n<g class=\"edge\" id=\"edge7\">\n<title>139891398854136-&gt;139891398854416</title>\n<path d=\"M376,-83.3799C376,-75.1745 376,-65.7679 376,-56.8786\" fill=\"none\" stroke=\"#000000\"/>\n<polygon fill=\"#000000\" points=\"379.5001,-56.784 376,-46.784 372.5001,-56.784 379.5001,-56.784\" stroke=\"#000000\"/>\n</g>\n</g>\n</svg>"
          },
          "metadata": {
            "tags": []
          },
          "execution_count": 23
        }
      ]
    },
    {
      "metadata": {
        "id": "QqGFJwNhuxhP",
        "colab_type": "text"
      },
      "cell_type": "markdown",
      "source": [
        "####  6. Training the Model"
      ]
    },
    {
      "metadata": {
        "id": "2MFSxAqZuxhQ",
        "colab_type": "code",
        "outputId": "4ab32863-68f0-48eb-c84b-74d1e1312938",
        "colab": {
          "base_uri": "https://localhost:8080/",
          "height": 643
        }
      },
      "cell_type": "code",
      "source": [
        "for epoch in range(1, 6):\n",
        "    epoch_loss = 0\n",
        "    # in each epoch, train all the sentences, one per iteration=> batch_size = num_sents\n",
        "    for i, sent_examples in enumerate(skip_grams):\n",
        "        target_wds = np.array([pair[0] for pair in sent_examples[0]], dtype='int32')\n",
        "        context_wds = np.array([pair[1] for pair in sent_examples[0]], dtype='int32')\n",
        "        labels = np.array(sent_examples[1], dtype='int32')\n",
        "        X = [target_wds, context_wds]\n",
        "        Y = labels\n",
        "        if i % 5000 == 0: # after 5000 sentences i.e. 5000 iterations\n",
        "            print('Processed %d sentences' %i)\n",
        "        epoch_loss += model.train_on_batch(X, Y)\n",
        "    print('Processed all %d sentences' %i)\n",
        "    print('Epoch:', epoch, 'Loss:', epoch_loss, '\\n')"
      ],
      "execution_count": 24,
      "outputs": [
        {
          "output_type": "stream",
          "text": [
            "Processed 0 sentences\n",
            "WARNING:tensorflow:From /usr/local/lib/python3.6/dist-packages/tensorflow/python/ops/math_ops.py:3066: to_int32 (from tensorflow.python.ops.math_ops) is deprecated and will be removed in a future version.\n",
            "Instructions for updating:\n",
            "Use tf.cast instead.\n",
            "Processed 5000 sentences\n",
            "Processed 10000 sentences\n",
            "Processed all 13922 sentences\n",
            "Epoch: 1 Loss: 2431.1087396384683 \n",
            "\n",
            "Processed 0 sentences\n",
            "Processed 5000 sentences\n",
            "Processed 10000 sentences\n",
            "Processed all 13922 sentences\n",
            "Epoch: 2 Loss: 1977.930159447249 \n",
            "\n",
            "Processed 0 sentences\n",
            "Processed 5000 sentences\n",
            "Processed 10000 sentences\n",
            "Processed all 13922 sentences\n",
            "Epoch: 3 Loss: 1893.1601792802103 \n",
            "\n",
            "Processed 0 sentences\n",
            "Processed 5000 sentences\n",
            "Processed 10000 sentences\n",
            "Processed all 13922 sentences\n",
            "Epoch: 4 Loss: 1850.5580621440895 \n",
            "\n",
            "Processed 0 sentences\n",
            "Processed 5000 sentences\n",
            "Processed 10000 sentences\n",
            "Processed all 13922 sentences\n",
            "Epoch: 5 Loss: 1833.0776652768254 \n",
            "\n"
          ],
          "name": "stdout"
        }
      ]
    },
    {
      "metadata": {
        "id": "OUWMOwg-uxhY",
        "colab_type": "text"
      },
      "cell_type": "markdown",
      "source": [
        "#### 7. Getting the word Embeddings"
      ]
    },
    {
      "metadata": {
        "id": "mF4yhIiBuxha",
        "colab_type": "code",
        "colab": {}
      },
      "cell_type": "code",
      "source": [
        "word_embeddings = model.get_layer('target_embed_layer').get_weights()[0][1:] #0 was left for padding in sec.3"
      ],
      "execution_count": 0,
      "outputs": []
    },
    {
      "metadata": {
        "id": "o8s_wubtuxhf",
        "colab_type": "code",
        "outputId": "c33dad7a-cf27-426f-e357-476a8735ffad",
        "colab": {
          "base_uri": "https://localhost:8080/",
          "height": 35
        }
      },
      "cell_type": "code",
      "source": [
        "#sanity check\n",
        "print(word_embeddings.shape)"
      ],
      "execution_count": 26,
      "outputs": [
        {
          "output_type": "stream",
          "text": [
            "(10084, 100)\n"
          ],
          "name": "stdout"
        }
      ]
    },
    {
      "metadata": {
        "id": "71ToIsObuxhn",
        "colab_type": "code",
        "outputId": "d73d9588-445c-4b20-aa47-4d2b8a1c1fe0",
        "colab": {
          "base_uri": "https://localhost:8080/",
          "height": 697
        }
      },
      "cell_type": "code",
      "source": [
        "from pandas import DataFrame\n",
        "print(DataFrame(word_embeddings, index=idx2word.values()).head(10))"
      ],
      "execution_count": 27,
      "outputs": [
        {
          "output_type": "stream",
          "text": [
            "             0         1         2         3         4         5         6   \\\n",
            "could -0.014317 -0.158415 -0.041629 -0.071060  0.075435 -0.027095  0.047357   \n",
            "would -0.078762  0.208549 -0.177284 -0.046103 -0.256669  0.173235  0.057353   \n",
            "mr    -0.053866 -0.223947 -0.000346 -0.138215 -0.047695 -0.032953  0.136809   \n",
            "mrs   -0.035664 -0.064596  0.107263 -0.111040 -0.036303 -0.076065  0.028441   \n",
            "must   0.014779 -0.129309 -0.291526  0.085700 -0.009702  0.155365 -0.038107   \n",
            "said  -0.154192 -0.259603  0.007174  0.100324 -0.039372  0.003552 -0.097250   \n",
            "one   -0.068846 -0.082051 -0.108731  0.056841  0.029236 -0.099549 -0.182691   \n",
            "much  -0.024214 -0.210229  0.022031 -0.011355  0.000299 -0.062699  0.016344   \n",
            "miss  -0.115111 -0.120304 -0.227185 -0.139391 -0.114623  0.176881 -0.061398   \n",
            "every -0.016221 -0.015918  0.018710 -0.160335  0.082192 -0.123341  0.068876   \n",
            "\n",
            "             7         8         9     ...           90        91        92  \\\n",
            "could  0.269148 -0.127064  0.024607    ...    -0.241192 -0.047014 -0.153528   \n",
            "would -0.061413 -0.167346  0.089455    ...     0.006050 -0.184638 -0.154431   \n",
            "mr    -0.047260 -0.041092  0.059716    ...    -0.068775  0.025514 -0.043406   \n",
            "mrs   -0.073975  0.001740  0.106880    ...    -0.368485 -0.379571  0.330120   \n",
            "must  -0.007535 -0.081586  0.178462    ...     0.057127  0.016731 -0.194081   \n",
            "said   0.147999  0.099138 -0.080480    ...    -0.229921  0.019797  0.162718   \n",
            "one   -0.082110  0.109521 -0.038499    ...    -0.011601 -0.014390 -0.213988   \n",
            "much   0.036977  0.164223  0.077281    ...    -0.278785 -0.176608 -0.107893   \n",
            "miss   0.130227 -0.083893  0.088001    ...    -0.176182  0.087952 -0.016046   \n",
            "every -0.001648  0.315848 -0.085188    ...     0.045625  0.056152  0.038682   \n",
            "\n",
            "             93        94        95        96        97        98        99  \n",
            "could -0.246850  0.183819  0.165517  0.082334 -0.215175 -0.038789  0.033638  \n",
            "would -0.118666  0.099153 -0.103702 -0.175286 -0.160772 -0.188365 -0.074974  \n",
            "mr     0.209308  0.160211 -0.040724 -0.153061 -0.113096 -0.137099  0.085076  \n",
            "mrs   -0.068311 -0.054901 -0.098865  0.077142 -0.057312 -0.074047  0.106153  \n",
            "must   0.102507 -0.238029 -0.064572  0.046727 -0.067992 -0.110602  0.070471  \n",
            "said   0.098114 -0.143600 -0.072441  0.040862  0.044463 -0.105332 -0.114863  \n",
            "one    0.094112 -0.014308 -0.064098 -0.005352  0.125158  0.266700  0.022698  \n",
            "much   0.008773  0.141120 -0.059978  0.061264 -0.166379 -0.037785  0.055417  \n",
            "miss   0.197432  0.052873  0.148314  0.098260 -0.222768 -0.012061 -0.119184  \n",
            "every  0.100734 -0.054814 -0.032191 -0.243266 -0.020747 -0.081090  0.049537  \n",
            "\n",
            "[10 rows x 100 columns]\n"
          ],
          "name": "stdout"
        }
      ]
    },
    {
      "metadata": {
        "id": "DVXV-kIYuxhz",
        "colab_type": "text"
      },
      "cell_type": "markdown",
      "source": [
        "####  8. Measuring Similarity Between Word Pairs"
      ]
    },
    {
      "metadata": {
        "id": "II3z51icuxh1",
        "colab_type": "code",
        "outputId": "7b800c55-9d58-47fc-f12c-d979838071be",
        "colab": {
          "base_uri": "https://localhost:8080/",
          "height": 35
        }
      },
      "cell_type": "code",
      "source": [
        "from sklearn.metrics.pairwise import cosine_similarity\n",
        "similarity_matrix = cosine_similarity(word_embeddings)\n",
        "\n",
        "#check\n",
        "print(similarity_matrix.shape)"
      ],
      "execution_count": 28,
      "outputs": [
        {
          "output_type": "stream",
          "text": [
            "(10084, 10084)\n"
          ],
          "name": "stdout"
        }
      ]
    },
    {
      "metadata": {
        "id": "RnM5jF_tuxh-",
        "colab_type": "text"
      },
      "cell_type": "markdown",
      "source": [
        "#### 9. Exploring and Visualising the Word Embeddings using t-SNE"
      ]
    },
    {
      "metadata": {
        "id": "r-sTRIGquxiA",
        "colab_type": "text"
      },
      "cell_type": "markdown",
      "source": [
        "9.A Get the most similar words to the seatch items in the list below"
      ]
    },
    {
      "metadata": {
        "id": "goP8KsmGuxiC",
        "colab_type": "code",
        "colab": {}
      },
      "cell_type": "code",
      "source": [
        "search_terms = ['man', 'love', 'hatred', 'woman', 'wisdom', 'kindness', 'god', 'man', 'folly', 'fool']\n",
        "\n",
        "# Get the 5 words most similar to the search terms\n",
        "similar_words = {term: [idx2word[idx]\n",
        "                    for idx in (-1 * similarity_matrix[word2idx[term]-1]).argsort()[1:6] + 1] \n",
        "                    for term in search_terms}"
      ],
      "execution_count": 0,
      "outputs": []
    },
    {
      "metadata": {
        "id": "wguVI5HLuxiS",
        "colab_type": "code",
        "outputId": "8de72fc1-4377-4def-bc41-9732393df421",
        "colab": {
          "base_uri": "https://localhost:8080/",
          "height": 55
        }
      },
      "cell_type": "code",
      "source": [
        "#Sanity check\n",
        "print(similar_words)"
      ],
      "execution_count": 30,
      "outputs": [
        {
          "output_type": "stream",
          "text": [
            "{'man': ['pastures', 'prettier', 'particulars', 'receiving', 'daughter'], 'love': ['volumes', 'newest', 'blindly', 'add', 'attempted'], 'hatred': ['unpleasing', 'sourness', 'darted', 'shed', 'satisfies'], 'woman': ['thought', 'extremely', 'jemima', 'testifying', 'cared'], 'wisdom': ['softly', 'courting', 'lief', 'devil', 'surpassed'], 'kindness': ['lamenting', 'navy', 'confession', 'glow', 'attractive'], 'god': ['termination', 'capabilities', 'gowns', 'inaccessible', 'lief'], 'folly': ['nipped', 'petticoats', 'brotherly', 'taxed', 'unwillingness'], 'fool': ['idolized', 'resuscitation', 'stylish', 'unwell', 'coxes']}\n"
          ],
          "name": "stdout"
        }
      ]
    },
    {
      "metadata": {
        "id": "C_aRoZY0uxid",
        "colab_type": "text"
      },
      "cell_type": "markdown",
      "source": [
        "9.B Plot the words in the dictionary above using t-SNE"
      ]
    },
    {
      "metadata": {
        "id": "_siwzRAwuxif",
        "colab_type": "code",
        "outputId": "72ab25f9-234e-491b-9d84-09af7e89afea",
        "colab": {
          "base_uri": "https://localhost:8080/",
          "height": 483
        }
      },
      "cell_type": "code",
      "source": [
        "#Plot 500 of the word embeddings:\n",
        "from sklearn.manifold import TSNE\n",
        "import matplotlib.pyplot as plt\n",
        "tsne = TSNE(perplexity=3, n_components=2, init='pca', n_iter=5000, method='exact')\n",
        "np.set_printoptions(suppress=True)\n",
        "plot_only = 50\n",
        "T = tsne.fit_transform(word_embeddings[:plot_only, :])\n",
        "labels = [idx2word[i+1] for i in range(plot_only)]\n",
        "plt.figure(figsize=(14, 8))\n",
        "plt.scatter(T[:, 0], T[:, 1])\n",
        "for label, x, y in zip(labels, T[:, 0], T[:, 1]):\n",
        "    plt.annotate(label, xy=(x+1, y+1), xytext=(0, 0), textcoords='offset points', ha='right',va='bottom')"
      ],
      "execution_count": 31,
      "outputs": [
        {
          "output_type": "display_data",
          "data": {
            "image/png": "[encoded data removed]",
            "text/plain": [
              "<Figure size 1008x576 with 1 Axes>"
            ]
          },
          "metadata": {
            "tags": []
          }
        }
      ]
    },
    {
      "metadata": {
        "id": "Au4KiXtSuxil",
        "colab_type": "code",
        "colab": {}
      },
      "cell_type": "code",
      "source": [
        ""
      ],
      "execution_count": 0,
      "outputs": []
    },
    {
      "metadata": {
        "id": "DOiYf9Zuuxiq",
        "colab_type": "code",
        "colab": {}
      },
      "cell_type": "code",
      "source": [
        ""
      ],
      "execution_count": 0,
      "outputs": []
    }
  ]
}