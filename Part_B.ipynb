{
  "nbformat": 4,
  "nbformat_minor": 0,
  "metadata": {
    "colab": {
      "name": "NLP_Assignment_BColab.ipynb",
      "version": "0.3.2",
      "provenance": [],
      "collapsed_sections": []
    },
    "kernelspec": {
      "name": "python3",
      "display_name": "Python 3"
    },
    "accelerator": "GPU"
  },
  "cells": [
    {
      "metadata": {
        "colab_type": "text",
        "id": "hExKCzh6doIW"
      },
      "cell_type": "markdown",
      "source": [
        "# Lab 3 - Neural Network Classifier Using Simple Word Embeddings\n",
        "\n",
        "\n",
        "\n",
        "---\n",
        "\n",
        "\n",
        "\n",
        "\n",
        "\n",
        "\n",
        "\n",
        "\n",
        "\n",
        "\n",
        "\n",
        "\n",
        "\n"
      ]
    },
    {
      "metadata": {
        "colab_type": "text",
        "id": "HixoFOoCIJ7V"
      },
      "cell_type": "markdown",
      "source": [
        "In this session, we demonstrate how to solve a text classification task using simple \n",
        "feedforward neural network classifier. We will use IMDB Large Movie Review Dataset to train a binary classification model, able to predict whether a review is positive or negative. First, our network takes one-hot word vectors as input, averages them to make one vector and trains a \n",
        "fully-connected layer to predict the output. In the second part, we replace the one-hot vectors with the word embeddings and add a layer to see how much that improves the performance.\n",
        "\n",
        "We are going to use Keras Sequential API in this session. The Sequential API allows you to make models layer-by-layer. But it is not straightforward to define models where layers connect to more than just the previous and next layers. "
      ]
    },
    {
      "metadata": {
        "colab_type": "code",
        "id": "m8fpBfhBpupy",
        "outputId": "52513706-af74-4fc3-85c2-d417b0e0a64e",
        "colab": {
          "base_uri": "https://localhost:8080/",
          "height": 35
        }
      },
      "cell_type": "code",
      "source": [
        "import keras\n",
        "import numpy as np\n",
        "from keras.layers import Lambda, GlobalAveragePooling1D, Dense, Embedding\n",
        "from keras import backend as K\n",
        "from keras.models import Sequential"
      ],
      "execution_count": 1,
      "outputs": [
        {
          "output_type": "stream",
          "text": [
            "Using TensorFlow backend.\n"
          ],
          "name": "stderr"
        }
      ]
    },
    {
      "metadata": {
        "colab_type": "text",
        "id": "cqvPQvgvPv1W"
      },
      "cell_type": "markdown",
      "source": [
        "### Downloading data"
      ]
    },
    {
      "metadata": {
        "colab_type": "text",
        "id": "EundMtGPpCdf"
      },
      "cell_type": "markdown",
      "source": [
        "The dataset we will be using is the IMDB Large Movie Review Dataset, which consists of 50000 labeled movie reviews. These are split into 25,000 reviews for training and 25,000 reviews for testing. The  dataset contains an even number of positive and negative reviews, so randomly guessing yields 50% accuracy. The data is preprocessed. For text classification, it is ususal to limit the size of the vocabulary to stop the dataset from becoming too sparse, creating possible overfitting. We keep the top 10,000 most frequently occurring words in the training data.\n"
      ]
    },
    {
      "metadata": {
        "colab_type": "code",
        "id": "NyuSzkafqNca",
        "colab": {}
      },
      "cell_type": "code",
      "source": [
        "imdb = keras.datasets.imdb\n",
        "(X_train, y_train), (X_test, y_test) = imdb.load_data(num_words=10000)"
      ],
      "execution_count": 0,
      "outputs": []
    },
    {
      "metadata": {
        "colab_type": "text",
        "id": "6U4iCV9-rmay"
      },
      "cell_type": "markdown",
      "source": [
        "We now can start playing around with the data, let’s first see the length:"
      ]
    },
    {
      "metadata": {
        "colab_type": "code",
        "id": "h-gjWRAuqg5s",
        "outputId": "656ea497-d447-4176-ebe6-51f9c25174bb",
        "colab": {
          "base_uri": "https://localhost:8080/",
          "height": 35
        }
      },
      "cell_type": "code",
      "source": [
        "print(\"Training entries: {}, labels: {}\".format(len(X_train), len(y_train)))"
      ],
      "execution_count": 3,
      "outputs": [
        {
          "output_type": "stream",
          "text": [
            "Training entries: 25000, labels: 25000\n"
          ],
          "name": "stdout"
        }
      ]
    },
    {
      "metadata": {
        "colab_type": "text",
        "id": "MTRZrpcyr-4x"
      },
      "cell_type": "markdown",
      "source": [
        "The  reviews have been converted to integers and each integer represents a  word in a dictionary. "
      ]
    },
    {
      "metadata": {
        "colab_type": "code",
        "id": "79Ev72Kgq4XL",
        "outputId": "923c62a8-c950-45d7-f0db-88bd634ffb5e",
        "colab": {
          "base_uri": "https://localhost:8080/",
          "height": 4021
        }
      },
      "cell_type": "code",
      "source": [
        " X_train[0]"
      ],
      "execution_count": 4,
      "outputs": [
        {
          "output_type": "execute_result",
          "data": {
            "text/plain": [
              "[1,\n",
              " 14,\n",
              " 22,\n",
              " 16,\n",
              " 43,\n",
              " 530,\n",
              " 973,\n",
              " 1622,\n",
              " 1385,\n",
              " 65,\n",
              " 458,\n",
              " 4468,\n",
              " 66,\n",
              " 3941,\n",
              " 4,\n",
              " 173,\n",
              " 36,\n",
              " 256,\n",
              " 5,\n",
              " 25,\n",
              " 100,\n",
              " 43,\n",
              " 838,\n",
              " 112,\n",
              " 50,\n",
              " 670,\n",
              " 2,\n",
              " 9,\n",
              " 35,\n",
              " 480,\n",
              " 284,\n",
              " 5,\n",
              " 150,\n",
              " 4,\n",
              " 172,\n",
              " 112,\n",
              " 167,\n",
              " 2,\n",
              " 336,\n",
              " 385,\n",
              " 39,\n",
              " 4,\n",
              " 172,\n",
              " 4536,\n",
              " 1111,\n",
              " 17,\n",
              " 546,\n",
              " 38,\n",
              " 13,\n",
              " 447,\n",
              " 4,\n",
              " 192,\n",
              " 50,\n",
              " 16,\n",
              " 6,\n",
              " 147,\n",
              " 2025,\n",
              " 19,\n",
              " 14,\n",
              " 22,\n",
              " 4,\n",
              " 1920,\n",
              " 4613,\n",
              " 469,\n",
              " 4,\n",
              " 22,\n",
              " 71,\n",
              " 87,\n",
              " 12,\n",
              " 16,\n",
              " 43,\n",
              " 530,\n",
              " 38,\n",
              " 76,\n",
              " 15,\n",
              " 13,\n",
              " 1247,\n",
              " 4,\n",
              " 22,\n",
              " 17,\n",
              " 515,\n",
              " 17,\n",
              " 12,\n",
              " 16,\n",
              " 626,\n",
              " 18,\n",
              " 2,\n",
              " 5,\n",
              " 62,\n",
              " 386,\n",
              " 12,\n",
              " 8,\n",
              " 316,\n",
              " 8,\n",
              " 106,\n",
              " 5,\n",
              " 4,\n",
              " 2223,\n",
              " 5244,\n",
              " 16,\n",
              " 480,\n",
              " 66,\n",
              " 3785,\n",
              " 33,\n",
              " 4,\n",
              " 130,\n",
              " 12,\n",
              " 16,\n",
              " 38,\n",
              " 619,\n",
              " 5,\n",
              " 25,\n",
              " 124,\n",
              " 51,\n",
              " 36,\n",
              " 135,\n",
              " 48,\n",
              " 25,\n",
              " 1415,\n",
              " 33,\n",
              " 6,\n",
              " 22,\n",
              " 12,\n",
              " 215,\n",
              " 28,\n",
              " 77,\n",
              " 52,\n",
              " 5,\n",
              " 14,\n",
              " 407,\n",
              " 16,\n",
              " 82,\n",
              " 2,\n",
              " 8,\n",
              " 4,\n",
              " 107,\n",
              " 117,\n",
              " 5952,\n",
              " 15,\n",
              " 256,\n",
              " 4,\n",
              " 2,\n",
              " 7,\n",
              " 3766,\n",
              " 5,\n",
              " 723,\n",
              " 36,\n",
              " 71,\n",
              " 43,\n",
              " 530,\n",
              " 476,\n",
              " 26,\n",
              " 400,\n",
              " 317,\n",
              " 46,\n",
              " 7,\n",
              " 4,\n",
              " 2,\n",
              " 1029,\n",
              " 13,\n",
              " 104,\n",
              " 88,\n",
              " 4,\n",
              " 381,\n",
              " 15,\n",
              " 297,\n",
              " 98,\n",
              " 32,\n",
              " 2071,\n",
              " 56,\n",
              " 26,\n",
              " 141,\n",
              " 6,\n",
              " 194,\n",
              " 7486,\n",
              " 18,\n",
              " 4,\n",
              " 226,\n",
              " 22,\n",
              " 21,\n",
              " 134,\n",
              " 476,\n",
              " 26,\n",
              " 480,\n",
              " 5,\n",
              " 144,\n",
              " 30,\n",
              " 5535,\n",
              " 18,\n",
              " 51,\n",
              " 36,\n",
              " 28,\n",
              " 224,\n",
              " 92,\n",
              " 25,\n",
              " 104,\n",
              " 4,\n",
              " 226,\n",
              " 65,\n",
              " 16,\n",
              " 38,\n",
              " 1334,\n",
              " 88,\n",
              " 12,\n",
              " 16,\n",
              " 283,\n",
              " 5,\n",
              " 16,\n",
              " 4472,\n",
              " 113,\n",
              " 103,\n",
              " 32,\n",
              " 15,\n",
              " 16,\n",
              " 5345,\n",
              " 19,\n",
              " 178,\n",
              " 32]"
            ]
          },
          "metadata": {
            "tags": []
          },
          "execution_count": 4
        }
      ]
    },
    {
      "metadata": {
        "colab_type": "text",
        "id": "Tvuu4KhStqei"
      },
      "cell_type": "markdown",
      "source": [
        "We can convert integers back to words by querying a dictionary object that contains the integer to string mapping:"
      ]
    },
    {
      "metadata": {
        "colab_type": "code",
        "id": "gMCH1OoDrSNR",
        "colab": {}
      },
      "cell_type": "code",
      "source": [
        "\n",
        "word_index = imdb.get_word_index()"
      ],
      "execution_count": 0,
      "outputs": []
    },
    {
      "metadata": {
        "colab_type": "text",
        "id": "5IreFXgruZot"
      },
      "cell_type": "markdown",
      "source": [
        "Index 1 represents the beginning of the sentence and the index 2 is assigned to all unknown tokens. Index 0 will be used for padding."
      ]
    },
    {
      "metadata": {
        "colab_type": "code",
        "id": "abIb7Fe5u3GQ",
        "colab": {}
      },
      "cell_type": "code",
      "source": [
        "word_index = {k:(v+3) for k,v in word_index.items()}\n",
        "word_index[\"<PAD>\"] = 0\n",
        "word_index[\"<START>\"] = 1\n",
        "word_index[\"<UNK>\"] = 2  \n",
        "word_index[\"<UNUSED>\"] = 3"
      ],
      "execution_count": 0,
      "outputs": []
    },
    {
      "metadata": {
        "colab_type": "text",
        "id": "9TnnSuspvC5b"
      },
      "cell_type": "markdown",
      "source": [
        "To reverse key and values in a dictionary:"
      ]
    },
    {
      "metadata": {
        "colab_type": "code",
        "id": "nKOiVVXQu-_I",
        "colab": {}
      },
      "cell_type": "code",
      "source": [
        "reverse_word_index = dict([(value, key) for (key, value) in word_index.items()])"
      ],
      "execution_count": 0,
      "outputs": []
    },
    {
      "metadata": {
        "colab_type": "text",
        "id": "ZmTJEm8xvUvW"
      },
      "cell_type": "markdown",
      "source": [
        "To view a word:"
      ]
    },
    {
      "metadata": {
        "colab_type": "code",
        "id": "SqN5jgVKvJJZ",
        "outputId": "33588ad6-d46e-4368-b98f-ff14ea566cf0",
        "colab": {
          "base_uri": "https://localhost:8080/",
          "height": 35
        }
      },
      "cell_type": "code",
      "source": [
        "reverse_word_index[25]"
      ],
      "execution_count": 8,
      "outputs": [
        {
          "output_type": "execute_result",
          "data": {
            "text/plain": [
              "'you'"
            ]
          },
          "metadata": {
            "tags": []
          },
          "execution_count": 8
        }
      ]
    },
    {
      "metadata": {
        "colab_type": "text",
        "id": "Q6QjrzgVvrYn"
      },
      "cell_type": "markdown",
      "source": [
        "And to recreate the whole sentence from our training data we define decode_review:\n"
      ]
    },
    {
      "metadata": {
        "colab_type": "code",
        "id": "wvrKeMgxvWlv",
        "colab": {}
      },
      "cell_type": "code",
      "source": [
        "def decode_review(text):\n",
        "    return ' '.join([reverse_word_index.get(i, '?') for i in text])"
      ],
      "execution_count": 0,
      "outputs": []
    },
    {
      "metadata": {
        "colab_type": "code",
        "id": "Sxg4YA_NvdRg",
        "outputId": "dbc49d9b-3d37-4f1b-8d7a-8e716dad958f",
        "colab": {
          "base_uri": "https://localhost:8080/",
          "height": 55
        }
      },
      "cell_type": "code",
      "source": [
        "decode_review(X_train[10])"
      ],
      "execution_count": 10,
      "outputs": [
        {
          "output_type": "execute_result",
          "data": {
            "text/plain": [
              "\"<START> french horror cinema has seen something of a revival over the last couple of years with great films such as inside and <UNK> romance <UNK> on to the scene <UNK> <UNK> the revival just slightly but stands head and shoulders over most modern horror titles and is surely one of the best french horror films ever made <UNK> was obviously shot on a low budget but this is made up for in far more ways than one by the originality of the film and this in turn is <UNK> by the excellent writing and acting that ensure the film is a winner the plot focuses on two main ideas prison and black magic the central character is a man named <UNK> sent to prison for fraud he is put in a cell with three others the quietly insane <UNK> body building <UNK> marcus and his retarded boyfriend daisy after a short while in the cell together they stumble upon a hiding place in the wall that contains an old <UNK> after <UNK> part of it they soon realise its magical powers and realise they may be able to use it to break through the prison walls br br black magic is a very interesting topic and i'm actually quite surprised that there aren't more films based on it as there's so much scope for things to do with it it's fair to say that <UNK> makes the best of it's <UNK> as despite it's <UNK> the film never actually feels restrained and manages to flow well throughout director eric <UNK> provides a great atmosphere for the film the fact that most of it takes place inside the central prison cell <UNK> that the film feels very claustrophobic and this immensely benefits the central idea of the prisoners wanting to use magic to break out of the cell it's very easy to get behind them it's often said that the unknown is the thing that really <UNK> people and this film proves that as the director <UNK> that we can never really be sure of exactly what is round the corner and this helps to ensure that <UNK> actually does manage to be quite frightening the film is memorable for a lot of reasons outside the central plot the characters are all very interesting in their own way and the fact that the book itself almost takes on its own character is very well done anyone worried that the film won't deliver by the end won't be disappointed either as the ending both makes sense and manages to be quite horrifying overall <UNK> is a truly great horror film and one of the best of the decade highly recommended viewing\""
            ]
          },
          "metadata": {
            "tags": []
          },
          "execution_count": 10
        }
      ]
    },
    {
      "metadata": {
        "colab_type": "text",
        "id": "c8gIzXncfaJK"
      },
      "cell_type": "markdown",
      "source": [
        "### Creating One-hot word vectors"
      ]
    },
    {
      "metadata": {
        "colab_type": "text",
        "id": "B9W4yb3rv_E0"
      },
      "cell_type": "markdown",
      "source": [
        "It is  common to use one-hot representation as input in Natural Language Processing tasks. In Keras, the Embedding layer takes an index as an input and convert it to one-hot vector with the length of the vocabulary size. Then multiplies these vectors by a normal weight matrix. But there is no way to only get a one-hot vector as the output of a layer in Keras. To solve this we use Lambda() layer and a function that creates the one-hot layer. "
      ]
    },
    {
      "metadata": {
        "colab_type": "code",
        "id": "RPO_pK9zH4C5",
        "colab": {}
      },
      "cell_type": "code",
      "source": [
        "def OneHot(input_dim=None, input_length=None):\n",
        "    \n",
        "    if input_dim is None or input_length is None:\n",
        "        raise TypeError(\"input_dim or input_length is not set\")\n",
        "\n",
        "    \n",
        "    def _one_hot(x, num_classes):\n",
        "        return K.one_hot(K.cast(x, 'uint8'),\n",
        "                          num_classes=num_classes)\n",
        "\n",
        "    return Lambda(_one_hot,\n",
        "                  arguments={'num_classes': input_dim},\n",
        "                  input_shape=(input_length,))"
      ],
      "execution_count": 0,
      "outputs": []
    },
    {
      "metadata": {
        "colab_type": "text",
        "id": "364d3MAw0ez9"
      },
      "cell_type": "markdown",
      "source": [
        "input_dim refers to the length of the one-hot vector and input_length refers to the length of the input sequence. Since the input to K.one_hot should be an integer tensor, we cast x to one (Keras passes around float tensors by default).\n",
        "\n"
      ]
    },
    {
      "metadata": {
        "colab_type": "text",
        "id": "VHz76GNA2M4r"
      },
      "cell_type": "markdown",
      "source": [
        " Each text sequence has in most cases different length of words. Here, we fill sequences with a pad token (0) to fit the size. This special tokens is then masked not to be accounted in averaging, loss calculation etc. We set the maximum length to 256."
      ]
    },
    {
      "metadata": {
        "colab_type": "text",
        "id": "9G_o7PsvgSFt"
      },
      "cell_type": "markdown",
      "source": [
        "### Preparing input data"
      ]
    },
    {
      "metadata": {
        "colab_type": "code",
        "id": "jiFn7sd_wF5j",
        "colab": {}
      },
      "cell_type": "code",
      "source": [
        "VOCAB_SIZE = 10000\n",
        "MAX_SEQUENCE_LENGTH = 256\n",
        "\n",
        "X_train_enc = keras.preprocessing.sequence.pad_sequences(X_train,\n",
        "                                                        value=word_index[\"<PAD>\"],\n",
        "                                                        padding='post',\n",
        "                                                        maxlen=256)\n",
        "\n",
        "X_test_enc = keras.preprocessing.sequence.pad_sequences(X_test,\n",
        "                                                       value=word_index[\"<PAD>\"],\n",
        "                                                       padding='post',\n",
        "                                                       maxlen=256)"
      ],
      "execution_count": 0,
      "outputs": []
    },
    {
      "metadata": {
        "colab_type": "text",
        "id": "kcjFH1wKF_7d"
      },
      "cell_type": "markdown",
      "source": [
        "And to view a padded review:"
      ]
    },
    {
      "metadata": {
        "colab_type": "code",
        "id": "zwH4dcfW_a18",
        "outputId": "40b4851c-d7f4-4c99-f6fd-694032cbad90",
        "colab": {
          "base_uri": "https://localhost:8080/",
          "height": 366
        }
      },
      "cell_type": "code",
      "source": [
        "print(X_train_enc[1])\n"
      ],
      "execution_count": 13,
      "outputs": [
        {
          "output_type": "stream",
          "text": [
            "[   1  194 1153  194 8255   78  228    5    6 1463 4369 5012  134   26\n",
            "    4  715    8  118 1634   14  394   20   13  119  954  189  102    5\n",
            "  207  110 3103   21   14   69  188    8   30   23    7    4  249  126\n",
            "   93    4  114    9 2300 1523    5  647    4  116    9   35 8163    4\n",
            "  229    9  340 1322    4  118    9    4  130 4901   19    4 1002    5\n",
            "   89   29  952   46   37    4  455    9   45   43   38 1543 1905  398\n",
            "    4 1649   26 6853    5  163   11 3215    2    4 1153    9  194  775\n",
            "    7 8255    2  349 2637  148  605    2 8003   15  123  125   68    2\n",
            " 6853   15  349  165 4362   98    5    4  228    9   43    2 1157   15\n",
            "  299  120    5  120  174   11  220  175  136   50    9 4373  228 8255\n",
            "    5    2  656  245 2350    5    4 9837  131  152  491   18    2   32\n",
            " 7464 1212   14    9    6  371   78   22  625   64 1382    9    8  168\n",
            "  145   23    4 1690   15   16    4 1355    5   28    6   52  154  462\n",
            "   33   89   78  285   16  145   95    0    0    0    0    0    0    0\n",
            "    0    0    0    0    0    0    0    0    0    0    0    0    0    0\n",
            "    0    0    0    0    0    0    0    0    0    0    0    0    0    0\n",
            "    0    0    0    0    0    0    0    0    0    0    0    0    0    0\n",
            "    0    0    0    0    0    0    0    0    0    0    0    0    0    0\n",
            "    0    0    0    0]\n"
          ],
          "name": "stdout"
        }
      ]
    },
    {
      "metadata": {
        "colab_type": "text",
        "id": "F1zcxFwNGepA"
      },
      "cell_type": "markdown",
      "source": [
        "Now we want to build the neural network model. We  are going to have a hidden layer with 16 hidden units. \n",
        "\n",
        "First, we want to transform each index to an embedded vector and then average all vectors to a single one. It has been showed that unweighted average of word vectors outperforms many complicated networks that model semantic and syntactic compositionality. As an example you can take a look at this: (http://anthology.aclweb.org/P/P15/P15-1162.pdf)\n",
        "\n",
        "To average we need to ignore padded zeros:"
      ]
    },
    {
      "metadata": {
        "colab_type": "code",
        "id": "Yi04MLIvJOGZ",
        "colab": {}
      },
      "cell_type": "code",
      "source": [
        "class GlobalAveragePooling1DMasked(GlobalAveragePooling1D):\n",
        "    def call(self, x, mask=None):\n",
        "        if mask != None:\n",
        "            return K.sum(x, axis=1) / K.sum(mask, axis=1)\n",
        "        else:\n",
        "            return super().call(x)\n"
      ],
      "execution_count": 0,
      "outputs": []
    },
    {
      "metadata": {
        "colab_type": "text",
        "id": "whgIIB5ggjna"
      },
      "cell_type": "markdown",
      "source": [
        "### Neural Network model using one-hot vectors"
      ]
    },
    {
      "metadata": {
        "colab_type": "text",
        "id": "jlOLnlnSJgrU"
      },
      "cell_type": "markdown",
      "source": [
        "The first layer is an one-hot layer. The second layer is to compute average on all word vectors in a sentence without considering padding. The  output vector is piped through a fully-connected layer. The last layer is connected with a single output node with the sigmoid activation function. The final value is a float between 0 and 1. \n",
        "The vocabulary count of the movie reviews (10000) is used as the input shape. At the end we visualize the model summary."
      ]
    },
    {
      "metadata": {
        "colab_type": "code",
        "id": "_Pn83gBbxiK7",
        "outputId": "fdfc35bf-1e2e-4c92-de26-0fd985057cb3",
        "colab": {
          "base_uri": "https://localhost:8080/",
          "height": 368
        }
      },
      "cell_type": "code",
      "source": [
        "# put your code here\n",
        "\n",
        "model = Sequential()\n",
        "model.add(OneHot(input_dim=VOCAB_SIZE,input_length=MAX_SEQUENCE_LENGTH)) #1st layer : one hot\n",
        "model.add(GlobalAveragePooling1DMasked())#compute average on all word vectors in a sentence without considering padding\n",
        "model.add(Dense(16))  \n",
        "model.add(Dense(1, activation='sigmoid', dtype=np.float32)) #single output node, sigmoid activation function, float32\n",
        "\n",
        "model.summary()"
      ],
      "execution_count": 15,
      "outputs": [
        {
          "output_type": "stream",
          "text": [
            "WARNING:tensorflow:From /usr/local/lib/python3.6/dist-packages/tensorflow/python/framework/op_def_library.py:263: colocate_with (from tensorflow.python.framework.ops) is deprecated and will be removed in a future version.\n",
            "Instructions for updating:\n",
            "Colocations handled automatically by placer.\n",
            "_________________________________________________________________\n",
            "Layer (type)                 Output Shape              Param #   \n",
            "=================================================================\n",
            "lambda_1 (Lambda)            (None, 256, 10000)        0         \n",
            "_________________________________________________________________\n",
            "global_average_pooling1d_mas (None, 10000)             0         \n",
            "_________________________________________________________________\n",
            "dense_1 (Dense)              (None, 16)                160016    \n",
            "_________________________________________________________________\n",
            "dense_2 (Dense)              (None, 1)                 17        \n",
            "=================================================================\n",
            "Total params: 160,033\n",
            "Trainable params: 160,033\n",
            "Non-trainable params: 0\n",
            "_________________________________________________________________\n"
          ],
          "name": "stdout"
        }
      ]
    },
    {
      "metadata": {
        "colab_type": "text",
        "id": "_Mz96xpCgvTj"
      },
      "cell_type": "markdown",
      "source": [
        "### Training the model"
      ]
    },
    {
      "metadata": {
        "colab_type": "text",
        "id": "F3HbW_IKLqwT"
      },
      "cell_type": "markdown",
      "source": [
        "To compile the model we need a loss function and an optimizer. We use binary_crossentropy loss function which is just a special case of categorical cross entropy. We also use Adam optimizer that can be used instead of the classical stochastic gradient descent procedure to update network weights iterative based in training data. You can read more about it here:\n",
        "(https://arxiv.org/abs/1412.6980v8\n",
        ")\n"
      ]
    },
    {
      "metadata": {
        "colab_type": "code",
        "id": "qh1PWTNMxjUw",
        "colab": {}
      },
      "cell_type": "code",
      "source": [
        "model.compile(optimizer='adam',\n",
        "              loss='binary_crossentropy',\n",
        "              metrics=['accuracy'])"
      ],
      "execution_count": 0,
      "outputs": []
    },
    {
      "metadata": {
        "colab_type": "text",
        "id": "E1jwQQqCN5Ia"
      },
      "cell_type": "markdown",
      "source": [
        "When training, we want to check the accuracy of the model on data it hasn't seen before. So we create a validation set:"
      ]
    },
    {
      "metadata": {
        "colab_type": "code",
        "id": "f5lAqzQlxjSM",
        "colab": {}
      },
      "cell_type": "code",
      "source": [
        "X_val = np.array(X_train_enc[:10000])\n",
        "partial_X_train = np.array(X_train_enc[10000:])\n",
        "\n",
        "y_val = np.array(y_train[:10000])\n",
        "partial_y_train = np.array(y_train[10000:])"
      ],
      "execution_count": 0,
      "outputs": []
    },
    {
      "metadata": {
        "colab_type": "text",
        "id": "E8Kpo5G3OJEY"
      },
      "cell_type": "markdown",
      "source": [
        "Then we start to train the model for 40 epochs in mini-batches of 512 samples and monitor the model's loss and accuracy on the validation set."
      ]
    },
    {
      "metadata": {
        "colab_type": "code",
        "id": "99_z39KAxjPi",
        "outputId": "8db7f575-ec7c-432d-9793-8ee1ed1a63e6",
        "colab": {
          "base_uri": "https://localhost:8080/",
          "height": 1580
        }
      },
      "cell_type": "code",
      "source": [
        "history = model.fit(partial_X_train,\n",
        "                    partial_y_train,\n",
        "                    epochs =40,\n",
        "                    batch_size=512,\n",
        "                    validation_data=(X_val, y_val),\n",
        "                    verbose=1)"
      ],
      "execution_count": 18,
      "outputs": [
        {
          "output_type": "stream",
          "text": [
            "WARNING:tensorflow:From /usr/local/lib/python3.6/dist-packages/tensorflow/python/ops/math_ops.py:3066: to_int32 (from tensorflow.python.ops.math_ops) is deprecated and will be removed in a future version.\n",
            "Instructions for updating:\n",
            "Use tf.cast instead.\n",
            "Train on 15000 samples, validate on 10000 samples\n",
            "Epoch 1/40\n",
            "15000/15000 [==============================] - 9s 607us/step - loss: 0.6920 - acc: 0.5599 - val_loss: 0.6909 - val_acc: 0.5015\n",
            "Epoch 2/40\n",
            "15000/15000 [==============================] - 8s 536us/step - loss: 0.6890 - acc: 0.5969 - val_loss: 0.6875 - val_acc: 0.6473\n",
            "Epoch 3/40\n",
            "15000/15000 [==============================] - 8s 533us/step - loss: 0.6852 - acc: 0.6733 - val_loss: 0.6837 - val_acc: 0.6646\n",
            "Epoch 4/40\n",
            "15000/15000 [==============================] - 8s 536us/step - loss: 0.6810 - acc: 0.6711 - val_loss: 0.6797 - val_acc: 0.6628\n",
            "Epoch 5/40\n",
            "15000/15000 [==============================] - 8s 538us/step - loss: 0.6762 - acc: 0.6786 - val_loss: 0.6749 - val_acc: 0.6724\n",
            "Epoch 6/40\n",
            "15000/15000 [==============================] - 8s 538us/step - loss: 0.6711 - acc: 0.6687 - val_loss: 0.6694 - val_acc: 0.6729\n",
            "Epoch 7/40\n",
            "15000/15000 [==============================] - 8s 538us/step - loss: 0.6654 - acc: 0.6741 - val_loss: 0.6640 - val_acc: 0.6667\n",
            "Epoch 8/40\n",
            "15000/15000 [==============================] - 8s 539us/step - loss: 0.6594 - acc: 0.6861 - val_loss: 0.6583 - val_acc: 0.6741\n",
            "Epoch 9/40\n",
            "15000/15000 [==============================] - 8s 540us/step - loss: 0.6531 - acc: 0.6871 - val_loss: 0.6530 - val_acc: 0.6820\n",
            "Epoch 10/40\n",
            "15000/15000 [==============================] - 8s 541us/step - loss: 0.6468 - acc: 0.6909 - val_loss: 0.6468 - val_acc: 0.6888\n",
            "Epoch 11/40\n",
            "15000/15000 [==============================] - 8s 542us/step - loss: 0.6404 - acc: 0.6934 - val_loss: 0.6407 - val_acc: 0.6922\n",
            "Epoch 12/40\n",
            "15000/15000 [==============================] - 8s 540us/step - loss: 0.6341 - acc: 0.6983 - val_loss: 0.6348 - val_acc: 0.6830\n",
            "Epoch 13/40\n",
            "15000/15000 [==============================] - 8s 541us/step - loss: 0.6279 - acc: 0.6994 - val_loss: 0.6289 - val_acc: 0.6881\n",
            "Epoch 14/40\n",
            "15000/15000 [==============================] - 8s 542us/step - loss: 0.6218 - acc: 0.7015 - val_loss: 0.6231 - val_acc: 0.7013\n",
            "Epoch 15/40\n",
            "15000/15000 [==============================] - 8s 540us/step - loss: 0.6155 - acc: 0.7068 - val_loss: 0.6173 - val_acc: 0.7019\n",
            "Epoch 16/40\n",
            "15000/15000 [==============================] - 8s 540us/step - loss: 0.6096 - acc: 0.7085 - val_loss: 0.6117 - val_acc: 0.7054\n",
            "Epoch 17/40\n",
            "15000/15000 [==============================] - 8s 541us/step - loss: 0.6039 - acc: 0.7122 - val_loss: 0.6067 - val_acc: 0.7108\n",
            "Epoch 18/40\n",
            "15000/15000 [==============================] - 8s 543us/step - loss: 0.5982 - acc: 0.7166 - val_loss: 0.6012 - val_acc: 0.7084\n",
            "Epoch 19/40\n",
            "15000/15000 [==============================] - 8s 543us/step - loss: 0.5930 - acc: 0.7185 - val_loss: 0.5962 - val_acc: 0.7100\n",
            "Epoch 20/40\n",
            "15000/15000 [==============================] - 8s 542us/step - loss: 0.5880 - acc: 0.7194 - val_loss: 0.5913 - val_acc: 0.7153\n",
            "Epoch 21/40\n",
            "15000/15000 [==============================] - 8s 543us/step - loss: 0.5827 - acc: 0.7230 - val_loss: 0.5867 - val_acc: 0.7200\n",
            "Epoch 22/40\n",
            "15000/15000 [==============================] - 8s 542us/step - loss: 0.5778 - acc: 0.7250 - val_loss: 0.5823 - val_acc: 0.7166\n",
            "Epoch 23/40\n",
            "15000/15000 [==============================] - 8s 542us/step - loss: 0.5735 - acc: 0.7265 - val_loss: 0.5779 - val_acc: 0.7234\n",
            "Epoch 24/40\n",
            "15000/15000 [==============================] - 8s 542us/step - loss: 0.5688 - acc: 0.7310 - val_loss: 0.5739 - val_acc: 0.7243\n",
            "Epoch 25/40\n",
            "15000/15000 [==============================] - 8s 543us/step - loss: 0.5647 - acc: 0.7311 - val_loss: 0.5699 - val_acc: 0.7270\n",
            "Epoch 26/40\n",
            "15000/15000 [==============================] - 8s 540us/step - loss: 0.5609 - acc: 0.7347 - val_loss: 0.5668 - val_acc: 0.7249\n",
            "Epoch 27/40\n",
            "15000/15000 [==============================] - 8s 543us/step - loss: 0.5573 - acc: 0.7355 - val_loss: 0.5631 - val_acc: 0.7307\n",
            "Epoch 28/40\n",
            "15000/15000 [==============================] - 8s 541us/step - loss: 0.5536 - acc: 0.7374 - val_loss: 0.5596 - val_acc: 0.7338\n",
            "Epoch 29/40\n",
            "15000/15000 [==============================] - 8s 543us/step - loss: 0.5503 - acc: 0.7398 - val_loss: 0.5565 - val_acc: 0.7336\n",
            "Epoch 30/40\n",
            "15000/15000 [==============================] - 8s 541us/step - loss: 0.5472 - acc: 0.7410 - val_loss: 0.5540 - val_acc: 0.7334\n",
            "Epoch 31/40\n",
            "15000/15000 [==============================] - 8s 541us/step - loss: 0.5445 - acc: 0.7408 - val_loss: 0.5507 - val_acc: 0.7380\n",
            "Epoch 32/40\n",
            "15000/15000 [==============================] - 8s 542us/step - loss: 0.5416 - acc: 0.7430 - val_loss: 0.5487 - val_acc: 0.7373\n",
            "Epoch 33/40\n",
            "15000/15000 [==============================] - 8s 541us/step - loss: 0.5391 - acc: 0.7449 - val_loss: 0.5459 - val_acc: 0.7413\n",
            "Epoch 34/40\n",
            "15000/15000 [==============================] - 8s 542us/step - loss: 0.5366 - acc: 0.7444 - val_loss: 0.5438 - val_acc: 0.7393\n",
            "Epoch 35/40\n",
            "15000/15000 [==============================] - 8s 542us/step - loss: 0.5346 - acc: 0.7471 - val_loss: 0.5416 - val_acc: 0.7440\n",
            "Epoch 36/40\n",
            "15000/15000 [==============================] - 8s 541us/step - loss: 0.5329 - acc: 0.7476 - val_loss: 0.5403 - val_acc: 0.7397\n",
            "Epoch 37/40\n",
            "15000/15000 [==============================] - 8s 541us/step - loss: 0.5310 - acc: 0.7490 - val_loss: 0.5389 - val_acc: 0.7396\n",
            "Epoch 38/40\n",
            "15000/15000 [==============================] - 8s 542us/step - loss: 0.5286 - acc: 0.7485 - val_loss: 0.5365 - val_acc: 0.7429\n",
            "Epoch 39/40\n",
            "15000/15000 [==============================] - 8s 540us/step - loss: 0.5269 - acc: 0.7497 - val_loss: 0.5352 - val_acc: 0.7430\n",
            "Epoch 40/40\n",
            "15000/15000 [==============================] - 8s 541us/step - loss: 0.5252 - acc: 0.7500 - val_loss: 0.5333 - val_acc: 0.7451\n"
          ],
          "name": "stdout"
        }
      ]
    },
    {
      "metadata": {
        "colab_type": "text",
        "id": "i_9a_rybhG5J"
      },
      "cell_type": "markdown",
      "source": [
        "### Evaluating the model"
      ]
    },
    {
      "metadata": {
        "colab_type": "text",
        "id": "EYLH8kOgOo9W"
      },
      "cell_type": "markdown",
      "source": [
        "To evaulate the model on test data:"
      ]
    },
    {
      "metadata": {
        "colab_type": "code",
        "id": "CFMt2Q7b3taP",
        "outputId": "3ffa4671-7a46-4030-f222-91da91cea78d",
        "colab": {
          "base_uri": "https://localhost:8080/",
          "height": 35
        }
      },
      "cell_type": "code",
      "source": [
        "results = model.evaluate(X_test_enc, y_test)"
      ],
      "execution_count": 19,
      "outputs": [
        {
          "output_type": "stream",
          "text": [
            "25000/25000 [==============================] - 9s 371us/step\n"
          ],
          "name": "stdout"
        }
      ]
    },
    {
      "metadata": {
        "colab_type": "code",
        "id": "9RrKiPHcAmQU",
        "outputId": "0c210f59-da31-4a2b-9419-2ab6b7062652",
        "colab": {
          "base_uri": "https://localhost:8080/",
          "height": 35
        }
      },
      "cell_type": "code",
      "source": [
        "print(results)\n",
        "# loss, accuracay "
      ],
      "execution_count": 20,
      "outputs": [
        {
          "output_type": "stream",
          "text": [
            "[0.5332604289245605, 0.74248]\n"
          ],
          "name": "stdout"
        }
      ]
    },
    {
      "metadata": {
        "colab_type": "text",
        "id": "pW7IpHxMO6qp"
      },
      "cell_type": "markdown",
      "source": [
        "Our first model accuracy using one-hot vectors is \n",
        "\n",
        "\n",
        "\n"
      ]
    },
    {
      "metadata": {
        "colab_type": "text",
        "id": "OwZk_yoWhPJB"
      },
      "cell_type": "markdown",
      "source": [
        "### Plotting the accuracy graph"
      ]
    },
    {
      "metadata": {
        "colab_type": "text",
        "id": "JIDPH1J7PMzN"
      },
      "cell_type": "markdown",
      "source": [
        "To plot a graph of accuracy and loss over time we can use Matplotlib:"
      ]
    },
    {
      "metadata": {
        "colab_type": "code",
        "id": "LS9k2vvSAqB7",
        "outputId": "3a3e0292-26ed-4370-d905-c49e294b5e6c",
        "colab": {
          "base_uri": "https://localhost:8080/",
          "height": 376
        }
      },
      "cell_type": "code",
      "source": [
        "import matplotlib.pyplot as plt\n",
        "\n",
        "history_dict = history.history\n",
        "\n",
        "acc = history_dict['acc']\n",
        "val_acc = history_dict['val_acc']\n",
        "loss = history_dict['loss']\n",
        "val_loss = history_dict['val_loss']\n",
        "\n",
        "epochs = range(1, len(acc) + 1)\n",
        "\n",
        "plt.plot(epochs, acc, 'bo', label='Training acc')\n",
        "plt.plot(epochs, val_acc, 'b', label='Validation acc')\n",
        "plt.title('Training and validation accuracy')\n",
        "plt.xlabel('Epochs')\n",
        "plt.ylabel('Accuracy')\n",
        "plt.legend()\n",
        "\n",
        "plt.show()"
      ],
      "execution_count": 21,
      "outputs": [
        {
          "output_type": "display_data",
          "data": {
            "image/png": "[encoded data removed]",
            "text/plain": [
              "<Figure size 576x396 with 1 Axes>"
            ]
          },
          "metadata": {
            "tags": []
          }
        }
      ]
    },
    {
      "metadata": {
        "colab_type": "text",
        "id": "a7OwOQw4h8RX"
      },
      "cell_type": "markdown",
      "source": [
        "### Neural Network model using word embeddings"
      ]
    },
    {
      "metadata": {
        "colab_type": "text",
        "id": "l-QzOMO_P4jc"
      },
      "cell_type": "markdown",
      "source": [
        "Now instead of one-hot vectors, we want to use embedding. We change our first layer in model1 to an Embedding layer. This layer takes the integer-encoded vocabulary and looks up the embedding vector for each word-index. These vectors are learned as the model trains. The vectors add a dimension to the output array. The resulting dimensions are: (batch, sequence, embedding)."
      ]
    },
    {
      "metadata": {
        "colab_type": "code",
        "id": "MFrCsL-NBFVL",
        "outputId": "809bc37f-7d6b-45b5-a229-9d7e66a0cd2e",
        "colab": {
          "base_uri": "https://localhost:8080/",
          "height": 1817
        }
      },
      "cell_type": "code",
      "source": [
        "VOCAB_SIZE= 10000\n",
        "MAX_SEQUENCE_LENGTH = 256\n",
        "\n",
        "# put the code here---start\n",
        "EMBEDDING_SIZE = 16 \n",
        "model2 = Sequential()\n",
        "model2.add(Embedding(input_dim=VOCAB_SIZE,output_dim=EMBEDDING_SIZE,input_length=MAX_SEQUENCE_LENGTH))\n",
        "model2.add(GlobalAveragePooling1DMasked())\n",
        "model2.add(Dense(16))  \n",
        "model2.add(Dense(1, activation='sigmoid', dtype=np.float32))\n",
        "\n",
        "model2.summary()\n",
        "\n",
        "# put the code here---end\n",
        "\n",
        "model2.compile(optimizer='adam',\n",
        "              loss='binary_crossentropy',\n",
        "              metrics=['accuracy'])\n",
        "\n",
        "X_val = np.array(X_train_enc[:10000])\n",
        "partial_X_train = np.array(X_train_enc[10000:])\n",
        "\n",
        "history2 = model2.fit(partial_X_train,\n",
        "                    partial_y_train,\n",
        "                    epochs=40,\n",
        "                    batch_size=512,\n",
        "                    validation_data=(X_val, y_val),\n",
        "                    verbose=1)\n",
        "\n",
        "results = model2.evaluate(X_test_enc, y_test)\n",
        "print(results)"
      ],
      "execution_count": 22,
      "outputs": [
        {
          "output_type": "stream",
          "text": [
            "_________________________________________________________________\n",
            "Layer (type)                 Output Shape              Param #   \n",
            "=================================================================\n",
            "embedding_1 (Embedding)      (None, 256, 16)           160000    \n",
            "_________________________________________________________________\n",
            "global_average_pooling1d_mas (None, 16)                0         \n",
            "_________________________________________________________________\n",
            "dense_3 (Dense)              (None, 16)                272       \n",
            "_________________________________________________________________\n",
            "dense_4 (Dense)              (None, 1)                 17        \n",
            "=================================================================\n",
            "Total params: 160,289\n",
            "Trainable params: 160,289\n",
            "Non-trainable params: 0\n",
            "_________________________________________________________________\n",
            "Train on 15000 samples, validate on 10000 samples\n",
            "Epoch 1/40\n",
            "15000/15000 [==============================] - 1s 34us/step - loss: 0.6919 - acc: 0.5363 - val_loss: 0.6900 - val_acc: 0.5521\n",
            "Epoch 2/40\n",
            "15000/15000 [==============================] - 0s 16us/step - loss: 0.6854 - acc: 0.6515 - val_loss: 0.6800 - val_acc: 0.7009\n",
            "Epoch 3/40\n",
            "15000/15000 [==============================] - 0s 15us/step - loss: 0.6690 - acc: 0.7409 - val_loss: 0.6587 - val_acc: 0.7360\n",
            "Epoch 4/40\n",
            "15000/15000 [==============================] - 0s 15us/step - loss: 0.6384 - acc: 0.7585 - val_loss: 0.6243 - val_acc: 0.7510\n",
            "Epoch 5/40\n",
            "15000/15000 [==============================] - 0s 15us/step - loss: 0.5952 - acc: 0.7760 - val_loss: 0.5809 - val_acc: 0.7709\n",
            "Epoch 6/40\n",
            "15000/15000 [==============================] - 0s 16us/step - loss: 0.5448 - acc: 0.7974 - val_loss: 0.5343 - val_acc: 0.7919\n",
            "Epoch 7/40\n",
            "15000/15000 [==============================] - 0s 16us/step - loss: 0.4931 - acc: 0.8227 - val_loss: 0.4896 - val_acc: 0.8142\n",
            "Epoch 8/40\n",
            "15000/15000 [==============================] - 0s 16us/step - loss: 0.4447 - acc: 0.8422 - val_loss: 0.4492 - val_acc: 0.8308\n",
            "Epoch 9/40\n",
            "15000/15000 [==============================] - 0s 16us/step - loss: 0.4023 - acc: 0.8624 - val_loss: 0.4138 - val_acc: 0.8438\n",
            "Epoch 10/40\n",
            "15000/15000 [==============================] - 0s 16us/step - loss: 0.3663 - acc: 0.8750 - val_loss: 0.3866 - val_acc: 0.8532\n",
            "Epoch 11/40\n",
            "15000/15000 [==============================] - 0s 17us/step - loss: 0.3368 - acc: 0.8839 - val_loss: 0.3656 - val_acc: 0.8583\n",
            "Epoch 12/40\n",
            "15000/15000 [==============================] - 0s 16us/step - loss: 0.3123 - acc: 0.8906 - val_loss: 0.3496 - val_acc: 0.8623\n",
            "Epoch 13/40\n",
            "15000/15000 [==============================] - 0s 16us/step - loss: 0.2916 - acc: 0.8967 - val_loss: 0.3353 - val_acc: 0.8702\n",
            "Epoch 14/40\n",
            "15000/15000 [==============================] - 0s 16us/step - loss: 0.2734 - acc: 0.9037 - val_loss: 0.3248 - val_acc: 0.8727\n",
            "Epoch 15/40\n",
            "15000/15000 [==============================] - 0s 17us/step - loss: 0.2577 - acc: 0.9093 - val_loss: 0.3161 - val_acc: 0.8763\n",
            "Epoch 16/40\n",
            "15000/15000 [==============================] - 0s 16us/step - loss: 0.2435 - acc: 0.9129 - val_loss: 0.3094 - val_acc: 0.8765\n",
            "Epoch 17/40\n",
            "15000/15000 [==============================] - 0s 16us/step - loss: 0.2309 - acc: 0.9173 - val_loss: 0.3040 - val_acc: 0.8789\n",
            "Epoch 18/40\n",
            "15000/15000 [==============================] - 0s 16us/step - loss: 0.2194 - acc: 0.9232 - val_loss: 0.2987 - val_acc: 0.8820\n",
            "Epoch 19/40\n",
            "15000/15000 [==============================] - 0s 18us/step - loss: 0.2078 - acc: 0.9274 - val_loss: 0.2951 - val_acc: 0.8823\n",
            "Epoch 20/40\n",
            "15000/15000 [==============================] - 0s 17us/step - loss: 0.1978 - acc: 0.9312 - val_loss: 0.2922 - val_acc: 0.8831\n",
            "Epoch 21/40\n",
            "15000/15000 [==============================] - 0s 17us/step - loss: 0.1884 - acc: 0.9360 - val_loss: 0.2917 - val_acc: 0.8833\n",
            "Epoch 22/40\n",
            "15000/15000 [==============================] - 0s 17us/step - loss: 0.1799 - acc: 0.9395 - val_loss: 0.2902 - val_acc: 0.8833\n",
            "Epoch 23/40\n",
            "15000/15000 [==============================] - 0s 18us/step - loss: 0.1714 - acc: 0.9431 - val_loss: 0.2882 - val_acc: 0.8851\n",
            "Epoch 24/40\n",
            "15000/15000 [==============================] - 0s 17us/step - loss: 0.1639 - acc: 0.9475 - val_loss: 0.2881 - val_acc: 0.8843\n",
            "Epoch 25/40\n",
            "15000/15000 [==============================] - 0s 17us/step - loss: 0.1564 - acc: 0.9503 - val_loss: 0.2882 - val_acc: 0.8847\n",
            "Epoch 26/40\n",
            "15000/15000 [==============================] - 0s 17us/step - loss: 0.1495 - acc: 0.9531 - val_loss: 0.2884 - val_acc: 0.8856\n",
            "Epoch 27/40\n",
            "15000/15000 [==============================] - 0s 18us/step - loss: 0.1429 - acc: 0.9560 - val_loss: 0.2898 - val_acc: 0.8849\n",
            "Epoch 28/40\n",
            "15000/15000 [==============================] - 0s 16us/step - loss: 0.1365 - acc: 0.9581 - val_loss: 0.2908 - val_acc: 0.8855\n",
            "Epoch 29/40\n",
            "15000/15000 [==============================] - 0s 17us/step - loss: 0.1312 - acc: 0.9607 - val_loss: 0.2925 - val_acc: 0.8861\n",
            "Epoch 30/40\n",
            "15000/15000 [==============================] - 0s 16us/step - loss: 0.1251 - acc: 0.9638 - val_loss: 0.2946 - val_acc: 0.8862\n",
            "Epoch 31/40\n",
            "15000/15000 [==============================] - 0s 18us/step - loss: 0.1197 - acc: 0.9653 - val_loss: 0.2977 - val_acc: 0.8848\n",
            "Epoch 32/40\n",
            "15000/15000 [==============================] - 0s 17us/step - loss: 0.1146 - acc: 0.9669 - val_loss: 0.3002 - val_acc: 0.8837\n",
            "Epoch 33/40\n",
            "15000/15000 [==============================] - 0s 17us/step - loss: 0.1106 - acc: 0.9689 - val_loss: 0.3029 - val_acc: 0.8847\n",
            "Epoch 34/40\n",
            "15000/15000 [==============================] - 0s 17us/step - loss: 0.1049 - acc: 0.9703 - val_loss: 0.3062 - val_acc: 0.8832\n",
            "Epoch 35/40\n",
            "15000/15000 [==============================] - 0s 19us/step - loss: 0.1010 - acc: 0.9719 - val_loss: 0.3100 - val_acc: 0.8839\n",
            "Epoch 36/40\n",
            "15000/15000 [==============================] - 0s 17us/step - loss: 0.0962 - acc: 0.9741 - val_loss: 0.3136 - val_acc: 0.8835\n",
            "Epoch 37/40\n",
            "15000/15000 [==============================] - 0s 17us/step - loss: 0.0927 - acc: 0.9750 - val_loss: 0.3173 - val_acc: 0.8820\n",
            "Epoch 38/40\n",
            "15000/15000 [==============================] - 0s 17us/step - loss: 0.0880 - acc: 0.9767 - val_loss: 0.3220 - val_acc: 0.8817\n",
            "Epoch 39/40\n",
            "15000/15000 [==============================] - 0s 18us/step - loss: 0.0847 - acc: 0.9780 - val_loss: 0.3267 - val_acc: 0.8815\n",
            "Epoch 40/40\n",
            "15000/15000 [==============================] - 0s 17us/step - loss: 0.0810 - acc: 0.9793 - val_loss: 0.3335 - val_acc: 0.8778\n",
            "25000/25000 [==============================] - 1s 44us/step\n",
            "[0.3534535896873474, 0.86916]\n"
          ],
          "name": "stdout"
        }
      ]
    },
    {
      "metadata": {
        "colab_type": "code",
        "id": "I4zIPJDcTPq3",
        "outputId": "74a679b9-738f-4871-8992-f06c743f8c0b",
        "colab": {
          "base_uri": "https://localhost:8080/",
          "height": 35
        }
      },
      "cell_type": "code",
      "source": [
        "results = model2.evaluate(X_test_enc, y_test)"
      ],
      "execution_count": 23,
      "outputs": [
        {
          "output_type": "stream",
          "text": [
            "25000/25000 [==============================] - 1s 45us/step\n"
          ],
          "name": "stdout"
        }
      ]
    },
    {
      "metadata": {
        "colab_type": "code",
        "id": "waS96edDTRyL",
        "outputId": "9f9eec6d-ad85-412b-927a-297fc880fc0b",
        "colab": {
          "base_uri": "https://localhost:8080/",
          "height": 35
        }
      },
      "cell_type": "code",
      "source": [
        "print (results)"
      ],
      "execution_count": 24,
      "outputs": [
        {
          "output_type": "stream",
          "text": [
            "[0.3534535896873474, 0.86916]\n"
          ],
          "name": "stdout"
        }
      ]
    },
    {
      "metadata": {
        "colab_type": "code",
        "id": "XB7aveVzTC5a",
        "outputId": "8cfa313c-4747-4e3a-b588-4109982b3aa4",
        "colab": {
          "base_uri": "https://localhost:8080/",
          "height": 376
        }
      },
      "cell_type": "code",
      "source": [
        "import matplotlib.pyplot as plt\n",
        "\n",
        "history_dict = history2.history\n",
        "\n",
        "acc = history_dict['acc']\n",
        "val_acc = history_dict['val_acc']\n",
        "loss = history_dict['loss']\n",
        "val_loss = history_dict['val_loss']\n",
        "\n",
        "epochs = range(1, len(acc) + 1)\n",
        "\n",
        "plt.plot(epochs, acc, 'bo', label='Training acc')\n",
        "plt.plot(epochs, val_acc, 'b', label='Validation acc')\n",
        "plt.title('Training and validation accuracy')\n",
        "plt.xlabel('Epochs')\n",
        "plt.ylabel('Accuracy')\n",
        "plt.legend()\n",
        "\n",
        "plt.show()"
      ],
      "execution_count": 25,
      "outputs": [
        {
          "output_type": "display_data",
          "data": {
            "image/png": "[encoded data removed]",
            "text/plain": [
              "<Figure size 576x396 with 1 Axes>"
            ]
          },
          "metadata": {
            "tags": []
          }
        }
      ]
    },
    {
      "metadata": {
        "colab_type": "code",
        "id": "wpGfW_W2w0cD",
        "colab": {}
      },
      "cell_type": "code",
      "source": [
        ""
      ],
      "execution_count": 0,
      "outputs": []
    },
    {
      "metadata": {
        "colab_type": "text",
        "id": "7FBpTc_rXGvQ"
      },
      "cell_type": "markdown",
      "source": [
        "The accuracy of model2 is 87%. Using Embedding layer instead of one-hot layer improved the performance."
      ]
    },
    {
      "metadata": {
        "colab_type": "text",
        "id": "--020hfG6rN2"
      },
      "cell_type": "markdown",
      "source": [
        "### Using pre-trained word embeddings"
      ]
    },
    {
      "metadata": {
        "colab_type": "text",
        "id": "J4gBeOyi4gkM"
      },
      "cell_type": "markdown",
      "source": [
        "The Embedding layer can be used to load a pre-trained word embedding model. We are going to use GloVe embeddings, which you can read about it here (https://nlp.stanford.edu/projects/glove/). GloVe stands for \"Global Vectors for Word Representation\". It's a somewhat popular embedding technique based on factorizing a matrix of word co-occurence statistics. You can download GloVe and we can seed the Keras Embedding layer with weights from the pre-trained embedding for the words in your dataset.\n",
        "First, we need to read GloVe and map words to GloVe:\n"
      ]
    },
    {
      "metadata": {
        "colab_type": "code",
        "id": "f_PypdqG9Iis",
        "colab": {}
      },
      "cell_type": "code",
      "source": [
        "def readGloveFile(gloveFile):\n",
        "    with open(gloveFile, 'r',  encoding=\"utf8\") as f:  #CHANGED FROM:  with open(gloveFile, 'r') as f:\n",
        "        wordToGlove = {}  \n",
        "        wordToIndex = {}  \n",
        "        indexToWord = {}  \n",
        "\n",
        "        for line in f:\n",
        "            record = line.strip().split()\n",
        "            token = record[0] \n",
        "            wordToGlove[token] = np.array(record[1:], dtype=np.float64) \n",
        "            \n",
        "        tokens = sorted(wordToGlove.keys())\n",
        "        for idx, tok in enumerate(tokens):\n",
        "            kerasIdx = idx + 1  \n",
        "            wordToIndex[tok] = kerasIdx \n",
        "            indexToWord[kerasIdx] = tok \n",
        "\n",
        "    return wordToIndex, indexToWord, wordToGlove"
      ],
      "execution_count": 0,
      "outputs": []
    },
    {
      "metadata": {
        "colab_type": "text",
        "id": "ZcIZ3dq59bCh"
      },
      "cell_type": "markdown",
      "source": [
        "Now, we create our pre-trained Embedding layer:"
      ]
    },
    {
      "metadata": {
        "colab_type": "code",
        "id": "gembn7VM3ex8",
        "colab": {}
      },
      "cell_type": "code",
      "source": [
        "from tensorflow.contrib.keras.api.keras.initializers import Constant\n",
        "\n",
        "\n",
        "def createPretrainedEmbeddingLayer(wordToGlove, wordToIndex, isTrainable):\n",
        "    vocabLen = len(wordToIndex) + 1  \n",
        "    embDim = next(iter(wordToGlove.values())).shape[0]  \n",
        "   \n",
        "    embeddingMatrix = np.zeros((vocabLen, embDim))  \n",
        "    for word, index in wordToIndex.items():\n",
        "        embeddingMatrix[index, :] = wordToGlove[word] \n",
        "\n",
        "    embeddingLayer = Embedding(vocabLen, embDim, embeddings_initializer=Constant(embeddingMatrix), trainable=isTrainable)  \n",
        "    return embeddingLayer"
      ],
      "execution_count": 0,
      "outputs": []
    },
    {
      "metadata": {
        "colab_type": "text",
        "id": "HGxciLK4-xOr"
      },
      "cell_type": "markdown",
      "source": [
        "We freeze the weights. To create the model:"
      ]
    },
    {
      "metadata": {
        "colab_type": "code",
        "id": "PZCPUM0W_Drc",
        "colab": {
          "base_uri": "https://localhost:8080/",
          "height": 129
        },
        "outputId": "3937d880-f012-49b2-e55b-01ce70ffad72"
      },
      "cell_type": "code",
      "source": [
        "# put the code here\n",
        "# Load the Drive helper and mount\n",
        "from google.colab import drive\n",
        "drive.mount('/content/drive')\n",
        "import numpy as np\n",
        "\n",
        "wordToIndex, indexToWord, wordToGlove = readGloveFile(\"/content/drive/My Drive/Colab Notebooks/glove.6B.300d.txt\")\n",
        "pretrainedEmbeddingLayer = createPretrainedEmbeddingLayer(wordToGlove, wordToIndex, False) # False = free weights"
      ],
      "execution_count": 28,
      "outputs": [
        {
          "output_type": "stream",
          "text": [
            "Go to this URL in a browser: https://accounts.google.com/o/oauth2/auth?client_id=947318989803-6bn6qk8qdgf4n4g3pfee6491hc0brc4i.apps.googleusercontent.com&redirect_uri=urn%3Aietf%3Awg%3Aoauth%3A2.0%3Aoob&scope=email%20https%3A%2F%2Fwww.googleapis.com%2Fauth%2Fdocs.test%20https%3A%2F%2Fwww.googleapis.com%2Fauth%2Fdrive%20https%3A%2F%2Fwww.googleapis.com%2Fauth%2Fdrive.photos.readonly%20https%3A%2F%2Fwww.googleapis.com%2Fauth%2Fpeopleapi.readonly&response_type=code\n",
            "\n",
            "Enter your authorization code:\n",
            "··········\n",
            "Mounted at /content/drive\n"
          ],
          "name": "stdout"
        }
      ]
    },
    {
      "metadata": {
        "colab_type": "text",
        "id": "M-bZ5SCHiIMl"
      },
      "cell_type": "markdown",
      "source": [
        "### Adding another hidden layer to the network"
      ]
    },
    {
      "metadata": {
        "colab_type": "text",
        "id": "ZbZ6UBDfbjea"
      },
      "cell_type": "markdown",
      "source": [
        "In model3, we only add another dense layer to see if that improves the performance."
      ]
    },
    {
      "metadata": {
        "colab_type": "code",
        "id": "Vw0le1YjDdCa",
        "colab": {
          "base_uri": "https://localhost:8080/",
          "height": 1817
        },
        "outputId": "9bc82aa8-b180-4333-b946-d2cdcd6d41b5"
      },
      "cell_type": "code",
      "source": [
        "model3 = Sequential()\n",
        "model3.add(pretrainedEmbeddingLayer)\n",
        "model3.add(GlobalAveragePooling1DMasked())  \n",
        "model3.add(Dense(16))  \n",
        "model3.add(Dense(16))  # add another dense layer\n",
        "model3.add(Dense(1, activation='sigmoid'))#, dtype=np.float32))\n",
        "\n",
        "model3.summary()\n",
        "\n",
        "# compile and fit the model\n",
        "model3.compile(optimizer='adam',           \n",
        "              loss='binary_crossentropy',\n",
        "              metrics=['accuracy'])\n",
        "\n",
        "history3 = model3.fit(partial_X_train,\n",
        "                    partial_y_train,\n",
        "                    epochs=40,  \n",
        "                    batch_size=512,\n",
        "                    validation_data=(X_val, y_val),\n",
        "                    verbose=1)"
      ],
      "execution_count": 29,
      "outputs": [
        {
          "output_type": "stream",
          "text": [
            "_________________________________________________________________\n",
            "Layer (type)                 Output Shape              Param #   \n",
            "=================================================================\n",
            "embedding_2 (Embedding)      (None, None, 300)         120000300 \n",
            "_________________________________________________________________\n",
            "global_average_pooling1d_mas (None, 300)               0         \n",
            "_________________________________________________________________\n",
            "dense_5 (Dense)              (None, 16)                4816      \n",
            "_________________________________________________________________\n",
            "dense_6 (Dense)              (None, 16)                272       \n",
            "_________________________________________________________________\n",
            "dense_7 (Dense)              (None, 1)                 17        \n",
            "=================================================================\n",
            "Total params: 120,005,405\n",
            "Trainable params: 5,105\n",
            "Non-trainable params: 120,000,300\n",
            "_________________________________________________________________\n",
            "Train on 15000 samples, validate on 10000 samples\n",
            "Epoch 1/40\n",
            "15000/15000 [==============================] - 4s 247us/step - loss: 0.6883 - acc: 0.5469 - val_loss: 0.6836 - val_acc: 0.5695\n",
            "Epoch 2/40\n",
            "15000/15000 [==============================] - 0s 30us/step - loss: 0.6788 - acc: 0.5723 - val_loss: 0.6736 - val_acc: 0.5828\n",
            "Epoch 3/40\n",
            "15000/15000 [==============================] - 0s 27us/step - loss: 0.6673 - acc: 0.5999 - val_loss: 0.6631 - val_acc: 0.6079\n",
            "Epoch 4/40\n",
            "15000/15000 [==============================] - 0s 27us/step - loss: 0.6548 - acc: 0.6191 - val_loss: 0.6478 - val_acc: 0.6293\n",
            "Epoch 5/40\n",
            "15000/15000 [==============================] - 0s 28us/step - loss: 0.6387 - acc: 0.6485 - val_loss: 0.6310 - val_acc: 0.6559\n",
            "Epoch 6/40\n",
            "15000/15000 [==============================] - 0s 27us/step - loss: 0.6213 - acc: 0.6692 - val_loss: 0.6228 - val_acc: 0.6589\n",
            "Epoch 7/40\n",
            "15000/15000 [==============================] - 0s 28us/step - loss: 0.6065 - acc: 0.6816 - val_loss: 0.6045 - val_acc: 0.6780\n",
            "Epoch 8/40\n",
            "15000/15000 [==============================] - 0s 27us/step - loss: 0.5932 - acc: 0.6955 - val_loss: 0.5949 - val_acc: 0.6863\n",
            "Epoch 9/40\n",
            "15000/15000 [==============================] - 0s 27us/step - loss: 0.5840 - acc: 0.6991 - val_loss: 0.5927 - val_acc: 0.6856\n",
            "Epoch 10/40\n",
            "15000/15000 [==============================] - 0s 28us/step - loss: 0.5789 - acc: 0.7023 - val_loss: 0.5834 - val_acc: 0.6988\n",
            "Epoch 11/40\n",
            "15000/15000 [==============================] - 0s 27us/step - loss: 0.5737 - acc: 0.7049 - val_loss: 0.5764 - val_acc: 0.7053\n",
            "Epoch 12/40\n",
            "15000/15000 [==============================] - 0s 28us/step - loss: 0.5665 - acc: 0.7145 - val_loss: 0.5810 - val_acc: 0.7000\n",
            "Epoch 13/40\n",
            "15000/15000 [==============================] - 0s 27us/step - loss: 0.5618 - acc: 0.7173 - val_loss: 0.5685 - val_acc: 0.7124\n",
            "Epoch 14/40\n",
            "15000/15000 [==============================] - 0s 27us/step - loss: 0.5578 - acc: 0.7199 - val_loss: 0.5672 - val_acc: 0.7130\n",
            "Epoch 15/40\n",
            "15000/15000 [==============================] - 0s 28us/step - loss: 0.5565 - acc: 0.7205 - val_loss: 0.5624 - val_acc: 0.7168\n",
            "Epoch 16/40\n",
            "15000/15000 [==============================] - 0s 27us/step - loss: 0.5499 - acc: 0.7271 - val_loss: 0.5608 - val_acc: 0.7203\n",
            "Epoch 17/40\n",
            "15000/15000 [==============================] - 0s 28us/step - loss: 0.5495 - acc: 0.7263 - val_loss: 0.5620 - val_acc: 0.7198\n",
            "Epoch 18/40\n",
            "15000/15000 [==============================] - 0s 28us/step - loss: 0.5462 - acc: 0.7278 - val_loss: 0.5555 - val_acc: 0.7211\n",
            "Epoch 19/40\n",
            "15000/15000 [==============================] - 0s 28us/step - loss: 0.5446 - acc: 0.7314 - val_loss: 0.5534 - val_acc: 0.7251\n",
            "Epoch 20/40\n",
            "15000/15000 [==============================] - 0s 28us/step - loss: 0.5410 - acc: 0.7323 - val_loss: 0.5505 - val_acc: 0.7271\n",
            "Epoch 21/40\n",
            "15000/15000 [==============================] - 0s 27us/step - loss: 0.5392 - acc: 0.7351 - val_loss: 0.5497 - val_acc: 0.7246\n",
            "Epoch 22/40\n",
            "15000/15000 [==============================] - 0s 28us/step - loss: 0.5370 - acc: 0.7356 - val_loss: 0.5494 - val_acc: 0.7219\n",
            "Epoch 23/40\n",
            "15000/15000 [==============================] - 0s 27us/step - loss: 0.5350 - acc: 0.7375 - val_loss: 0.5490 - val_acc: 0.7235\n",
            "Epoch 24/40\n",
            "15000/15000 [==============================] - 0s 27us/step - loss: 0.5339 - acc: 0.7384 - val_loss: 0.5461 - val_acc: 0.7293\n",
            "Epoch 25/40\n",
            "15000/15000 [==============================] - 0s 28us/step - loss: 0.5332 - acc: 0.7389 - val_loss: 0.5446 - val_acc: 0.7280\n",
            "Epoch 26/40\n",
            "15000/15000 [==============================] - 0s 28us/step - loss: 0.5323 - acc: 0.7401 - val_loss: 0.5425 - val_acc: 0.7298\n",
            "Epoch 27/40\n",
            "15000/15000 [==============================] - 0s 28us/step - loss: 0.5317 - acc: 0.7377 - val_loss: 0.5540 - val_acc: 0.7262\n",
            "Epoch 28/40\n",
            "15000/15000 [==============================] - 0s 27us/step - loss: 0.5328 - acc: 0.7382 - val_loss: 0.5443 - val_acc: 0.7275\n",
            "Epoch 29/40\n",
            "15000/15000 [==============================] - 0s 28us/step - loss: 0.5304 - acc: 0.7405 - val_loss: 0.5480 - val_acc: 0.7325\n",
            "Epoch 30/40\n",
            "15000/15000 [==============================] - 0s 29us/step - loss: 0.5317 - acc: 0.7385 - val_loss: 0.5442 - val_acc: 0.7326\n",
            "Epoch 31/40\n",
            "15000/15000 [==============================] - 0s 28us/step - loss: 0.5373 - acc: 0.7341 - val_loss: 0.5393 - val_acc: 0.7315\n",
            "Epoch 32/40\n",
            "15000/15000 [==============================] - 0s 28us/step - loss: 0.5342 - acc: 0.7358 - val_loss: 0.5391 - val_acc: 0.7315\n",
            "Epoch 33/40\n",
            "15000/15000 [==============================] - 0s 27us/step - loss: 0.5267 - acc: 0.7432 - val_loss: 0.5397 - val_acc: 0.7329\n",
            "Epoch 34/40\n",
            "15000/15000 [==============================] - 0s 28us/step - loss: 0.5264 - acc: 0.7397 - val_loss: 0.5377 - val_acc: 0.7335\n",
            "Epoch 35/40\n",
            "15000/15000 [==============================] - 0s 28us/step - loss: 0.5260 - acc: 0.7432 - val_loss: 0.5384 - val_acc: 0.7335\n",
            "Epoch 36/40\n",
            "15000/15000 [==============================] - 0s 27us/step - loss: 0.5257 - acc: 0.7417 - val_loss: 0.5367 - val_acc: 0.7337\n",
            "Epoch 37/40\n",
            "15000/15000 [==============================] - 0s 28us/step - loss: 0.5233 - acc: 0.7439 - val_loss: 0.5396 - val_acc: 0.7318\n",
            "Epoch 38/40\n",
            "15000/15000 [==============================] - 0s 28us/step - loss: 0.5225 - acc: 0.7441 - val_loss: 0.5360 - val_acc: 0.7354\n",
            "Epoch 39/40\n",
            "15000/15000 [==============================] - 0s 27us/step - loss: 0.5254 - acc: 0.7437 - val_loss: 0.5376 - val_acc: 0.7321\n",
            "Epoch 40/40\n",
            "15000/15000 [==============================] - 0s 28us/step - loss: 0.5218 - acc: 0.7442 - val_loss: 0.5382 - val_acc: 0.7334\n"
          ],
          "name": "stdout"
        }
      ]
    },
    {
      "metadata": {
        "colab_type": "code",
        "id": "QtsdVeW7UgCu",
        "colab": {
          "base_uri": "https://localhost:8080/",
          "height": 376
        },
        "outputId": "1a1a2a99-fb08-443e-d1f3-ae5e4b638cd6"
      },
      "cell_type": "code",
      "source": [
        "import matplotlib.pyplot as plt\n",
        "\n",
        "history_dict = history3.history\n",
        "\n",
        "acc = history_dict['acc']\n",
        "val_acc = history_dict['val_acc']\n",
        "loss = history_dict['loss']\n",
        "val_loss = history_dict['val_loss']\n",
        "\n",
        "epochs = range(1, len(acc) + 1)\n",
        "\n",
        "plt.plot(epochs, acc, 'bo', label='Training acc')\n",
        "plt.plot(epochs, val_acc, 'b', label='Validation acc')\n",
        "plt.title('Training and validation accuracy')\n",
        "plt.xlabel('Epochs')\n",
        "plt.ylabel('Accuracy')\n",
        "plt.legend()\n",
        "\n",
        "plt.show()"
      ],
      "execution_count": 30,
      "outputs": [
        {
          "output_type": "display_data",
          "data": {
            "image/png": "[encoded data removed]",
            "text/plain": [
              "<Figure size 576x396 with 1 Axes>"
            ]
          },
          "metadata": {
            "tags": []
          }
        }
      ]
    },
    {
      "metadata": {
        "colab_type": "code",
        "id": "F3Lycc-Pw0dH",
        "colab": {}
      },
      "cell_type": "code",
      "source": [
        ""
      ],
      "execution_count": 0,
      "outputs": []
    },
    {
      "metadata": {
        "colab_type": "text",
        "id": "Kx--Ytk3ZbLo"
      },
      "cell_type": "markdown",
      "source": [
        "The accuracy of model3 with an additional layer is 85%. Adding more layers can help you to extract more features. But we can do that upto a certain extent. After some point, instead of extracting features, we tend to overfit the data. Overfitting can lead to errors in some or the other form like false positives. It is not easy to choose the number of units in a hidden layer or the number of hidden layers in a neural network. For many applications, one hidden layer is enough. As a general rule, the number of units in that hidden layer is between the number of inputs and the number of outputs.\n",
        " The best way to decide on the number of units and hidden layers is to try various parameters. Train several neural networks with different numbers of hidden layers and neurons, and monitor the performance of them. You will have to experiment using a series of different architectures. \n",
        "\n",
        "\n",
        "\n"
      ]
    },
    {
      "metadata": {
        "colab_type": "text",
        "id": "gn2GSV4ioyO2"
      },
      "cell_type": "markdown",
      "source": [
        "\n",
        "\n",
        "---\n",
        "\n"
      ]
    },
    {
      "metadata": {
        "colab_type": "code",
        "id": "XYC6DykEox2w",
        "colab": {}
      },
      "cell_type": "code",
      "source": [
        ""
      ],
      "execution_count": 0,
      "outputs": []
    },
    {
      "metadata": {
        "colab_type": "text",
        "id": "GsCJ01StlgCx"
      },
      "cell_type": "markdown",
      "source": [
        "This tutorial is substantially based on this document:\n",
        "https://www.tensorflow.org/tutorials/keras/basic_text_classification\n",
        "\n",
        "To read more about Sequential APIs you can go to: https://keras.io/getting-started/sequential-model-guide/\n",
        "\n",
        "The one-hot word vector layer is taken from:\n",
        "https://fdalvi.github.io/blog/2018-04-07-keras-sequential-onehot/\n"
      ]
    },
    {
      "metadata": {
        "colab_type": "code",
        "id": "7dyZCc2Mw0dV",
        "colab": {}
      },
      "cell_type": "code",
      "source": [
        ""
      ],
      "execution_count": 0,
      "outputs": []
    },
    {
      "metadata": {
        "id": "ghp1dPfo4bl9",
        "colab_type": "text"
      },
      "cell_type": "markdown",
      "source": [
        "**Part B section 4**"
      ]
    },
    {
      "metadata": {
        "id": "YzwPM8zB4kf6",
        "colab_type": "code",
        "colab": {
          "base_uri": "https://localhost:8080/",
          "height": 1946
        },
        "outputId": "a0fee462-ca9b-42e9-bd99-126dd530e5f7"
      },
      "cell_type": "code",
      "source": [
        "\n",
        "from keras.layers import Dropout\n",
        "from keras.layers import Conv1D, MaxPooling2D,SpatialDropout1D\n",
        "\n",
        "VOCAB_SIZE= 10000\n",
        "MAX_SEQUENCE_LENGTH = 256\n",
        "\n",
        "# put the code here---start\n",
        "EMBEDDING_SIZE = 64\n",
        "model4 = Sequential()\n",
        "model4.add(Embedding(input_dim=VOCAB_SIZE,output_dim=EMBEDDING_SIZE,input_length=MAX_SEQUENCE_LENGTH))\n",
        "model4.add(GlobalAveragePooling1DMasked())\n",
        "model4.add(Dense(16, activation = 'relu')) \n",
        "model4.add(Dropout(0.2))\n",
        "model4.add(Dense(16, activation = 'relu'))  \n",
        "model4.add(Dropout(0.2))\n",
        "model4.add(Dense(1, activation='sigmoid', dtype=np.float32))\n",
        "\n",
        "print(model4.summary())\n",
        "\n",
        "# put the code here---end\n",
        "\n",
        "model4.compile(optimizer='adam',\n",
        "              loss='binary_crossentropy',\n",
        "              metrics=['accuracy'])\n",
        "\n",
        "X_val = np.array(X_train_enc[:10000])\n",
        "partial_X_train = np.array(X_train_enc[10000:])\n",
        "\n",
        "history4 = model4.fit(partial_X_train,\n",
        "                    partial_y_train,\n",
        "                    epochs=40,\n",
        "                    batch_size=512,\n",
        "                    validation_data=(X_val, y_val),\n",
        "                    verbose=1)\n",
        "\n",
        "results = model2.evaluate(X_test_enc, y_test)\n",
        "print(results)"
      ],
      "execution_count": 63,
      "outputs": [
        {
          "output_type": "stream",
          "text": [
            "_________________________________________________________________\n",
            "Layer (type)                 Output Shape              Param #   \n",
            "=================================================================\n",
            "embedding_31 (Embedding)     (None, 256, 64)           640000    \n",
            "_________________________________________________________________\n",
            "global_average_pooling1d_mas (None, 64)                0         \n",
            "_________________________________________________________________\n",
            "dense_60 (Dense)             (None, 16)                1040      \n",
            "_________________________________________________________________\n",
            "dropout_21 (Dropout)         (None, 16)                0         \n",
            "_________________________________________________________________\n",
            "dense_61 (Dense)             (None, 16)                272       \n",
            "_________________________________________________________________\n",
            "dropout_22 (Dropout)         (None, 16)                0         \n",
            "_________________________________________________________________\n",
            "dense_62 (Dense)             (None, 1)                 17        \n",
            "=================================================================\n",
            "Total params: 641,329\n",
            "Trainable params: 641,329\n",
            "Non-trainable params: 0\n",
            "_________________________________________________________________\n",
            "None\n",
            "Train on 15000 samples, validate on 10000 samples\n",
            "Epoch 1/40\n",
            "15000/15000 [==============================] - 2s 143us/step - loss: 0.6921 - acc: 0.5330 - val_loss: 0.6901 - val_acc: 0.7029\n",
            "Epoch 2/40\n",
            "15000/15000 [==============================] - 0s 26us/step - loss: 0.6836 - acc: 0.6689 - val_loss: 0.6706 - val_acc: 0.6979\n",
            "Epoch 3/40\n",
            "15000/15000 [==============================] - 0s 26us/step - loss: 0.6420 - acc: 0.7362 - val_loss: 0.6020 - val_acc: 0.7975\n",
            "Epoch 4/40\n",
            "15000/15000 [==============================] - 0s 25us/step - loss: 0.5471 - acc: 0.8025 - val_loss: 0.4835 - val_acc: 0.8367\n",
            "Epoch 5/40\n",
            "15000/15000 [==============================] - 0s 24us/step - loss: 0.4327 - acc: 0.8456 - val_loss: 0.3840 - val_acc: 0.8617\n",
            "Epoch 6/40\n",
            "15000/15000 [==============================] - 0s 25us/step - loss: 0.3483 - acc: 0.8731 - val_loss: 0.3325 - val_acc: 0.8730\n",
            "Epoch 7/40\n",
            "15000/15000 [==============================] - 0s 24us/step - loss: 0.2897 - acc: 0.8991 - val_loss: 0.3067 - val_acc: 0.8778\n",
            "Epoch 8/40\n",
            "15000/15000 [==============================] - 0s 24us/step - loss: 0.2523 - acc: 0.9122 - val_loss: 0.2952 - val_acc: 0.8813\n",
            "Epoch 9/40\n",
            "15000/15000 [==============================] - 0s 25us/step - loss: 0.2188 - acc: 0.9268 - val_loss: 0.2887 - val_acc: 0.8844\n",
            "Epoch 10/40\n",
            "15000/15000 [==============================] - 0s 24us/step - loss: 0.1948 - acc: 0.9363 - val_loss: 0.2942 - val_acc: 0.8822\n",
            "Epoch 11/40\n",
            "15000/15000 [==============================] - 0s 24us/step - loss: 0.1719 - acc: 0.9455 - val_loss: 0.2934 - val_acc: 0.8838\n",
            "Epoch 12/40\n",
            "15000/15000 [==============================] - 0s 25us/step - loss: 0.1515 - acc: 0.9547 - val_loss: 0.3008 - val_acc: 0.8850\n",
            "Epoch 13/40\n",
            "15000/15000 [==============================] - 0s 24us/step - loss: 0.1368 - acc: 0.9608 - val_loss: 0.3109 - val_acc: 0.8831\n",
            "Epoch 14/40\n",
            "15000/15000 [==============================] - 0s 24us/step - loss: 0.1217 - acc: 0.9665 - val_loss: 0.3303 - val_acc: 0.8813\n",
            "Epoch 15/40\n",
            "15000/15000 [==============================] - 0s 25us/step - loss: 0.1149 - acc: 0.9691 - val_loss: 0.3279 - val_acc: 0.8810\n",
            "Epoch 16/40\n",
            "15000/15000 [==============================] - 0s 24us/step - loss: 0.1001 - acc: 0.9749 - val_loss: 0.3379 - val_acc: 0.8793\n",
            "Epoch 17/40\n",
            "15000/15000 [==============================] - 0s 24us/step - loss: 0.0865 - acc: 0.9796 - val_loss: 0.3547 - val_acc: 0.8801\n",
            "Epoch 18/40\n",
            "15000/15000 [==============================] - 0s 25us/step - loss: 0.0795 - acc: 0.9823 - val_loss: 0.3674 - val_acc: 0.8783\n",
            "Epoch 19/40\n",
            "15000/15000 [==============================] - 0s 24us/step - loss: 0.0712 - acc: 0.9849 - val_loss: 0.3836 - val_acc: 0.8764\n",
            "Epoch 20/40\n",
            "15000/15000 [==============================] - 0s 25us/step - loss: 0.0658 - acc: 0.9872 - val_loss: 0.3958 - val_acc: 0.8764\n",
            "Epoch 21/40\n",
            "15000/15000 [==============================] - 0s 24us/step - loss: 0.0596 - acc: 0.9891 - val_loss: 0.4173 - val_acc: 0.8749\n",
            "Epoch 22/40\n",
            "15000/15000 [==============================] - 0s 25us/step - loss: 0.0544 - acc: 0.9900 - val_loss: 0.4265 - val_acc: 0.8751\n",
            "Epoch 23/40\n",
            "15000/15000 [==============================] - 0s 25us/step - loss: 0.0503 - acc: 0.9911 - val_loss: 0.4353 - val_acc: 0.8738\n",
            "Epoch 24/40\n",
            "15000/15000 [==============================] - 0s 24us/step - loss: 0.0472 - acc: 0.9920 - val_loss: 0.4544 - val_acc: 0.8736\n",
            "Epoch 25/40\n",
            "15000/15000 [==============================] - 0s 24us/step - loss: 0.0436 - acc: 0.9933 - val_loss: 0.4745 - val_acc: 0.8728\n",
            "Epoch 26/40\n",
            "15000/15000 [==============================] - 0s 25us/step - loss: 0.0417 - acc: 0.9936 - val_loss: 0.4848 - val_acc: 0.8737\n",
            "Epoch 27/40\n",
            "15000/15000 [==============================] - 0s 24us/step - loss: 0.0376 - acc: 0.9949 - val_loss: 0.5042 - val_acc: 0.8725\n",
            "Epoch 28/40\n",
            "15000/15000 [==============================] - 0s 24us/step - loss: 0.0366 - acc: 0.9951 - val_loss: 0.5031 - val_acc: 0.8724\n",
            "Epoch 29/40\n",
            "15000/15000 [==============================] - 0s 25us/step - loss: 0.0350 - acc: 0.9950 - val_loss: 0.5221 - val_acc: 0.8715\n",
            "Epoch 30/40\n",
            "15000/15000 [==============================] - 0s 24us/step - loss: 0.0335 - acc: 0.9953 - val_loss: 0.5470 - val_acc: 0.8712\n",
            "Epoch 31/40\n",
            "15000/15000 [==============================] - 0s 24us/step - loss: 0.0313 - acc: 0.9958 - val_loss: 0.5389 - val_acc: 0.8705\n",
            "Epoch 32/40\n",
            "15000/15000 [==============================] - 0s 25us/step - loss: 0.0296 - acc: 0.9953 - val_loss: 0.5696 - val_acc: 0.8701\n",
            "Epoch 33/40\n",
            "15000/15000 [==============================] - 0s 24us/step - loss: 0.0283 - acc: 0.9959 - val_loss: 0.5982 - val_acc: 0.8683\n",
            "Epoch 34/40\n",
            "15000/15000 [==============================] - 0s 23us/step - loss: 0.0250 - acc: 0.9965 - val_loss: 0.5840 - val_acc: 0.8689\n",
            "Epoch 35/40\n",
            "15000/15000 [==============================] - 0s 25us/step - loss: 0.0249 - acc: 0.9963 - val_loss: 0.5961 - val_acc: 0.8670\n",
            "Epoch 36/40\n",
            "15000/15000 [==============================] - 0s 23us/step - loss: 0.0224 - acc: 0.9970 - val_loss: 0.6182 - val_acc: 0.8684\n",
            "Epoch 37/40\n",
            "15000/15000 [==============================] - 0s 23us/step - loss: 0.0201 - acc: 0.9974 - val_loss: 0.6469 - val_acc: 0.8641\n",
            "Epoch 38/40\n",
            "15000/15000 [==============================] - 0s 25us/step - loss: 0.0189 - acc: 0.9975 - val_loss: 0.6498 - val_acc: 0.8660\n",
            "Epoch 39/40\n",
            "15000/15000 [==============================] - 0s 24us/step - loss: 0.0161 - acc: 0.9979 - val_loss: 0.6650 - val_acc: 0.8655\n",
            "Epoch 40/40\n",
            "15000/15000 [==============================] - 0s 24us/step - loss: 0.0153 - acc: 0.9981 - val_loss: 0.6699 - val_acc: 0.8666\n",
            "25000/25000 [==============================] - 1s 58us/step\n",
            "[0.3534535896873474, 0.86916]\n"
          ],
          "name": "stdout"
        }
      ]
    },
    {
      "metadata": {
        "id": "9mePQGzG45MD",
        "colab_type": "text"
      },
      "cell_type": "markdown",
      "source": [
        "Plot the Training and validation graph"
      ]
    },
    {
      "metadata": {
        "id": "XKwtsSvL4_0l",
        "colab_type": "code",
        "colab": {
          "base_uri": "https://localhost:8080/",
          "height": 376
        },
        "outputId": "a40f3e84-b2d5-4216-ef6a-d10bc4e34e0d"
      },
      "cell_type": "code",
      "source": [
        "import matplotlib.pyplot as plt\n",
        "\n",
        "history_dict = history4.history\n",
        "\n",
        "acc = history_dict['acc']\n",
        "val_acc = history_dict['val_acc']\n",
        "loss = history_dict['loss']\n",
        "val_loss = history_dict['val_loss']\n",
        "\n",
        "epochs = range(1, len(acc) + 1)\n",
        "\n",
        "plt.plot(epochs, acc, 'bo', label='Training acc')\n",
        "plt.plot(epochs, val_acc, 'b', label='Validation acc')\n",
        "plt.title('Training and validation accuracy')\n",
        "plt.xlabel('Epochs')\n",
        "plt.ylabel('Accuracy')\n",
        "plt.legend()\n",
        "\n",
        "plt.show()"
      ],
      "execution_count": 44,
      "outputs": [
        {
          "output_type": "display_data",
          "data": {
            "image/png": "[encoded data removed]",
            "text/plain": [
              "<Figure size 576x396 with 1 Axes>"
            ]
          },
          "metadata": {
            "tags": []
          }
        }
      ]
    },
    {
      "metadata": {
        "id": "nE_Mdznn5VM2",
        "colab_type": "code",
        "colab": {
          "base_uri": "https://localhost:8080/",
          "height": 403
        },
        "outputId": "f78ab970-85a8-453d-f4e7-4feb4c5b5ad4"
      },
      "cell_type": "code",
      "source": [
        "model4.summary()"
      ],
      "execution_count": 64,
      "outputs": [
        {
          "output_type": "stream",
          "text": [
            "_________________________________________________________________\n",
            "Layer (type)                 Output Shape              Param #   \n",
            "=================================================================\n",
            "embedding_31 (Embedding)     (None, 256, 64)           640000    \n",
            "_________________________________________________________________\n",
            "global_average_pooling1d_mas (None, 64)                0         \n",
            "_________________________________________________________________\n",
            "dense_60 (Dense)             (None, 16)                1040      \n",
            "_________________________________________________________________\n",
            "dropout_21 (Dropout)         (None, 16)                0         \n",
            "_________________________________________________________________\n",
            "dense_61 (Dense)             (None, 16)                272       \n",
            "_________________________________________________________________\n",
            "dropout_22 (Dropout)         (None, 16)                0         \n",
            "_________________________________________________________________\n",
            "dense_62 (Dense)             (None, 1)                 17        \n",
            "=================================================================\n",
            "Total params: 641,329\n",
            "Trainable params: 641,329\n",
            "Non-trainable params: 0\n",
            "_________________________________________________________________\n"
          ],
          "name": "stdout"
        }
      ]
    },
    {
      "metadata": {
        "id": "3-ALpc55EwmQ",
        "colab_type": "code",
        "colab": {}
      },
      "cell_type": "code",
      "source": [
        ""
      ],
      "execution_count": 0,
      "outputs": []
    }
  ]
}