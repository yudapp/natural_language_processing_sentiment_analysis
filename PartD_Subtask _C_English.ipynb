{
 "cells": [
  {
   "cell_type": "markdown",
   "metadata": {},
   "source": [
    "# Part D: A Real Sentiment Analysis Task: "
   ]
  },
  {
   "cell_type": "markdown",
   "metadata": {},
   "source": [
    "## Build and Evaluate a Basic Classifier for Subtask C in English"
   ]
  },
  {
   "cell_type": "markdown",
   "metadata": {},
   "source": [
    "### 1. Process the Data"
   ]
  },
  {
   "cell_type": "markdown",
   "metadata": {},
   "source": [
    "We provide the path to the folder containing the text files. We read each text file in the folder. We append the tweets one by one in the \"raw_data\" file."
   ]
  },
  {
   "cell_type": "code",
   "execution_count": 1,
   "metadata": {},
   "outputs": [
    {
     "name": "stderr",
     "output_type": "stream",
     "text": [
      "[nltk_data] Downloading package wordnet to\n",
      "[nltk_data]     C:\\Users\\Yudhi\\AppData\\Roaming\\nltk_data...\n",
      "[nltk_data]   Package wordnet is already up-to-date!\n"
     ]
    }
   ],
   "source": [
    "import glob \n",
    "from os.path import isfile\n",
    "import string\n",
    "import nltk\n",
    "nltk.download('wordnet')\n",
    "from nltk.corpus import stopwords\n",
    "from nltk.probability import FreqDist\n",
    "from nltk.stem import WordNetLemmatizer\n",
    "import numpy as np"
   ]
  },
  {
   "cell_type": "code",
   "execution_count": 2,
   "metadata": {},
   "outputs": [],
   "source": [
    "#simple file reader without exception handling\n",
    "def readFile(path):\n",
    "    files=filter(isfile,glob.glob('%s/*'%path))\n",
    "    raw_data =[]\n",
    "    for name in files:\n",
    "        with open(name, 'r', encoding='utf-8') as f:\n",
    "            for line in f:\n",
    "                record = line.strip().split() \n",
    "                raw_data.append(record)\n",
    "    \n",
    "    return raw_data # return the preprocessed data"
   ]
  },
  {
   "cell_type": "code",
   "execution_count": 3,
   "metadata": {},
   "outputs": [],
   "source": [
    "#Read the test and train files from disk and preprocessed them\n",
    "path = r'S:\\IT\\Queen Mary\\NLP\\Assignment 1\\EnglishCTrain'\n",
    "raw_train = readFile(path)\n",
    "\n",
    "#for the test set\n",
    "path = r'S:\\IT\\Queen Mary\\NLP\\Assignment 1\\EnglishCTest'\n",
    "raw_test = readFile(path)"
   ]
  },
  {
   "cell_type": "code",
   "execution_count": 4,
   "metadata": {},
   "outputs": [
    {
     "name": "stdout",
     "output_type": "stream",
     "text": [
      "raw data:  ['628976607420645377', '@microsoft', '-2', '@Microsoft', 'how', 'about', 'you', 'make', 'a', 'system', 'that', \"doesn't\", 'eat', 'my', 'friggin', 'discs.', 'This', 'is', 'the', '2nd', 'time', 'this', 'has', 'happened', 'and', 'I', 'am', 'so', 'sick', 'of', 'it!']\n"
     ]
    }
   ],
   "source": [
    "print(\"raw data: \", raw_train[1])"
   ]
  },
  {
   "cell_type": "markdown",
   "metadata": {},
   "source": [
    "The data is processed below. For the labels, I have created a dictionary to map each rating to a new number integer 1 to 5"
   ]
  },
  {
   "cell_type": "code",
   "execution_count": 5,
   "metadata": {},
   "outputs": [],
   "source": [
    "#function to process the file\n",
    "def processData(raw_in):\n",
    "    wordnet_lemma = WordNetLemmatizer()\n",
    "    stop_list = stopwords.words('english') + list(string.punctuation)\n",
    "    normalized_data = []\n",
    "    labels = []\n",
    "    special = \"\\\\u\" # unicode we want to eliminate but keep the word associated with it\n",
    "    for i in range(len(raw_in)):\n",
    "        result = [] # clears result after each sentence\n",
    "        for w in raw_in[i]:\n",
    "            if special in w:\n",
    "                idx = w.index(special)\n",
    "                word = w[:idx] #take only the first part of the word and ignore 'special'\n",
    "            else:\n",
    "                word = w # otherwise word stays the same\n",
    "\n",
    "            word = word.lower() #change word to lower case\n",
    "\n",
    "            if word not in stop_list and word.isalpha() and len(word) > 2: #filter out punctuations,stop words and digits\n",
    "                word = wordnet_lemma.lemmatize(word, pos=\"v\") #apply lemmatizer and skip label(positive, etc..)\n",
    "                result.append(word) #append each word to a phrase\n",
    "        if len(result) > 3:\n",
    "            #normalized_data.append(result) #append each phrase to the file\n",
    "            \n",
    "            #for the labels: first single size character in the sentence will be the label\n",
    "            #we create a dictionary and change the string to a rating of (int) 1 to 5\n",
    "            ratings = {\"-2\":1,\"-1\":2,\"0\":3,\"1\":4,\"2\":5}\n",
    "            for w2 in raw_in[i]:\n",
    "                if len(w2) <3:\n",
    "                    if w2 in ratings.keys():\n",
    "                        #print(ratings[w2])\n",
    "                        labels.append(ratings[w2])\n",
    "                        normalized_data.append(result) #append each phrase to the file\n",
    "                        break\n",
    "    return normalized_data,labels"
   ]
  },
  {
   "cell_type": "code",
   "execution_count": 6,
   "metadata": {},
   "outputs": [],
   "source": [
    "#for the training/validation set\n",
    "train_processed,train_labels = processData(raw_train)\n",
    "test_processed,test_labels = processData(raw_test)"
   ]
  },
  {
   "cell_type": "markdown",
   "metadata": {},
   "source": [
    "Sanity check:"
   ]
  },
  {
   "cell_type": "code",
   "execution_count": 7,
   "metadata": {},
   "outputs": [
    {
     "name": "stdout",
     "output_type": "stream",
     "text": [
      "Example train data:  ['order', 'ever', 'surface', 'pro', 'hopefully', 'work', 'dev', 'replace', 'laptop'] 4\n",
      "Example test data:  ['amy', 'schumer', 'like', 'like', 'ralphie', 'may'] 2\n"
     ]
    }
   ],
   "source": [
    "print(\"Example train data: \", train_processed[6], train_labels[6])\n",
    "print(\"Example test data: \", test_processed[6], test_labels[6])"
   ]
  },
  {
   "cell_type": "markdown",
   "metadata": {},
   "source": [
    "### 2. Find the top words"
   ]
  },
  {
   "cell_type": "code",
   "execution_count": 8,
   "metadata": {},
   "outputs": [
    {
     "name": "stdout",
     "output_type": "stream",
     "text": [
      "Number of unique words found:  16877\n",
      "Maximum length of phrase found:  21\n"
     ]
    }
   ],
   "source": [
    "#Calculate number of unique words and maximum length of phrases\n",
    "my_list = []\n",
    "mxlen = 0\n",
    "all_data = train_processed+test_processed\n",
    "for i in range(len(all_data)):\n",
    "    for s in all_data[i]:\n",
    "        if len(all_data[i]) > mxlen:\n",
    "            mxlen = len(all_data[i])\n",
    "        if s not in my_list:\n",
    "            my_list.append(s)\n",
    "\n",
    "print(\"Number of unique words found: \", len(my_list))\n",
    "print(\"Maximum length of phrase found: \", mxlen)"
   ]
  },
  {
   "cell_type": "code",
   "execution_count": 9,
   "metadata": {},
   "outputs": [],
   "source": [
    "#function to put all the words together\n",
    "VOCAB_SIZE = 8000 # This can be changed according to the total number of unique words found.\n",
    "INDEX_FROM = 2\n",
    "#put all the words together\n",
    "def wordsList(normalized_data):\n",
    "    longsen = []\n",
    "    for i in range(len(normalized_data)):\n",
    "        sen = normalized_data[i]\n",
    "        for w in sen:\n",
    "            longsen.append(w) #longsen cotains all the words in a list\n",
    "    return topWordsList(longsen)\n"
   ]
  },
  {
   "cell_type": "code",
   "execution_count": 10,
   "metadata": {},
   "outputs": [],
   "source": [
    "#function to find the top occuring words\n",
    "def topWordsList(longsen):\n",
    "    top_words = []\n",
    "    INDEX_FROM = 2\n",
    "    count = 0\n",
    "    fdist = nltk.FreqDist(longsen)\n",
    "    for word, frequency in fdist.most_common():\n",
    "        #print(u'{};{}'.format(word, frequency))\n",
    "        if count < (VOCAB_SIZE - INDEX_FROM):\n",
    "            count += 1\n",
    "            top_words.append(word)\n",
    "    return top_words"
   ]
  },
  {
   "cell_type": "code",
   "execution_count": 11,
   "metadata": {},
   "outputs": [],
   "source": [
    "vocab_words = wordsList(train_processed+test_processed) # get a list of our vocabulary"
   ]
  },
  {
   "cell_type": "markdown",
   "metadata": {},
   "source": [
    "Fill UNK and START tags in all data"
   ]
  },
  {
   "cell_type": "code",
   "execution_count": 12,
   "metadata": {},
   "outputs": [],
   "source": [
    "#Starting with training data\n",
    "def tagList(my_data,topwords):\n",
    "    tagged_data = []\n",
    "    for i in range(len(my_data)):\n",
    "        out = []\n",
    "        out.append(\"<START>\")\n",
    "        for w in my_data[i]:\n",
    "            if w not in topwords:\n",
    "                w = \"<UNK>\"\n",
    "            else:\n",
    "                w = w\n",
    "            out.append(w) # one sentence\n",
    "        tagged_data.append(out) # the whole file\n",
    "    return tagged_data"
   ]
  },
  {
   "cell_type": "code",
   "execution_count": 13,
   "metadata": {},
   "outputs": [],
   "source": [
    "tagged_train = tagList(train_processed,vocab_words)\n",
    "tagged_test = tagList(test_processed,vocab_words)"
   ]
  },
  {
   "cell_type": "markdown",
   "metadata": {},
   "source": [
    "Sample of tagged data:"
   ]
  },
  {
   "cell_type": "code",
   "execution_count": 14,
   "metadata": {},
   "outputs": [
    {
     "name": "stdout",
     "output_type": "stream",
     "text": [
      "Tagged train data: ['<START>', 'order', 'ever', 'surface', 'pro', 'hopefully', 'work', 'dev', 'replace', 'laptop'] , label:  4\n",
      "Tagged test data: ['<START>', 'amy', 'schumer', 'like', 'like', 'ralphie', 'may'] , label:  2\n"
     ]
    }
   ],
   "source": [
    "print(\"Tagged train data:\",tagged_train[6],\", label: \",train_labels[6])\n",
    "print(\"Tagged test data:\",tagged_test[6], \", label: \", test_labels[6])"
   ]
  },
  {
   "cell_type": "code",
   "execution_count": 15,
   "metadata": {},
   "outputs": [],
   "source": [
    "def wordToIndex(data):\n",
    "    w2idx = {} # empty dictionary\n",
    "    w2idx [\"<PAD>\"] = 0\n",
    "    w2idx [\"<START>\"] = 1\n",
    "    w2idx [\"<UNK>\"] = 2  \n",
    "    counter = 3\n",
    "    for i in range(len(data)):\n",
    "        for w in data[i]:\n",
    "            if w not in w2idx.keys():\n",
    "                w2idx[w] = counter\n",
    "                counter = counter + 1\n",
    "    return w2idx\n"
   ]
  },
  {
   "cell_type": "code",
   "execution_count": 16,
   "metadata": {},
   "outputs": [],
   "source": [
    "word2idx = wordToIndex(tagged_train+tagged_test)"
   ]
  },
  {
   "cell_type": "code",
   "execution_count": 17,
   "metadata": {},
   "outputs": [],
   "source": [
    "#reverse the dictionary for index to word\n",
    "idx2word = dict([[v,k] for k,v in word2idx.items()])"
   ]
  },
  {
   "cell_type": "markdown",
   "metadata": {},
   "source": [
    "Convert sentences as ids"
   ]
  },
  {
   "cell_type": "code",
   "execution_count": 18,
   "metadata": {},
   "outputs": [],
   "source": [
    "#sents as ids\n",
    "def sentID(datFile):\n",
    "    sents_as_ids = []\n",
    "    for i in range(len(datFile)):\n",
    "        converted = [] # empty list for every new line in corpus\n",
    "        for word in datFile[i]:\n",
    "            converted.append(word2idx[word]) #create sentence as a list of ids\n",
    "        sents_as_ids.append(converted)\n",
    "    return sents_as_ids"
   ]
  },
  {
   "cell_type": "markdown",
   "metadata": {},
   "source": [
    "Sanity check:"
   ]
  },
  {
   "cell_type": "code",
   "execution_count": 19,
   "metadata": {},
   "outputs": [
    {
     "name": "stdout",
     "output_type": "stream",
     "text": [
      "Number of unique words:  8001\n",
      "\n",
      "Sample word2idx:  [('<PAD>', 0), ('<START>', 1), ('<UNK>', 2), ('dear', 3), ('mac', 4), ('great', 5), ('make', 6), ('system', 7), ('eat', 8), ('time', 9), ('happen', 10), ('sick', 11), ('may', 12), ('ignorant', 13), ('issue', 14), ('celebrate', 15), ('leave', 16), ('gender', 17), ('divide', 18), ('game', 19)]\n"
     ]
    }
   ],
   "source": [
    "print('Number of unique words: ', len(word2idx))\n",
    "print('\\nSample word2idx: ', list(word2idx.items())[:20])"
   ]
  },
  {
   "cell_type": "code",
   "execution_count": 20,
   "metadata": {},
   "outputs": [],
   "source": [
    "#convert sentences to ids\n",
    "train_data = sentID(tagged_train)\n",
    "test_data = sentID(tagged_test)"
   ]
  },
  {
   "cell_type": "code",
   "execution_count": 21,
   "metadata": {},
   "outputs": [
    {
     "name": "stdout",
     "output_type": "stream",
     "text": [
      "Train data: ['<START>', 'order', 'ever', 'surface', 'pro', 'hopefully', 'work', 'dev', 'replace', 'laptop']\n",
      "Training data sentences as ids:  [1, 34, 35, 36, 37, 38, 39, 40, 41, 42]\n"
     ]
    }
   ],
   "source": [
    "print(\"Train data:\",tagged_train[6])\n",
    "print(\"Training data sentences as ids: \",train_data[6])"
   ]
  },
  {
   "cell_type": "markdown",
   "metadata": {},
   "source": [
    "### 2. Prepare the Input"
   ]
  },
  {
   "cell_type": "code",
   "execution_count": 22,
   "metadata": {},
   "outputs": [
    {
     "name": "stderr",
     "output_type": "stream",
     "text": [
      "Using TensorFlow backend.\n"
     ]
    }
   ],
   "source": [
    "from keras.preprocessing.sequence import pad_sequences\n",
    "\n",
    "MAX_LEN = mxlen + 10\n",
    "X_train_enc = pad_sequences(train_data, padding ='pre',maxlen = MAX_LEN,value =0)\n",
    "X_test_enc = pad_sequences(test_data, padding ='pre',maxlen = MAX_LEN,value =0)"
   ]
  },
  {
   "cell_type": "markdown",
   "metadata": {},
   "source": [
    "View a padded review:"
   ]
  },
  {
   "cell_type": "code",
   "execution_count": 23,
   "metadata": {},
   "outputs": [
    {
     "name": "stdout",
     "output_type": "stream",
     "text": [
      "[ 0  0  0  0  0  0  0  0  0  0  0  0  0  0  0  0  0  0  0  0  0  1 34 35\n",
      " 36 37 38 39 40 41 42]\n"
     ]
    }
   ],
   "source": [
    "print(X_train_enc[6])"
   ]
  },
  {
   "cell_type": "code",
   "execution_count": 24,
   "metadata": {},
   "outputs": [
    {
     "name": "stdout",
     "output_type": "stream",
     "text": [
      "Sample size:  5916\n"
     ]
    }
   ],
   "source": [
    "print(\"Sample size: \",len(X_train_enc))"
   ]
  },
  {
   "cell_type": "markdown",
   "metadata": {},
   "source": [
    "We have about 5900 samples, we will split the data as follows: 1200 for validation and the rest for training 20/80 %"
   ]
  },
  {
   "cell_type": "code",
   "execution_count": 25,
   "metadata": {},
   "outputs": [],
   "source": [
    "X_val = np.array(X_train_enc[:1200])\n",
    "partial_X_train = np.array(X_train_enc[1200:])\n",
    "\n",
    "y_val = np.array(train_labels[:1200])\n",
    "partial_y_train = np.array(train_labels[1200:])"
   ]
  },
  {
   "cell_type": "markdown",
   "metadata": {},
   "source": [
    "Decode a tweet (index 6 we have been using so far)"
   ]
  },
  {
   "cell_type": "code",
   "execution_count": 26,
   "metadata": {},
   "outputs": [
    {
     "data": {
      "text/plain": [
       "'<PAD> <PAD> <PAD> <PAD> <PAD> <PAD> <PAD> <PAD> <PAD> <PAD> <PAD> <PAD> <PAD> <PAD> <PAD> <PAD> <PAD> <PAD> <PAD> <PAD> <PAD> <START> order ever surface pro hopefully work dev replace laptop'"
      ]
     },
     "execution_count": 26,
     "metadata": {},
     "output_type": "execute_result"
    }
   ],
   "source": [
    "text = X_val[6]\n",
    "' '.join([idx2word.get(i, '?') for i in text])"
   ]
  },
  {
   "cell_type": "markdown",
   "metadata": {},
   "source": [
    "### 3. Build the model"
   ]
  },
  {
   "cell_type": "code",
   "execution_count": 27,
   "metadata": {},
   "outputs": [
    {
     "name": "stdout",
     "output_type": "stream",
     "text": [
      "_________________________________________________________________\n",
      "Layer (type)                 Output Shape              Param #   \n",
      "=================================================================\n",
      "input_1 (InputLayer)         (None, 31)                0         \n",
      "_________________________________________________________________\n",
      "Embedding_Layer (Embedding)  (None, 31, 32)            256032    \n",
      "_________________________________________________________________\n",
      "LSTM_Layer (LSTM)            (None, 31)                7936      \n",
      "_________________________________________________________________\n",
      "Output_Layer (Dense)         (None, 6)                 192       \n",
      "=================================================================\n",
      "Total params: 264,160\n",
      "Trainable params: 264,160\n",
      "Non-trainable params: 0\n",
      "_________________________________________________________________\n",
      "None\n"
     ]
    }
   ],
   "source": [
    "# first layer =  embedding layer\n",
    "#second layer LSTM with max_len units \n",
    "#last layer = output layer.choose softmax classification for multiple classes\n",
    "# Compile model: sparse_categorical_crossentropy, adam optimizer, metrics as accuracy\n",
    "\n",
    "from keras.models import Model\n",
    "from keras.layers import Embedding, LSTM, Dense, Input\n",
    "\n",
    "EMBED_SIZE = 32\n",
    "\n",
    "\n",
    "main_input = Input(shape=(MAX_LEN,), name='input_1')\n",
    "layer1= Embedding(VOCAB_SIZE+1,output_dim=EMBED_SIZE, name='Embedding_Layer')(main_input)\n",
    "layer2 = LSTM(MAX_LEN, name='LSTM_Layer')(layer1)\n",
    "output = Dense(6, activation = \"softmax\", name='Output_Layer')(layer2) \n",
    "model = Model(inputs=main_input, outputs=output)\n",
    "\n",
    "model.compile(optimizer = \"adam\",loss = \"sparse_categorical_crossentropy\",metrics = [\"accuracy\"])\n",
    "\n",
    "print(model.summary())"
   ]
  },
  {
   "cell_type": "markdown",
   "metadata": {},
   "source": [
    "Visualize the model structure"
   ]
  },
  {
   "cell_type": "code",
   "execution_count": 28,
   "metadata": {},
   "outputs": [
    {
     "data": {
      "image/svg+xml": [
       "<svg height=\"304pt\" viewBox=\"0.00 0.00 352.00 304.00\" width=\"352pt\" xmlns=\"http://www.w3.org/2000/svg\" xmlns:xlink=\"http://www.w3.org/1999/xlink\">\n",
       "<g class=\"graph\" id=\"graph0\" transform=\"scale(1 1) rotate(0) translate(4 300)\">\n",
       "<title>G</title>\n",
       "<polygon fill=\"white\" points=\"-4,4 -4,-300 348,-300 348,4 -4,4\" stroke=\"none\"/>\n",
       "<!-- 1504794404848 -->\n",
       "<g class=\"node\" id=\"node1\"><title>1504794404848</title>\n",
       "<polygon fill=\"none\" points=\"42.5,-249.5 42.5,-295.5 301.5,-295.5 301.5,-249.5 42.5,-249.5\" stroke=\"black\"/>\n",
       "<text font-family=\"Times New Roman,serif\" font-size=\"14.00\" text-anchor=\"middle\" x=\"105.5\" y=\"-268.8\">input_1: InputLayer</text>\n",
       "<polyline fill=\"none\" points=\"168.5,-249.5 168.5,-295.5 \" stroke=\"black\"/>\n",
       "<text font-family=\"Times New Roman,serif\" font-size=\"14.00\" text-anchor=\"middle\" x=\"196.5\" y=\"-280.3\">input:</text>\n",
       "<polyline fill=\"none\" points=\"168.5,-272.5 224.5,-272.5 \" stroke=\"black\"/>\n",
       "<text font-family=\"Times New Roman,serif\" font-size=\"14.00\" text-anchor=\"middle\" x=\"196.5\" y=\"-257.3\">output:</text>\n",
       "<polyline fill=\"none\" points=\"224.5,-249.5 224.5,-295.5 \" stroke=\"black\"/>\n",
       "<text font-family=\"Times New Roman,serif\" font-size=\"14.00\" text-anchor=\"middle\" x=\"263\" y=\"-280.3\">(None, 31)</text>\n",
       "<polyline fill=\"none\" points=\"224.5,-272.5 301.5,-272.5 \" stroke=\"black\"/>\n",
       "<text font-family=\"Times New Roman,serif\" font-size=\"14.00\" text-anchor=\"middle\" x=\"263\" y=\"-257.3\">(None, 31)</text>\n",
       "</g>\n",
       "<!-- 1504794404736 -->\n",
       "<g class=\"node\" id=\"node2\"><title>1504794404736</title>\n",
       "<polygon fill=\"none\" points=\"0,-166.5 0,-212.5 344,-212.5 344,-166.5 0,-166.5\" stroke=\"black\"/>\n",
       "<text font-family=\"Times New Roman,serif\" font-size=\"14.00\" text-anchor=\"middle\" x=\"95\" y=\"-185.8\">Embedding_Layer: Embedding</text>\n",
       "<polyline fill=\"none\" points=\"190,-166.5 190,-212.5 \" stroke=\"black\"/>\n",
       "<text font-family=\"Times New Roman,serif\" font-size=\"14.00\" text-anchor=\"middle\" x=\"218\" y=\"-197.3\">input:</text>\n",
       "<polyline fill=\"none\" points=\"190,-189.5 246,-189.5 \" stroke=\"black\"/>\n",
       "<text font-family=\"Times New Roman,serif\" font-size=\"14.00\" text-anchor=\"middle\" x=\"218\" y=\"-174.3\">output:</text>\n",
       "<polyline fill=\"none\" points=\"246,-166.5 246,-212.5 \" stroke=\"black\"/>\n",
       "<text font-family=\"Times New Roman,serif\" font-size=\"14.00\" text-anchor=\"middle\" x=\"295\" y=\"-197.3\">(None, 31)</text>\n",
       "<polyline fill=\"none\" points=\"246,-189.5 344,-189.5 \" stroke=\"black\"/>\n",
       "<text font-family=\"Times New Roman,serif\" font-size=\"14.00\" text-anchor=\"middle\" x=\"295\" y=\"-174.3\">(None, 31, 32)</text>\n",
       "</g>\n",
       "<!-- 1504794404848&#45;&gt;1504794404736 -->\n",
       "<g class=\"edge\" id=\"edge1\"><title>1504794404848-&gt;1504794404736</title>\n",
       "<path d=\"M172,-249.366C172,-241.152 172,-231.658 172,-222.725\" fill=\"none\" stroke=\"black\"/>\n",
       "<polygon fill=\"black\" points=\"175.5,-222.607 172,-212.607 168.5,-222.607 175.5,-222.607\" stroke=\"black\"/>\n",
       "</g>\n",
       "<!-- 1504794406304 -->\n",
       "<g class=\"node\" id=\"node3\"><title>1504794406304</title>\n",
       "<polygon fill=\"none\" points=\"26.5,-83.5 26.5,-129.5 317.5,-129.5 317.5,-83.5 26.5,-83.5\" stroke=\"black\"/>\n",
       "<text font-family=\"Times New Roman,serif\" font-size=\"14.00\" text-anchor=\"middle\" x=\"95\" y=\"-102.8\">LSTM_Layer: LSTM</text>\n",
       "<polyline fill=\"none\" points=\"163.5,-83.5 163.5,-129.5 \" stroke=\"black\"/>\n",
       "<text font-family=\"Times New Roman,serif\" font-size=\"14.00\" text-anchor=\"middle\" x=\"191.5\" y=\"-114.3\">input:</text>\n",
       "<polyline fill=\"none\" points=\"163.5,-106.5 219.5,-106.5 \" stroke=\"black\"/>\n",
       "<text font-family=\"Times New Roman,serif\" font-size=\"14.00\" text-anchor=\"middle\" x=\"191.5\" y=\"-91.3\">output:</text>\n",
       "<polyline fill=\"none\" points=\"219.5,-83.5 219.5,-129.5 \" stroke=\"black\"/>\n",
       "<text font-family=\"Times New Roman,serif\" font-size=\"14.00\" text-anchor=\"middle\" x=\"268.5\" y=\"-114.3\">(None, 31, 32)</text>\n",
       "<polyline fill=\"none\" points=\"219.5,-106.5 317.5,-106.5 \" stroke=\"black\"/>\n",
       "<text font-family=\"Times New Roman,serif\" font-size=\"14.00\" text-anchor=\"middle\" x=\"268.5\" y=\"-91.3\">(None, 31)</text>\n",
       "</g>\n",
       "<!-- 1504794404736&#45;&gt;1504794406304 -->\n",
       "<g class=\"edge\" id=\"edge2\"><title>1504794404736-&gt;1504794406304</title>\n",
       "<path d=\"M172,-166.366C172,-158.152 172,-148.658 172,-139.725\" fill=\"none\" stroke=\"black\"/>\n",
       "<polygon fill=\"black\" points=\"175.5,-139.607 172,-129.607 168.5,-139.607 175.5,-139.607\" stroke=\"black\"/>\n",
       "</g>\n",
       "<!-- 1504794406360 -->\n",
       "<g class=\"node\" id=\"node4\"><title>1504794406360</title>\n",
       "<polygon fill=\"none\" points=\"37.5,-0.5 37.5,-46.5 306.5,-46.5 306.5,-0.5 37.5,-0.5\" stroke=\"black\"/>\n",
       "<text font-family=\"Times New Roman,serif\" font-size=\"14.00\" text-anchor=\"middle\" x=\"105.5\" y=\"-19.8\">Output_Layer: Dense</text>\n",
       "<polyline fill=\"none\" points=\"173.5,-0.5 173.5,-46.5 \" stroke=\"black\"/>\n",
       "<text font-family=\"Times New Roman,serif\" font-size=\"14.00\" text-anchor=\"middle\" x=\"201.5\" y=\"-31.3\">input:</text>\n",
       "<polyline fill=\"none\" points=\"173.5,-23.5 229.5,-23.5 \" stroke=\"black\"/>\n",
       "<text font-family=\"Times New Roman,serif\" font-size=\"14.00\" text-anchor=\"middle\" x=\"201.5\" y=\"-8.3\">output:</text>\n",
       "<polyline fill=\"none\" points=\"229.5,-0.5 229.5,-46.5 \" stroke=\"black\"/>\n",
       "<text font-family=\"Times New Roman,serif\" font-size=\"14.00\" text-anchor=\"middle\" x=\"268\" y=\"-31.3\">(None, 31)</text>\n",
       "<polyline fill=\"none\" points=\"229.5,-23.5 306.5,-23.5 \" stroke=\"black\"/>\n",
       "<text font-family=\"Times New Roman,serif\" font-size=\"14.00\" text-anchor=\"middle\" x=\"268\" y=\"-8.3\">(None, 6)</text>\n",
       "</g>\n",
       "<!-- 1504794406304&#45;&gt;1504794406360 -->\n",
       "<g class=\"edge\" id=\"edge3\"><title>1504794406304-&gt;1504794406360</title>\n",
       "<path d=\"M172,-83.3664C172,-75.1516 172,-65.6579 172,-56.7252\" fill=\"none\" stroke=\"black\"/>\n",
       "<polygon fill=\"black\" points=\"175.5,-56.6068 172,-46.6068 168.5,-56.6069 175.5,-56.6068\" stroke=\"black\"/>\n",
       "</g>\n",
       "</g>\n",
       "</svg>"
      ],
      "text/plain": [
       "<IPython.core.display.SVG object>"
      ]
     },
     "execution_count": 28,
     "metadata": {},
     "output_type": "execute_result"
    }
   ],
   "source": [
    "from keras.utils import plot_model\n",
    "from IPython.display import SVG\n",
    "from keras.utils import vis_utils\n",
    "\n",
    "SVG(vis_utils.model_to_dot(model,show_shapes=True, show_layer_names=True).create(prog='dot',format='svg'))"
   ]
  },
  {
   "cell_type": "markdown",
   "metadata": {},
   "source": [
    "### 4. Training the model"
   ]
  },
  {
   "cell_type": "markdown",
   "metadata": {},
   "source": [
    "Train the model with different batch sizes and epochs"
   ]
  },
  {
   "cell_type": "code",
   "execution_count": 29,
   "metadata": {},
   "outputs": [
    {
     "name": "stdout",
     "output_type": "stream",
     "text": [
      "Train on 4716 samples, validate on 1200 samples\n",
      "Epoch 1/3\n",
      "4716/4716 [==============================] - 9s 2ms/step - loss: 1.4870 - acc: 0.5282 - val_loss: 1.3327 - val_acc: 0.4458\n",
      "Epoch 2/3\n",
      "4716/4716 [==============================] - 8s 2ms/step - loss: 1.1649 - acc: 0.5466 - val_loss: 1.3068 - val_acc: 0.4458\n",
      "Epoch 3/3\n",
      "4716/4716 [==============================] - 6s 1ms/step - loss: 1.0616 - acc: 0.5723 - val_loss: 1.2663 - val_acc: 0.4517\n"
     ]
    }
   ],
   "source": [
    "history = model.fit(partial_X_train,\n",
    "                    partial_y_train,\n",
    "                    epochs =3,\n",
    "                    batch_size=100,\n",
    "                    validation_data=(X_val, y_val),\n",
    "                    verbose=1)"
   ]
  },
  {
   "cell_type": "markdown",
   "metadata": {},
   "source": [
    "Plotting the accuracy"
   ]
  },
  {
   "cell_type": "code",
   "execution_count": 30,
   "metadata": {},
   "outputs": [
    {
     "data": {
      "text/plain": [
       "<Figure size 640x480 with 1 Axes>"
      ]
     },
     "metadata": {},
     "output_type": "display_data"
    }
   ],
   "source": [
    "import matplotlib.pyplot as plt\n",
    "\n",
    "history_dict = history.history\n",
    "\n",
    "acc = history_dict['acc']\n",
    "val_acc = history_dict['val_acc']\n",
    "loss = history_dict['loss']\n",
    "val_loss = history_dict['val_loss']\n",
    "\n",
    "epochs = range(1, len(acc) + 1)\n",
    "\n",
    "plt.plot(epochs, acc, 'bo', label='Training acc')\n",
    "plt.plot(epochs, val_acc, 'b', label='Validation acc')\n",
    "plt.title('Training and validation accuracy')\n",
    "plt.xlabel('Epochs')\n",
    "plt.ylabel('Accuracy')\n",
    "plt.legend()\n",
    "\n",
    "plt.show()"
   ]
  },
  {
   "cell_type": "markdown",
   "metadata": {},
   "source": [
    "### 5. Evaluating the model on the test data"
   ]
  },
  {
   "cell_type": "code",
   "execution_count": 31,
   "metadata": {},
   "outputs": [
    {
     "name": "stdout",
     "output_type": "stream",
     "text": [
      "20449/20449 [==============================] - 15s 745us/step\n"
     ]
    }
   ],
   "source": [
    "results = model.evaluate(X_test_enc, test_labels)"
   ]
  },
  {
   "cell_type": "markdown",
   "metadata": {},
   "source": [
    "Print results"
   ]
  },
  {
   "cell_type": "code",
   "execution_count": 32,
   "metadata": {},
   "outputs": [
    {
     "name": "stdout",
     "output_type": "stream",
     "text": [
      "test_loss: 1.087535046418842 test_accuracy: 0.4785564086263387\n"
     ]
    }
   ],
   "source": [
    "print('test_loss:', results[0], 'test_accuracy:', results[1])"
   ]
  },
  {
   "cell_type": "markdown",
   "metadata": {},
   "source": [
    "### 6. Extracting the word Embeddings"
   ]
  },
  {
   "cell_type": "code",
   "execution_count": 33,
   "metadata": {},
   "outputs": [],
   "source": [
    "word_embeddings = model.get_layer('Embedding_Layer').get_weights()[0]"
   ]
  },
  {
   "cell_type": "code",
   "execution_count": 34,
   "metadata": {},
   "outputs": [
    {
     "name": "stdout",
     "output_type": "stream",
     "text": [
      "Shape of word_embeddings: (8001, 32)\n"
     ]
    }
   ],
   "source": [
    "print('Shape of word_embeddings:', word_embeddings.shape)"
   ]
  },
  {
   "cell_type": "markdown",
   "metadata": {},
   "source": [
    "### 7. Visualize the Word Embeddings"
   ]
  },
  {
   "cell_type": "markdown",
   "metadata": {},
   "source": [
    "Sanity check:"
   ]
  },
  {
   "cell_type": "code",
   "execution_count": 35,
   "metadata": {},
   "outputs": [
    {
     "name": "stdout",
     "output_type": "stream",
     "text": [
      "                  0         1         2         3         4         5   \\\n",
      "isi         0.049527 -0.046179  0.004015  0.018095  0.014347 -0.041814   \n",
      "constitute  0.004863 -0.007295  0.017951  0.021276  0.014216 -0.013493   \n",
      "nagpur      0.039962 -0.019158 -0.010131  0.014637  0.046435  0.013930   \n",
      "meditation -0.029016 -0.004638  0.029848  0.011062  0.044345  0.041525   \n",
      "hatha       0.014351  0.007291 -0.034884 -0.035322  0.022204 -0.012362   \n",
      "yin         0.035924 -0.042125  0.006956  0.005527 -0.035561  0.045609   \n",
      "pilates    -0.027778 -0.035930 -0.020986  0.034429 -0.019443 -0.024418   \n",
      "vinyasa    -0.014102 -0.031092  0.023805  0.047924 -0.031752  0.016568   \n",
      "ziam       -0.048588  0.040671 -0.031613 -0.016596 -0.039709  0.030094   \n",
      "perrie      0.011547 -0.020888 -0.042064  0.040635 -0.045860 -0.029831   \n",
      "\n",
      "                  6         7         8         9   ...        22        23  \\\n",
      "isi         0.042636  0.012904 -0.020985  0.007562  ... -0.003925  0.002735   \n",
      "constitute  0.049625 -0.040190 -0.038721 -0.046007  ... -0.024596  0.015174   \n",
      "nagpur      0.030321 -0.022578 -0.034426 -0.022773  ...  0.027304  0.012043   \n",
      "meditation  0.034168  0.044997 -0.043522 -0.011280  ...  0.021466  0.035749   \n",
      "hatha      -0.022822 -0.009432  0.013219 -0.009916  ...  0.000545  0.018818   \n",
      "yin        -0.029684 -0.010565  0.022932 -0.022127  ... -0.026941 -0.014597   \n",
      "pilates    -0.031683  0.023406 -0.018535  0.007534  ... -0.028372  0.007244   \n",
      "vinyasa    -0.015923  0.021120 -0.035126 -0.014619  ...  0.021401 -0.040195   \n",
      "ziam       -0.040648  0.042435  0.002459 -0.002230  ... -0.004935 -0.007362   \n",
      "perrie     -0.008010 -0.005401 -0.045011 -0.004502  ... -0.013856  0.049475   \n",
      "\n",
      "                  24        25        26        27        28        29  \\\n",
      "isi        -0.048006 -0.037929 -0.011499  0.007616  0.032728 -0.042400   \n",
      "constitute -0.029946 -0.035712  0.015211 -0.022146  0.049544 -0.026073   \n",
      "nagpur     -0.032354 -0.044954  0.020346  0.005672 -0.020371  0.042699   \n",
      "meditation -0.029848 -0.016192 -0.007919  0.027002  0.049090  0.039140   \n",
      "hatha       0.039522  0.000035 -0.005169  0.010840  0.018199  0.010820   \n",
      "yin        -0.030715  0.017190  0.021866 -0.049175  0.028771 -0.031801   \n",
      "pilates    -0.010213  0.003631  0.011989  0.041509  0.033485 -0.038101   \n",
      "vinyasa     0.002508 -0.031012  0.040668 -0.029991 -0.020571 -0.035143   \n",
      "ziam        0.043307 -0.026388  0.026065 -0.029865 -0.048881 -0.046940   \n",
      "perrie      0.040666 -0.036741  0.005826 -0.043413 -0.047309 -0.045093   \n",
      "\n",
      "                  30        31  \n",
      "isi         0.037655 -0.026440  \n",
      "constitute -0.015467  0.016534  \n",
      "nagpur     -0.020505  0.033323  \n",
      "meditation  0.030207  0.024445  \n",
      "hatha       0.014426  0.040224  \n",
      "yin        -0.025878 -0.001330  \n",
      "pilates    -0.033545 -0.031681  \n",
      "vinyasa    -0.010897  0.041688  \n",
      "ziam       -0.000572  0.011582  \n",
      "perrie      0.033112  0.037784  \n",
      "\n",
      "[10 rows x 32 columns]\n"
     ]
    }
   ],
   "source": [
    "from pandas import DataFrame\n",
    "print(DataFrame(word_embeddings, index=idx2word.values()).tail(10))"
   ]
  },
  {
   "cell_type": "markdown",
   "metadata": {},
   "source": [
    "Plot the word embeddings using TSNE"
   ]
  },
  {
   "cell_type": "code",
   "execution_count": 36,
   "metadata": {},
   "outputs": [
    {
     "data": {
      "image/png": "[encoded data removed]",
      "text/plain": [
       "<Figure size 1008x576 with 1 Axes>"
      ]
     },
     "metadata": {
      "needs_background": "light"
     },
     "output_type": "display_data"
    }
   ],
   "source": [
    "from sklearn.manifold import TSNE\n",
    "import numpy as np\n",
    "\n",
    "tsne = TSNE(perplexity=3, n_components=2, init='pca', n_iter=5000, method='exact')\n",
    "np.set_printoptions(suppress=True)\n",
    "\n",
    "# starting from the first word\n",
    "start = 3\n",
    "plot_only = 54\n",
    "T = tsne.fit_transform(word_embeddings[start:plot_only, :])\n",
    "labels = [idx2word[i] for i in range(start, plot_only)]\n",
    "plt.figure(figsize=(14, 8))\n",
    "plt.scatter(T[:, 0], T[:, 1])\n",
    "for label, x, y in zip(labels, T[:, 0], T[:, 1]):\n",
    "    plt.annotate(label, xy=(x+1, y+1), xytext=(0, 0), textcoords='offset points',ha='right',va='bottom')"
   ]
  },
  {
   "cell_type": "code",
   "execution_count": null,
   "metadata": {},
   "outputs": [],
   "source": []
  },
  {
   "cell_type": "code",
   "execution_count": null,
   "metadata": {},
   "outputs": [],
   "source": []
  }
 ],
 "metadata": {
  "kernelspec": {
   "display_name": "Python 3",
   "language": "python",
   "name": "python3"
  },
  "language_info": {
   "codemirror_mode": {
    "name": "ipython",
    "version": 3
   },
   "file_extension": ".py",
   "mimetype": "text/x-python",
   "name": "python",
   "nbconvert_exporter": "python",
   "pygments_lexer": "ipython3",
   "version": "3.6.8"
  }
 },
 "nbformat": 4,
 "nbformat_minor": 2
}
